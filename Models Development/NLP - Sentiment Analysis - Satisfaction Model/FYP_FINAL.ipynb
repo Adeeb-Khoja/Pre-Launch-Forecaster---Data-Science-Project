{
 "cells": [
  {
   "cell_type": "markdown",
   "metadata": {},
   "source": [
    "### Pre-Launch Forecaster,NLP, Features Extraction and Sentinement Analysis"
   ]
  },
  {
   "cell_type": "code",
   "execution_count": 74,
   "metadata": {},
   "outputs": [],
   "source": [
    "#importing needed libraries\n",
    "import pandas as pd\n",
    "import re\n",
    "import string\n",
    "from sklearn.model_selection import train_test_split\n",
    "import spacy\n",
    "from sklearn import preprocessing\n",
    "import plotly.graph_objects as go\n",
    "import plotly.express as px\n",
    "from tqdm import tqdm\n",
    "from tabulate import tabulate\n",
    "import matplotlib.pyplot as plt\n",
    "from vaderSentiment.vaderSentiment import SentimentIntensityAnalyzer\n",
    "import csv\n",
    "import tweepy as tw\n",
    "nlp = spacy.load('en_core_web_lg')"
   ]
  },
  {
   "cell_type": "code",
   "execution_count": 147,
   "metadata": {},
   "outputs": [
    {
     "data": {
      "text/html": [
       "<div>\n",
       "<style scoped>\n",
       "    .dataframe tbody tr th:only-of-type {\n",
       "        vertical-align: middle;\n",
       "    }\n",
       "\n",
       "    .dataframe tbody tr th {\n",
       "        vertical-align: top;\n",
       "    }\n",
       "\n",
       "    .dataframe thead th {\n",
       "        text-align: right;\n",
       "    }\n",
       "</style>\n",
       "<table border=\"1\" class=\"dataframe\">\n",
       "  <thead>\n",
       "    <tr style=\"text-align: right;\">\n",
       "      <th></th>\n",
       "      <th>Review_Date</th>\n",
       "      <th>Author_Name</th>\n",
       "      <th>Vehicle_Title</th>\n",
       "      <th>Review_Title</th>\n",
       "      <th>Review</th>\n",
       "      <th>Ratings</th>\n",
       "    </tr>\n",
       "  </thead>\n",
       "  <tbody>\n",
       "    <tr>\n",
       "      <th>0</th>\n",
       "      <td>on 03/01/17 13:11 PM (PST)</td>\n",
       "      <td>kris corah</td>\n",
       "      <td>2007 Honda Element SUV LX 4dr SUV AWD (2.4L 4c...</td>\n",
       "      <td>QUIRKY AND PRACTICAL</td>\n",
       "      <td>4 years with our element. Honestly there isn'...</td>\n",
       "      <td>4.0</td>\n",
       "    </tr>\n",
       "    <tr>\n",
       "      <th>1</th>\n",
       "      <td>on 09/02/16 18:22 PM (PDT)</td>\n",
       "      <td>Carol Shafford</td>\n",
       "      <td>2007 Honda Element SUV EX 4dr SUV AWD (2.4L 4c...</td>\n",
       "      <td>Go Anywhere with your Element</td>\n",
       "      <td>I have owned my Element since 2007 when I pur...</td>\n",
       "      <td>5.0</td>\n",
       "    </tr>\n",
       "    <tr>\n",
       "      <th>2</th>\n",
       "      <td>on 11/12/15 08:04 AM (PST)</td>\n",
       "      <td>Gale</td>\n",
       "      <td>2007 Honda Element SUV EX 4dr SUV AWD (2.4L 4c...</td>\n",
       "      <td>Such a cool car!</td>\n",
       "      <td>Lowest maintenance of any vehicle I've ever o...</td>\n",
       "      <td>1.0</td>\n",
       "    </tr>\n",
       "    <tr>\n",
       "      <th>3</th>\n",
       "      <td>on 08/13/15 15:40 PM (PDT)</td>\n",
       "      <td>Judy Eastham</td>\n",
       "      <td>2007 Honda Element SUV LX 4dr SUV (2.4L 4cyl 5M)</td>\n",
       "      <td>From soup to nuts, it does it all.</td>\n",
       "      <td>The only thing I'd change is the drink holder...</td>\n",
       "      <td>5.0</td>\n",
       "    </tr>\n",
       "    <tr>\n",
       "      <th>4</th>\n",
       "      <td>on 03/14/13 10:38 AM (PDT)</td>\n",
       "      <td>boeserkritiker</td>\n",
       "      <td>2007 Honda Element SUV LX 4dr SUV (2.4L 4cyl 5A)</td>\n",
       "      <td>good value</td>\n",
       "      <td>I bought this vehicle new in 2007. got 97K mi...</td>\n",
       "      <td>4.0</td>\n",
       "    </tr>\n",
       "  </tbody>\n",
       "</table>\n",
       "</div>"
      ],
      "text/plain": [
       "                   Review_Date      Author_Name  \\\n",
       "0   on 03/01/17 13:11 PM (PST)      kris corah    \n",
       "1   on 09/02/16 18:22 PM (PDT)  Carol Shafford    \n",
       "2   on 11/12/15 08:04 AM (PST)            Gale    \n",
       "3   on 08/13/15 15:40 PM (PDT)    Judy Eastham    \n",
       "4   on 03/14/13 10:38 AM (PDT)  boeserkritiker    \n",
       "\n",
       "                                       Vehicle_Title  \\\n",
       "0  2007 Honda Element SUV LX 4dr SUV AWD (2.4L 4c...   \n",
       "1  2007 Honda Element SUV EX 4dr SUV AWD (2.4L 4c...   \n",
       "2  2007 Honda Element SUV EX 4dr SUV AWD (2.4L 4c...   \n",
       "3   2007 Honda Element SUV LX 4dr SUV (2.4L 4cyl 5M)   \n",
       "4   2007 Honda Element SUV LX 4dr SUV (2.4L 4cyl 5A)   \n",
       "\n",
       "                         Review_Title  \\\n",
       "0                QUIRKY AND PRACTICAL   \n",
       "1       Go Anywhere with your Element   \n",
       "2                    Such a cool car!   \n",
       "3  From soup to nuts, it does it all.   \n",
       "4                          good value   \n",
       "\n",
       "                                              Review  Ratings  \n",
       "0   4 years with our element. Honestly there isn'...      4.0  \n",
       "1   I have owned my Element since 2007 when I pur...      5.0  \n",
       "2   Lowest maintenance of any vehicle I've ever o...      1.0  \n",
       "3   The only thing I'd change is the drink holder...      5.0  \n",
       "4   I bought this vehicle new in 2007. got 97K mi...      4.0  "
      ]
     },
     "execution_count": 147,
     "metadata": {},
     "output_type": "execute_result"
    }
   ],
   "source": [
    "#reading the dataset into a DataFrame\n",
    "df = pd.read_csv('C:/Users/abdul/Desktop/FYP/Datasets/Scrapped_Car_Reviews_Honda.csv',\n",
    "                 lineterminator='\\n',header=0)\n",
    "#removing the Unammed coulumns and change the mistaken namings\n",
    "\n",
    "df = df.loc[:, ~df.columns.str.contains('^Unnamed')]\n",
    "df = df.rename(columns={'Rating\\r': 'Ratings'})\n",
    "#showing the head of the DataFrame\n",
    "df.head()"
   ]
  },
  {
   "cell_type": "code",
   "execution_count": null,
   "metadata": {},
   "outputs": [],
   "source": []
  },
  {
   "cell_type": "code",
   "execution_count": 148,
   "metadata": {},
   "outputs": [
    {
     "data": {
      "text/html": [
       "<div>\n",
       "<style scoped>\n",
       "    .dataframe tbody tr th:only-of-type {\n",
       "        vertical-align: middle;\n",
       "    }\n",
       "\n",
       "    .dataframe tbody tr th {\n",
       "        vertical-align: top;\n",
       "    }\n",
       "\n",
       "    .dataframe thead th {\n",
       "        text-align: right;\n",
       "    }\n",
       "</style>\n",
       "<table border=\"1\" class=\"dataframe\">\n",
       "  <thead>\n",
       "    <tr style=\"text-align: right;\">\n",
       "      <th></th>\n",
       "      <th>number of missing data</th>\n",
       "      <th>percentage of missing data</th>\n",
       "    </tr>\n",
       "  </thead>\n",
       "  <tbody>\n",
       "    <tr>\n",
       "      <th>Review_Title</th>\n",
       "      <td>1</td>\n",
       "      <td>0.007884</td>\n",
       "    </tr>\n",
       "    <tr>\n",
       "      <th>Review_Date</th>\n",
       "      <td>0</td>\n",
       "      <td>0.000000</td>\n",
       "    </tr>\n",
       "    <tr>\n",
       "      <th>Author_Name</th>\n",
       "      <td>0</td>\n",
       "      <td>0.000000</td>\n",
       "    </tr>\n",
       "    <tr>\n",
       "      <th>Vehicle_Title</th>\n",
       "      <td>0</td>\n",
       "      <td>0.000000</td>\n",
       "    </tr>\n",
       "    <tr>\n",
       "      <th>Review</th>\n",
       "      <td>0</td>\n",
       "      <td>0.000000</td>\n",
       "    </tr>\n",
       "    <tr>\n",
       "      <th>Ratings</th>\n",
       "      <td>0</td>\n",
       "      <td>0.000000</td>\n",
       "    </tr>\n",
       "  </tbody>\n",
       "</table>\n",
       "</div>"
      ],
      "text/plain": [
       "               number of missing data  percentage of missing data\n",
       "Review_Title                        1                    0.007884\n",
       "Review_Date                         0                    0.000000\n",
       "Author_Name                         0                    0.000000\n",
       "Vehicle_Title                       0                    0.000000\n",
       "Review                              0                    0.000000\n",
       "Ratings                             0                    0.000000"
      ]
     },
     "execution_count": 148,
     "metadata": {},
     "output_type": "execute_result"
    }
   ],
   "source": [
    "#checking for missing data and output the number of records and their percentage\n",
    "count = df.isnull().sum().sort_values(ascending = False)\n",
    "percentage=((df.isnull().sum()/len(df)*100)).sort_values(ascending = False)\n",
    "missing_data=pd.concat([count,percentage], axis=1 \n",
    ",keys=[\"number of missing data\",\"percentage of missing data\"])\n",
    "missing_data"
   ]
  },
  {
   "cell_type": "code",
   "execution_count": 149,
   "metadata": {},
   "outputs": [],
   "source": [
    "#merge the review title and the reviews into one column\n",
    "df['reviews']=df['Review_Title']+df['Review']\n",
    "df.reviews=df.reviews.astype(str)"
   ]
  },
  {
   "cell_type": "code",
   "execution_count": 150,
   "metadata": {},
   "outputs": [],
   "source": [
    "#cleaning the reviews texts by removing the unneeded charachters such as\n",
    "# punctuation, uppercases, brackets, numbers and newLines\n",
    "def text_cleaner(text):\n",
    "    text = text.lower()\n",
    "    text = re.sub('\\[.*?\\]','',text)\n",
    "    text = re.sub('[%s]' % re.escape(string.punctuation),'',text)\n",
    "    text = re.sub('\\w*\\d\\w*','',text)\n",
    "    text = re.sub('\\n','',text)\n",
    "    text = re.sub('\\r','',text)\n",
    " \n",
    "\n",
    "    return text\n",
    "cleaned = lambda x: text_cleaner(x)\n"
   ]
  },
  {
   "cell_type": "code",
   "execution_count": 151,
   "metadata": {},
   "outputs": [
    {
     "data": {
      "text/html": [
       "<div>\n",
       "<style scoped>\n",
       "    .dataframe tbody tr th:only-of-type {\n",
       "        vertical-align: middle;\n",
       "    }\n",
       "\n",
       "    .dataframe tbody tr th {\n",
       "        vertical-align: top;\n",
       "    }\n",
       "\n",
       "    .dataframe thead th {\n",
       "        text-align: right;\n",
       "    }\n",
       "</style>\n",
       "<table border=\"1\" class=\"dataframe\">\n",
       "  <thead>\n",
       "    <tr style=\"text-align: right;\">\n",
       "      <th></th>\n",
       "      <th>Review_Date</th>\n",
       "      <th>Author_Name</th>\n",
       "      <th>Vehicle_Title</th>\n",
       "      <th>Review_Title</th>\n",
       "      <th>Review</th>\n",
       "      <th>Ratings</th>\n",
       "      <th>reviews</th>\n",
       "    </tr>\n",
       "  </thead>\n",
       "  <tbody>\n",
       "    <tr>\n",
       "      <th>0</th>\n",
       "      <td>on 03/01/17 13:11 PM (PST)</td>\n",
       "      <td>kris corah</td>\n",
       "      <td>2007 Honda Element SUV LX 4dr SUV AWD (2.4L 4c...</td>\n",
       "      <td>QUIRKY AND PRACTICAL</td>\n",
       "      <td>4 years with our element. Honestly there isn'...</td>\n",
       "      <td>4.0</td>\n",
       "      <td>QUIRKY AND PRACTICAL 4 years with our element....</td>\n",
       "    </tr>\n",
       "  </tbody>\n",
       "</table>\n",
       "</div>"
      ],
      "text/plain": [
       "                   Review_Date  Author_Name  \\\n",
       "0   on 03/01/17 13:11 PM (PST)  kris corah    \n",
       "\n",
       "                                       Vehicle_Title          Review_Title  \\\n",
       "0  2007 Honda Element SUV LX 4dr SUV AWD (2.4L 4c...  QUIRKY AND PRACTICAL   \n",
       "\n",
       "                                              Review  Ratings  \\\n",
       "0   4 years with our element. Honestly there isn'...      4.0   \n",
       "\n",
       "                                             reviews  \n",
       "0  QUIRKY AND PRACTICAL 4 years with our element....  "
      ]
     },
     "execution_count": 151,
     "metadata": {},
     "output_type": "execute_result"
    }
   ],
   "source": [
    "df.head(1)"
   ]
  },
  {
   "cell_type": "code",
   "execution_count": null,
   "metadata": {},
   "outputs": [],
   "source": []
  },
  {
   "cell_type": "code",
   "execution_count": null,
   "metadata": {},
   "outputs": [],
   "source": []
  },
  {
   "cell_type": "code",
   "execution_count": 152,
   "metadata": {},
   "outputs": [
    {
     "data": {
      "text/html": [
       "<div>\n",
       "<style scoped>\n",
       "    .dataframe tbody tr th:only-of-type {\n",
       "        vertical-align: middle;\n",
       "    }\n",
       "\n",
       "    .dataframe tbody tr th {\n",
       "        vertical-align: top;\n",
       "    }\n",
       "\n",
       "    .dataframe thead th {\n",
       "        text-align: right;\n",
       "    }\n",
       "</style>\n",
       "<table border=\"1\" class=\"dataframe\">\n",
       "  <thead>\n",
       "    <tr style=\"text-align: right;\">\n",
       "      <th></th>\n",
       "      <th>Review_Date</th>\n",
       "      <th>Author_Name</th>\n",
       "      <th>Vehicle_Title</th>\n",
       "      <th>Review_Title</th>\n",
       "      <th>Review</th>\n",
       "      <th>Ratings</th>\n",
       "      <th>reviews</th>\n",
       "      <th>Clean_rev</th>\n",
       "    </tr>\n",
       "  </thead>\n",
       "  <tbody>\n",
       "    <tr>\n",
       "      <th>0</th>\n",
       "      <td>on 03/01/17 13:11 PM (PST)</td>\n",
       "      <td>kris corah</td>\n",
       "      <td>2007 Honda Element SUV LX 4dr SUV AWD (2.4L 4c...</td>\n",
       "      <td>QUIRKY AND PRACTICAL</td>\n",
       "      <td>4 years with our element. Honestly there isn'...</td>\n",
       "      <td>4.0</td>\n",
       "      <td>QUIRKY AND PRACTICAL 4 years with our element....</td>\n",
       "      <td>quirky and practical  years with our element h...</td>\n",
       "    </tr>\n",
       "    <tr>\n",
       "      <th>1</th>\n",
       "      <td>on 09/02/16 18:22 PM (PDT)</td>\n",
       "      <td>Carol Shafford</td>\n",
       "      <td>2007 Honda Element SUV EX 4dr SUV AWD (2.4L 4c...</td>\n",
       "      <td>Go Anywhere with your Element</td>\n",
       "      <td>I have owned my Element since 2007 when I pur...</td>\n",
       "      <td>5.0</td>\n",
       "      <td>Go Anywhere with your Element I have owned my ...</td>\n",
       "      <td>go anywhere with your element i have owned my ...</td>\n",
       "    </tr>\n",
       "    <tr>\n",
       "      <th>2</th>\n",
       "      <td>on 11/12/15 08:04 AM (PST)</td>\n",
       "      <td>Gale</td>\n",
       "      <td>2007 Honda Element SUV EX 4dr SUV AWD (2.4L 4c...</td>\n",
       "      <td>Such a cool car!</td>\n",
       "      <td>Lowest maintenance of any vehicle I've ever o...</td>\n",
       "      <td>1.0</td>\n",
       "      <td>Such a cool car! Lowest maintenance of any veh...</td>\n",
       "      <td>such a cool car lowest maintenance of any vehi...</td>\n",
       "    </tr>\n",
       "    <tr>\n",
       "      <th>3</th>\n",
       "      <td>on 08/13/15 15:40 PM (PDT)</td>\n",
       "      <td>Judy Eastham</td>\n",
       "      <td>2007 Honda Element SUV LX 4dr SUV (2.4L 4cyl 5M)</td>\n",
       "      <td>From soup to nuts, it does it all.</td>\n",
       "      <td>The only thing I'd change is the drink holder...</td>\n",
       "      <td>5.0</td>\n",
       "      <td>From soup to nuts, it does it all. The only th...</td>\n",
       "      <td>from soup to nuts it does it all the only thin...</td>\n",
       "    </tr>\n",
       "    <tr>\n",
       "      <th>4</th>\n",
       "      <td>on 03/14/13 10:38 AM (PDT)</td>\n",
       "      <td>boeserkritiker</td>\n",
       "      <td>2007 Honda Element SUV LX 4dr SUV (2.4L 4cyl 5A)</td>\n",
       "      <td>good value</td>\n",
       "      <td>I bought this vehicle new in 2007. got 97K mi...</td>\n",
       "      <td>4.0</td>\n",
       "      <td>good value I bought this vehicle new in 2007. ...</td>\n",
       "      <td>good value i bought this vehicle new in  got  ...</td>\n",
       "    </tr>\n",
       "  </tbody>\n",
       "</table>\n",
       "</div>"
      ],
      "text/plain": [
       "                   Review_Date      Author_Name  \\\n",
       "0   on 03/01/17 13:11 PM (PST)      kris corah    \n",
       "1   on 09/02/16 18:22 PM (PDT)  Carol Shafford    \n",
       "2   on 11/12/15 08:04 AM (PST)            Gale    \n",
       "3   on 08/13/15 15:40 PM (PDT)    Judy Eastham    \n",
       "4   on 03/14/13 10:38 AM (PDT)  boeserkritiker    \n",
       "\n",
       "                                       Vehicle_Title  \\\n",
       "0  2007 Honda Element SUV LX 4dr SUV AWD (2.4L 4c...   \n",
       "1  2007 Honda Element SUV EX 4dr SUV AWD (2.4L 4c...   \n",
       "2  2007 Honda Element SUV EX 4dr SUV AWD (2.4L 4c...   \n",
       "3   2007 Honda Element SUV LX 4dr SUV (2.4L 4cyl 5M)   \n",
       "4   2007 Honda Element SUV LX 4dr SUV (2.4L 4cyl 5A)   \n",
       "\n",
       "                         Review_Title  \\\n",
       "0                QUIRKY AND PRACTICAL   \n",
       "1       Go Anywhere with your Element   \n",
       "2                    Such a cool car!   \n",
       "3  From soup to nuts, it does it all.   \n",
       "4                          good value   \n",
       "\n",
       "                                              Review  Ratings  \\\n",
       "0   4 years with our element. Honestly there isn'...      4.0   \n",
       "1   I have owned my Element since 2007 when I pur...      5.0   \n",
       "2   Lowest maintenance of any vehicle I've ever o...      1.0   \n",
       "3   The only thing I'd change is the drink holder...      5.0   \n",
       "4   I bought this vehicle new in 2007. got 97K mi...      4.0   \n",
       "\n",
       "                                             reviews  \\\n",
       "0  QUIRKY AND PRACTICAL 4 years with our element....   \n",
       "1  Go Anywhere with your Element I have owned my ...   \n",
       "2  Such a cool car! Lowest maintenance of any veh...   \n",
       "3  From soup to nuts, it does it all. The only th...   \n",
       "4  good value I bought this vehicle new in 2007. ...   \n",
       "\n",
       "                                           Clean_rev  \n",
       "0  quirky and practical  years with our element h...  \n",
       "1  go anywhere with your element i have owned my ...  \n",
       "2  such a cool car lowest maintenance of any vehi...  \n",
       "3  from soup to nuts it does it all the only thin...  \n",
       "4  good value i bought this vehicle new in  got  ...  "
      ]
     },
     "execution_count": 152,
     "metadata": {},
     "output_type": "execute_result"
    }
   ],
   "source": [
    "#applying the cleaning fuction to our reviews column and output the results into new column\n",
    "df['Clean_rev'] = pd.DataFrame(df.reviews.apply(cleaned))\n",
    "df.head()"
   ]
  },
  {
   "cell_type": "code",
   "execution_count": 153,
   "metadata": {},
   "outputs": [
    {
     "data": {
      "text/html": [
       "<div>\n",
       "<style scoped>\n",
       "    .dataframe tbody tr th:only-of-type {\n",
       "        vertical-align: middle;\n",
       "    }\n",
       "\n",
       "    .dataframe tbody tr th {\n",
       "        vertical-align: top;\n",
       "    }\n",
       "\n",
       "    .dataframe thead th {\n",
       "        text-align: right;\n",
       "    }\n",
       "</style>\n",
       "<table border=\"1\" class=\"dataframe\">\n",
       "  <thead>\n",
       "    <tr style=\"text-align: right;\">\n",
       "      <th></th>\n",
       "      <th>Review_Date</th>\n",
       "      <th>Author_Name</th>\n",
       "      <th>Vehicle_Title</th>\n",
       "      <th>Ratings</th>\n",
       "      <th>Clean_rev</th>\n",
       "    </tr>\n",
       "  </thead>\n",
       "  <tbody>\n",
       "    <tr>\n",
       "      <th>0</th>\n",
       "      <td>on 03/01/17 13:11 PM (PST)</td>\n",
       "      <td>kris corah</td>\n",
       "      <td>2007 Honda Element SUV LX 4dr SUV AWD (2.4L 4c...</td>\n",
       "      <td>4.0</td>\n",
       "      <td>quirky and practical  years with our element h...</td>\n",
       "    </tr>\n",
       "    <tr>\n",
       "      <th>1</th>\n",
       "      <td>on 09/02/16 18:22 PM (PDT)</td>\n",
       "      <td>Carol Shafford</td>\n",
       "      <td>2007 Honda Element SUV EX 4dr SUV AWD (2.4L 4c...</td>\n",
       "      <td>5.0</td>\n",
       "      <td>go anywhere with your element i have owned my ...</td>\n",
       "    </tr>\n",
       "    <tr>\n",
       "      <th>2</th>\n",
       "      <td>on 11/12/15 08:04 AM (PST)</td>\n",
       "      <td>Gale</td>\n",
       "      <td>2007 Honda Element SUV EX 4dr SUV AWD (2.4L 4c...</td>\n",
       "      <td>1.0</td>\n",
       "      <td>such a cool car lowest maintenance of any vehi...</td>\n",
       "    </tr>\n",
       "    <tr>\n",
       "      <th>3</th>\n",
       "      <td>on 08/13/15 15:40 PM (PDT)</td>\n",
       "      <td>Judy Eastham</td>\n",
       "      <td>2007 Honda Element SUV LX 4dr SUV (2.4L 4cyl 5M)</td>\n",
       "      <td>5.0</td>\n",
       "      <td>from soup to nuts it does it all the only thin...</td>\n",
       "    </tr>\n",
       "    <tr>\n",
       "      <th>4</th>\n",
       "      <td>on 03/14/13 10:38 AM (PDT)</td>\n",
       "      <td>boeserkritiker</td>\n",
       "      <td>2007 Honda Element SUV LX 4dr SUV (2.4L 4cyl 5A)</td>\n",
       "      <td>4.0</td>\n",
       "      <td>good value i bought this vehicle new in  got  ...</td>\n",
       "    </tr>\n",
       "  </tbody>\n",
       "</table>\n",
       "</div>"
      ],
      "text/plain": [
       "                   Review_Date      Author_Name  \\\n",
       "0   on 03/01/17 13:11 PM (PST)      kris corah    \n",
       "1   on 09/02/16 18:22 PM (PDT)  Carol Shafford    \n",
       "2   on 11/12/15 08:04 AM (PST)            Gale    \n",
       "3   on 08/13/15 15:40 PM (PDT)    Judy Eastham    \n",
       "4   on 03/14/13 10:38 AM (PDT)  boeserkritiker    \n",
       "\n",
       "                                       Vehicle_Title  Ratings  \\\n",
       "0  2007 Honda Element SUV LX 4dr SUV AWD (2.4L 4c...      4.0   \n",
       "1  2007 Honda Element SUV EX 4dr SUV AWD (2.4L 4c...      5.0   \n",
       "2  2007 Honda Element SUV EX 4dr SUV AWD (2.4L 4c...      1.0   \n",
       "3   2007 Honda Element SUV LX 4dr SUV (2.4L 4cyl 5M)      5.0   \n",
       "4   2007 Honda Element SUV LX 4dr SUV (2.4L 4cyl 5A)      4.0   \n",
       "\n",
       "                                           Clean_rev  \n",
       "0  quirky and practical  years with our element h...  \n",
       "1  go anywhere with your element i have owned my ...  \n",
       "2  such a cool car lowest maintenance of any vehi...  \n",
       "3  from soup to nuts it does it all the only thin...  \n",
       "4  good value i bought this vehicle new in  got  ...  "
      ]
     },
     "execution_count": 153,
     "metadata": {},
     "output_type": "execute_result"
    }
   ],
   "source": [
    "#now we drop the unnecessary columns to keep our dataframe clean\n",
    "df=df.drop(['reviews','Review','Review_Title'], axis = 1) \n",
    "df.head()"
   ]
  },
  {
   "cell_type": "code",
   "execution_count": 154,
   "metadata": {},
   "outputs": [
    {
     "data": {
      "text/html": [
       "<span class=\"tex2jax_ignore\"><svg xmlns=\"http://www.w3.org/2000/svg\" xmlns:xlink=\"http://www.w3.org/1999/xlink\" xml:lang=\"en\" id=\"28292b247b5a46c5a8a40857c224e1fd-0\" class=\"displacy\" width=\"925\" height=\"399.5\" direction=\"ltr\" style=\"max-width: none; height: 399.5px; color: #000000; background: #ffffff; font-family: Arial; direction: ltr\">\n",
       "<text class=\"displacy-token\" fill=\"currentColor\" text-anchor=\"middle\" y=\"309.5\">\n",
       "    <tspan class=\"displacy-word\" fill=\"currentColor\" x=\"50\">SpaCy</tspan>\n",
       "    <tspan class=\"displacy-tag\" dy=\"2em\" fill=\"currentColor\" x=\"50\">PROPN</tspan>\n",
       "</text>\n",
       "\n",
       "<text class=\"displacy-token\" fill=\"currentColor\" text-anchor=\"middle\" y=\"309.5\">\n",
       "    <tspan class=\"displacy-word\" fill=\"currentColor\" x=\"225\">is</tspan>\n",
       "    <tspan class=\"displacy-tag\" dy=\"2em\" fill=\"currentColor\" x=\"225\">AUX</tspan>\n",
       "</text>\n",
       "\n",
       "<text class=\"displacy-token\" fill=\"currentColor\" text-anchor=\"middle\" y=\"309.5\">\n",
       "    <tspan class=\"displacy-word\" fill=\"currentColor\" x=\"400\">a</tspan>\n",
       "    <tspan class=\"displacy-tag\" dy=\"2em\" fill=\"currentColor\" x=\"400\">DET</tspan>\n",
       "</text>\n",
       "\n",
       "<text class=\"displacy-token\" fill=\"currentColor\" text-anchor=\"middle\" y=\"309.5\">\n",
       "    <tspan class=\"displacy-word\" fill=\"currentColor\" x=\"575\">great</tspan>\n",
       "    <tspan class=\"displacy-tag\" dy=\"2em\" fill=\"currentColor\" x=\"575\">ADJ</tspan>\n",
       "</text>\n",
       "\n",
       "<text class=\"displacy-token\" fill=\"currentColor\" text-anchor=\"middle\" y=\"309.5\">\n",
       "    <tspan class=\"displacy-word\" fill=\"currentColor\" x=\"750\">library</tspan>\n",
       "    <tspan class=\"displacy-tag\" dy=\"2em\" fill=\"currentColor\" x=\"750\">NOUN</tspan>\n",
       "</text>\n",
       "\n",
       "<g class=\"displacy-arrow\">\n",
       "    <path class=\"displacy-arc\" id=\"arrow-28292b247b5a46c5a8a40857c224e1fd-0-0\" stroke-width=\"2px\" d=\"M70,264.5 C70,177.0 215.0,177.0 215.0,264.5\" fill=\"none\" stroke=\"currentColor\"/>\n",
       "    <text dy=\"1.25em\" style=\"font-size: 0.8em; letter-spacing: 1px\">\n",
       "        <textPath xlink:href=\"#arrow-28292b247b5a46c5a8a40857c224e1fd-0-0\" class=\"displacy-label\" startOffset=\"50%\" side=\"left\" fill=\"currentColor\" text-anchor=\"middle\">nsubj</textPath>\n",
       "    </text>\n",
       "    <path class=\"displacy-arrowhead\" d=\"M70,266.5 L62,254.5 78,254.5\" fill=\"currentColor\"/>\n",
       "</g>\n",
       "\n",
       "<g class=\"displacy-arrow\">\n",
       "    <path class=\"displacy-arc\" id=\"arrow-28292b247b5a46c5a8a40857c224e1fd-0-1\" stroke-width=\"2px\" d=\"M420,264.5 C420,89.5 745.0,89.5 745.0,264.5\" fill=\"none\" stroke=\"currentColor\"/>\n",
       "    <text dy=\"1.25em\" style=\"font-size: 0.8em; letter-spacing: 1px\">\n",
       "        <textPath xlink:href=\"#arrow-28292b247b5a46c5a8a40857c224e1fd-0-1\" class=\"displacy-label\" startOffset=\"50%\" side=\"left\" fill=\"currentColor\" text-anchor=\"middle\">det</textPath>\n",
       "    </text>\n",
       "    <path class=\"displacy-arrowhead\" d=\"M420,266.5 L412,254.5 428,254.5\" fill=\"currentColor\"/>\n",
       "</g>\n",
       "\n",
       "<g class=\"displacy-arrow\">\n",
       "    <path class=\"displacy-arc\" id=\"arrow-28292b247b5a46c5a8a40857c224e1fd-0-2\" stroke-width=\"2px\" d=\"M595,264.5 C595,177.0 740.0,177.0 740.0,264.5\" fill=\"none\" stroke=\"currentColor\"/>\n",
       "    <text dy=\"1.25em\" style=\"font-size: 0.8em; letter-spacing: 1px\">\n",
       "        <textPath xlink:href=\"#arrow-28292b247b5a46c5a8a40857c224e1fd-0-2\" class=\"displacy-label\" startOffset=\"50%\" side=\"left\" fill=\"currentColor\" text-anchor=\"middle\">amod</textPath>\n",
       "    </text>\n",
       "    <path class=\"displacy-arrowhead\" d=\"M595,266.5 L587,254.5 603,254.5\" fill=\"currentColor\"/>\n",
       "</g>\n",
       "\n",
       "<g class=\"displacy-arrow\">\n",
       "    <path class=\"displacy-arc\" id=\"arrow-28292b247b5a46c5a8a40857c224e1fd-0-3\" stroke-width=\"2px\" d=\"M245,264.5 C245,2.0 750.0,2.0 750.0,264.5\" fill=\"none\" stroke=\"currentColor\"/>\n",
       "    <text dy=\"1.25em\" style=\"font-size: 0.8em; letter-spacing: 1px\">\n",
       "        <textPath xlink:href=\"#arrow-28292b247b5a46c5a8a40857c224e1fd-0-3\" class=\"displacy-label\" startOffset=\"50%\" side=\"left\" fill=\"currentColor\" text-anchor=\"middle\">attr</textPath>\n",
       "    </text>\n",
       "    <path class=\"displacy-arrowhead\" d=\"M750.0,266.5 L758.0,254.5 742.0,254.5\" fill=\"currentColor\"/>\n",
       "</g>\n",
       "</svg></span>"
      ],
      "text/plain": [
       "<IPython.core.display.HTML object>"
      ]
     },
     "metadata": {},
     "output_type": "display_data"
    }
   ],
   "source": [
    "txt = 'SpaCy is a great library'\n",
    "doc = nlp(txt)\n",
    "spacy.displacy.render(doc,style='dep')"
   ]
  },
  {
   "cell_type": "code",
   "execution_count": 155,
   "metadata": {},
   "outputs": [
    {
     "name": "stderr",
     "output_type": "stream",
     "text": [
      "100%|████████████████████████████████████████████████████████████████████████████| 12684/12684 [04:49<00:00, 43.77it/s]\n"
     ]
    },
    {
     "data": {
      "text/html": [
       "<div>\n",
       "<style scoped>\n",
       "    .dataframe tbody tr th:only-of-type {\n",
       "        vertical-align: middle;\n",
       "    }\n",
       "\n",
       "    .dataframe tbody tr th {\n",
       "        vertical-align: top;\n",
       "    }\n",
       "\n",
       "    .dataframe thead th {\n",
       "        text-align: right;\n",
       "    }\n",
       "</style>\n",
       "<table border=\"1\" class=\"dataframe\">\n",
       "  <thead>\n",
       "    <tr style=\"text-align: right;\">\n",
       "      <th></th>\n",
       "      <th>Review_Date</th>\n",
       "      <th>Author_Name</th>\n",
       "      <th>Vehicle_Title</th>\n",
       "      <th>Ratings</th>\n",
       "      <th>Clean_rev</th>\n",
       "      <th>FeaturesDiscussed</th>\n",
       "    </tr>\n",
       "  </thead>\n",
       "  <tbody>\n",
       "    <tr>\n",
       "      <th>0</th>\n",
       "      <td>on 03/01/17 13:11 PM (PST)</td>\n",
       "      <td>kris corah</td>\n",
       "      <td>2007 Honda Element SUV LX 4dr SUV AWD (2.4L 4c...</td>\n",
       "      <td>4.0</td>\n",
       "      <td>quirky and practical  years with our element h...</td>\n",
       "      <td>[engine cycle, transmission road, road noise, ...</td>\n",
       "    </tr>\n",
       "    <tr>\n",
       "      <th>1</th>\n",
       "      <td>on 09/02/16 18:22 PM (PDT)</td>\n",
       "      <td>Carol Shafford</td>\n",
       "      <td>2007 Honda Element SUV EX 4dr SUV AWD (2.4L 4c...</td>\n",
       "      <td>5.0</td>\n",
       "      <td>go anywhere with your element i have owned my ...</td>\n",
       "      <td>[wheel drive, drive version, safety features, ...</td>\n",
       "    </tr>\n",
       "    <tr>\n",
       "      <th>2</th>\n",
       "      <td>on 11/12/15 08:04 AM (PST)</td>\n",
       "      <td>Gale</td>\n",
       "      <td>2007 Honda Element SUV EX 4dr SUV AWD (2.4L 4c...</td>\n",
       "      <td>1.0</td>\n",
       "      <td>such a cool car lowest maintenance of any vehi...</td>\n",
       "      <td>[cargo space]</td>\n",
       "    </tr>\n",
       "    <tr>\n",
       "      <th>3</th>\n",
       "      <td>on 08/13/15 15:40 PM (PDT)</td>\n",
       "      <td>Judy Eastham</td>\n",
       "      <td>2007 Honda Element SUV LX 4dr SUV (2.4L 4cyl 5M)</td>\n",
       "      <td>5.0</td>\n",
       "      <td>from soup to nuts it does it all the only thin...</td>\n",
       "      <td>[d change, drink holders, cargo room, water he...</td>\n",
       "    </tr>\n",
       "    <tr>\n",
       "      <th>4</th>\n",
       "      <td>on 03/14/13 10:38 AM (PDT)</td>\n",
       "      <td>boeserkritiker</td>\n",
       "      <td>2007 Honda Element SUV LX 4dr SUV (2.4L 4cyl 5A)</td>\n",
       "      <td>4.0</td>\n",
       "      <td>good value i bought this vehicle new in  got  ...</td>\n",
       "      <td>[  exceptions, door design, parking spots, chi...</td>\n",
       "    </tr>\n",
       "  </tbody>\n",
       "</table>\n",
       "</div>"
      ],
      "text/plain": [
       "                   Review_Date      Author_Name  \\\n",
       "0   on 03/01/17 13:11 PM (PST)      kris corah    \n",
       "1   on 09/02/16 18:22 PM (PDT)  Carol Shafford    \n",
       "2   on 11/12/15 08:04 AM (PST)            Gale    \n",
       "3   on 08/13/15 15:40 PM (PDT)    Judy Eastham    \n",
       "4   on 03/14/13 10:38 AM (PDT)  boeserkritiker    \n",
       "\n",
       "                                       Vehicle_Title  Ratings  \\\n",
       "0  2007 Honda Element SUV LX 4dr SUV AWD (2.4L 4c...      4.0   \n",
       "1  2007 Honda Element SUV EX 4dr SUV AWD (2.4L 4c...      5.0   \n",
       "2  2007 Honda Element SUV EX 4dr SUV AWD (2.4L 4c...      1.0   \n",
       "3   2007 Honda Element SUV LX 4dr SUV (2.4L 4cyl 5M)      5.0   \n",
       "4   2007 Honda Element SUV LX 4dr SUV (2.4L 4cyl 5A)      4.0   \n",
       "\n",
       "                                           Clean_rev  \\\n",
       "0  quirky and practical  years with our element h...   \n",
       "1  go anywhere with your element i have owned my ...   \n",
       "2  such a cool car lowest maintenance of any vehi...   \n",
       "3  from soup to nuts it does it all the only thin...   \n",
       "4  good value i bought this vehicle new in  got  ...   \n",
       "\n",
       "                                   FeaturesDiscussed  \n",
       "0  [engine cycle, transmission road, road noise, ...  \n",
       "1  [wheel drive, drive version, safety features, ...  \n",
       "2                                      [cargo space]  \n",
       "3  [d change, drink holders, cargo room, water he...  \n",
       "4  [  exceptions, door design, parking spots, chi...  "
      ]
     },
     "execution_count": 155,
     "metadata": {},
     "output_type": "execute_result"
    }
   ],
   "source": [
    "#now we do feature extraction through NLP techniques using SpaCy library\n",
    "features = []\n",
    "for x in tqdm(range(len(df['Clean_rev']))):\n",
    "#initialize set of lists\n",
    "    Adjectival_pairs = []\n",
    "    Adverbial_pairs = []\n",
    "    compound_pairs = []\n",
    "    xcomp_pairs = []\n",
    "    Negation_pairs = []\n",
    "    if len(str(df['Clean_rev'][x])) != 0:\n",
    "        lines=str(df['Clean_rev'][x])\n",
    "        doc = nlp(lines)\n",
    "        str1=''\n",
    "        str2=''\n",
    "#tokenization/parsing\n",
    "        for token in doc:\n",
    "            if token.pos_ is 'NOUN':\n",
    "                for j in token.lefts:\n",
    "                    if j.dep_ =='compound':\n",
    "                        compound_pairs.append((j.text+' '+token.text))\n",
    "                    if j.dep_ is 'amod' and j.pos_ is 'ADJ':\n",
    "                        str1 = j.text+' '+token.text\n",
    "                        for k in j.lefts:\n",
    "                            if k.dep_ is 'advmod':\n",
    "                                str2 = k.text+' '+j.text+' '+token.text\n",
    "                                Adjectival_pairs.append(k.text+' '+j.text+' '+token.text)\n",
    "                                mtch = re.search(re.escape(str1),re.escape(str2))\n",
    "                                if mtch is not None:\n",
    "                                    Adjectival_pairs.remove(str1)\n",
    "            if token.pos_ is 'VERB':\n",
    "                        for j in token.lefts:\n",
    "                            if j.dep_ is 'advmod' and j.pos_ is 'ADV':\n",
    "                                Adverbial_pairs.append(j.text+' '+token.text)\n",
    "                            if j.dep_ is 'neg' and j.pos_ is 'ADV':\n",
    "                                Negation_pairs.append(j.text+' '+token.text)\n",
    "                        for j in token.rights:\n",
    "                            if j.dep_ is 'advmod'and j.pos_ is 'ADV':\n",
    "                                Adverbial_pairs.append(token.text+' '+j.text)\n",
    "                            if j.dep_ is 'neg' and j.pos_ is 'ADV':\n",
    "                                Negation_pairs.append(j.text+' '+token.text)\n",
    "            if token.pos_ is 'ADJ':\n",
    "                for j,h in zip(token.rights,token.lefts):\n",
    "                    if j.dep_ is 'xcomp' and h.dep_ is not 'neg':\n",
    "                        for k in j.lefts:\n",
    "                            if k.dep_ is 'aux':\n",
    "                                xcomp_pairs.append(token.text+' '+k.text+' '+j.text)\n",
    "                    elif j.dep_ is 'xcomp' and h.dep_ is 'neg':\n",
    "                        if k.dep_ is 'aux':\n",
    "                                Negation_pairs.append(h.text +' '+token.text+' '+k.text+' '+j.text)\n",
    "        pairs = list(set(Adjectival_pairs+Adverbial_pairs+Negation_pairs+xcomp_pairs))\n",
    "        for i in range(len(pairs)):\n",
    "            if len(compound_pairs)!=0:\n",
    "                for comp in compound_pairs:\n",
    "                    mtch = re.search(re.escape(comp[1]),re.escape(pairs[i]))\n",
    "                    if mtch is not None:\n",
    "                        pairs[i] = pairs[i].replace(mtch.group(),comp[0])\n",
    "        \n",
    "            \n",
    "    features.append(compound_pairs)\n",
    "df['FeaturesDiscussed'] = features\n",
    "                            \n",
    "df.head()"
   ]
  },
  {
   "cell_type": "code",
   "execution_count": 159,
   "metadata": {},
   "outputs": [
    {
     "data": {
      "text/html": [
       "<div>\n",
       "<style scoped>\n",
       "    .dataframe tbody tr th:only-of-type {\n",
       "        vertical-align: middle;\n",
       "    }\n",
       "\n",
       "    .dataframe tbody tr th {\n",
       "        vertical-align: top;\n",
       "    }\n",
       "\n",
       "    .dataframe thead th {\n",
       "        text-align: right;\n",
       "    }\n",
       "</style>\n",
       "<table border=\"1\" class=\"dataframe\">\n",
       "  <thead>\n",
       "    <tr style=\"text-align: right;\">\n",
       "      <th></th>\n",
       "      <th>Review_Date</th>\n",
       "      <th>Author_Name</th>\n",
       "      <th>Vehicle_Title</th>\n",
       "      <th>Ratings</th>\n",
       "      <th>Clean_rev</th>\n",
       "      <th>FeaturesDiscussed</th>\n",
       "      <th>Sentiment</th>\n",
       "      <th>Compound_Score</th>\n",
       "    </tr>\n",
       "  </thead>\n",
       "  <tbody>\n",
       "    <tr>\n",
       "      <th>0</th>\n",
       "      <td>on 03/01/17 13:11 PM (PST)</td>\n",
       "      <td>kris corah</td>\n",
       "      <td>2007 Honda Element SUV LX 4dr SUV AWD (2.4L 4c...</td>\n",
       "      <td>4.000</td>\n",
       "      <td>quirky and practical  years with our element h...</td>\n",
       "      <td>[engine cycle, transmission road, road noise, ...</td>\n",
       "      <td>Positive</td>\n",
       "      <td>0.9928</td>\n",
       "    </tr>\n",
       "    <tr>\n",
       "      <th>1</th>\n",
       "      <td>on 09/02/16 18:22 PM (PDT)</td>\n",
       "      <td>Carol Shafford</td>\n",
       "      <td>2007 Honda Element SUV EX 4dr SUV AWD (2.4L 4c...</td>\n",
       "      <td>5.000</td>\n",
       "      <td>go anywhere with your element i have owned my ...</td>\n",
       "      <td>[wheel drive, drive version, safety features, ...</td>\n",
       "      <td>Positive</td>\n",
       "      <td>0.9764</td>\n",
       "    </tr>\n",
       "    <tr>\n",
       "      <th>2</th>\n",
       "      <td>on 11/12/15 08:04 AM (PST)</td>\n",
       "      <td>Gale</td>\n",
       "      <td>2007 Honda Element SUV EX 4dr SUV AWD (2.4L 4c...</td>\n",
       "      <td>1.000</td>\n",
       "      <td>such a cool car lowest maintenance of any vehi...</td>\n",
       "      <td>[cargo space]</td>\n",
       "      <td>Positive</td>\n",
       "      <td>0.9650</td>\n",
       "    </tr>\n",
       "    <tr>\n",
       "      <th>3</th>\n",
       "      <td>on 08/13/15 15:40 PM (PDT)</td>\n",
       "      <td>Judy Eastham</td>\n",
       "      <td>2007 Honda Element SUV LX 4dr SUV (2.4L 4cyl 5M)</td>\n",
       "      <td>5.000</td>\n",
       "      <td>from soup to nuts it does it all the only thin...</td>\n",
       "      <td>[d change, drink holders, cargo room, water he...</td>\n",
       "      <td>Positive</td>\n",
       "      <td>0.7307</td>\n",
       "    </tr>\n",
       "    <tr>\n",
       "      <th>4</th>\n",
       "      <td>on 03/14/13 10:38 AM (PDT)</td>\n",
       "      <td>boeserkritiker</td>\n",
       "      <td>2007 Honda Element SUV LX 4dr SUV (2.4L 4cyl 5A)</td>\n",
       "      <td>4.000</td>\n",
       "      <td>good value i bought this vehicle new in  got  ...</td>\n",
       "      <td>[  exceptions, door design, parking spots, chi...</td>\n",
       "      <td>Neutral</td>\n",
       "      <td>0.1779</td>\n",
       "    </tr>\n",
       "    <tr>\n",
       "      <th>5</th>\n",
       "      <td>on 10/21/12 20:54 PM (PDT)</td>\n",
       "      <td>sarasmydog</td>\n",
       "      <td>2007 Honda Element SUV EX 4dr SUV AWD (2.4L 4c...</td>\n",
       "      <td>4.750</td>\n",
       "      <td>ex awd atomic blue element automatic although...</td>\n",
       "      <td>[gas mileage]</td>\n",
       "      <td>Positive</td>\n",
       "      <td>0.9260</td>\n",
       "    </tr>\n",
       "    <tr>\n",
       "      <th>6</th>\n",
       "      <td>on 01/15/11 14:14 PM (PST)</td>\n",
       "      <td>miamioolite</td>\n",
       "      <td>2007 Honda Element SUV EX 4dr SUV AWD (2.4L 4c...</td>\n",
       "      <td>3.875</td>\n",
       "      <td>good car not quite as advertised i had this ca...</td>\n",
       "      <td>[build quality, wheel drive, cargo capacity, a...</td>\n",
       "      <td>Positive</td>\n",
       "      <td>0.7762</td>\n",
       "    </tr>\n",
       "    <tr>\n",
       "      <th>7</th>\n",
       "      <td>on 09/12/10 00:00 AM (PDT)</td>\n",
       "      <td>\"D\"</td>\n",
       "      <td>2007 Honda Element SUV SC 4dr SUV (2.4L 4cyl 5A)</td>\n",
       "      <td>4.625</td>\n",
       "      <td>a great used car to buy i bought my  honda ele...</td>\n",
       "      <td>[  element, honda element, cadillac ride, prop...</td>\n",
       "      <td>Positive</td>\n",
       "      <td>0.9905</td>\n",
       "    </tr>\n",
       "    <tr>\n",
       "      <th>8</th>\n",
       "      <td>on 07/23/10 12:05 PM (PDT)</td>\n",
       "      <td>jharris09</td>\n",
       "      <td>2007 Honda Element SUV SC 4dr SUV (2.4L 4cyl 5A)</td>\n",
       "      <td>4.500</td>\n",
       "      <td>one of my favorites the element lacks in featu...</td>\n",
       "      <td>[auto headlights, power seats, gas mileage, ma...</td>\n",
       "      <td>Positive</td>\n",
       "      <td>0.9617</td>\n",
       "    </tr>\n",
       "    <tr>\n",
       "      <th>9</th>\n",
       "      <td>on 04/26/10 23:32 PM (PDT)</td>\n",
       "      <td>James</td>\n",
       "      <td>2007 Honda Element SUV EX 4dr SUV (2.4L 4cyl 5A)</td>\n",
       "      <td>3.875</td>\n",
       "      <td>element fell in love with this vehicle at the...</td>\n",
       "      <td>[]</td>\n",
       "      <td>Positive</td>\n",
       "      <td>0.6310</td>\n",
       "    </tr>\n",
       "    <tr>\n",
       "      <th>10</th>\n",
       "      <td>on 03/25/10 16:13 PM (PDT)</td>\n",
       "      <td>msvic</td>\n",
       "      <td>2007 Honda Element SUV SC 4dr SUV (2.4L 4cyl 5M)</td>\n",
       "      <td>4.875</td>\n",
       "      <td>little blue bread truck i truly concur with th...</td>\n",
       "      <td>[bread truck, newsweek column,   model, dirt r...</td>\n",
       "      <td>Positive</td>\n",
       "      <td>0.9684</td>\n",
       "    </tr>\n",
       "    <tr>\n",
       "      <th>11</th>\n",
       "      <td>on 01/24/10 10:00 AM (PST)</td>\n",
       "      <td>hatchva</td>\n",
       "      <td>2007 Honda Element SUV EX 4dr SUV AWD (2.4L 4c...</td>\n",
       "      <td>4.875</td>\n",
       "      <td>best vehicle i have ever owned i have put  mil...</td>\n",
       "      <td>[  vehicles, ski trip, virginia mountains, mic...</td>\n",
       "      <td>Positive</td>\n",
       "      <td>0.9721</td>\n",
       "    </tr>\n",
       "    <tr>\n",
       "      <th>12</th>\n",
       "      <td>on 01/10/10 17:16 PM (PST)</td>\n",
       "      <td>Mooshi</td>\n",
       "      <td>2007 Honda Element SUV EX 4dr SUV AWD (2.4L 4c...</td>\n",
       "      <td>4.750</td>\n",
       "      <td>fantastic all purpose vehicle i have driven my...</td>\n",
       "      <td>[purpose vehicle,   years, factory tires, hood...</td>\n",
       "      <td>Positive</td>\n",
       "      <td>0.9792</td>\n",
       "    </tr>\n",
       "    <tr>\n",
       "      <th>13</th>\n",
       "      <td>on 12/14/09 18:34 PM (PST)</td>\n",
       "      <td>Isaias Medina</td>\n",
       "      <td>2007 Honda Element SUV EX 4dr SUV AWD (2.4L 4c...</td>\n",
       "      <td>4.250</td>\n",
       "      <td>the element not so great i bought the gold loo...</td>\n",
       "      <td>[cargo room, room capabilities, tire pressure,...</td>\n",
       "      <td>Positive</td>\n",
       "      <td>0.5310</td>\n",
       "    </tr>\n",
       "    <tr>\n",
       "      <th>14</th>\n",
       "      <td>on 07/31/09 20:39 PM (PDT)</td>\n",
       "      <td>KimO</td>\n",
       "      <td>2007 Honda Element SUV EX 4dr SUV AWD (2.4L 4c...</td>\n",
       "      <td>4.750</td>\n",
       "      <td>love it we just bought our element after many ...</td>\n",
       "      <td>[gas mileage, baby shades, sun shades]</td>\n",
       "      <td>Positive</td>\n",
       "      <td>0.9774</td>\n",
       "    </tr>\n",
       "    <tr>\n",
       "      <th>15</th>\n",
       "      <td>on 06/21/09 21:09 PM (PDT)</td>\n",
       "      <td>rpowell</td>\n",
       "      <td>2007 Honda Element SUV SC 4dr SUV (2.4L 4cyl 5A)</td>\n",
       "      <td>4.875</td>\n",
       "      <td>the little toaster so like everyone else my ca...</td>\n",
       "      <td>[theater style, style seating]</td>\n",
       "      <td>Positive</td>\n",
       "      <td>0.9898</td>\n",
       "    </tr>\n",
       "    <tr>\n",
       "      <th>16</th>\n",
       "      <td>on 06/17/09 11:05 AM (PDT)</td>\n",
       "      <td>element10</td>\n",
       "      <td>2007 Honda Element SUV EX 4dr SUV (2.4L 4cyl 5A)</td>\n",
       "      <td>4.875</td>\n",
       "      <td>love my element this is one incredible vehicle...</td>\n",
       "      <td>[monster beast]</td>\n",
       "      <td>Positive</td>\n",
       "      <td>0.9292</td>\n",
       "    </tr>\n",
       "    <tr>\n",
       "      <th>17</th>\n",
       "      <td>on 05/19/09 08:27 AM (PDT)</td>\n",
       "      <td>in love w/ a element</td>\n",
       "      <td>2007 Honda Element SUV SC 4dr SUV (2.4L 4cyl 5A)</td>\n",
       "      <td>5.000</td>\n",
       "      <td>dont knock it till u try it i fell in love wit...</td>\n",
       "      <td>[]</td>\n",
       "      <td>Positive</td>\n",
       "      <td>0.9192</td>\n",
       "    </tr>\n",
       "    <tr>\n",
       "      <th>18</th>\n",
       "      <td>on 02/14/09 14:25 PM (PST)</td>\n",
       "      <td>iPhoneholio</td>\n",
       "      <td>2007 Honda Element SUV SC 4dr SUV (2.4L 4cyl 5A)</td>\n",
       "      <td>3.375</td>\n",
       "      <td>element sc  too many problems cons the element...</td>\n",
       "      <td>[components tires,    pads,   speedometer, mil...</td>\n",
       "      <td>Negative</td>\n",
       "      <td>-0.7288</td>\n",
       "    </tr>\n",
       "    <tr>\n",
       "      <th>19</th>\n",
       "      <td>on 08/08/08 10:43 AM (PDT)</td>\n",
       "      <td>Bobby</td>\n",
       "      <td>2007 Honda Element SUV EX 4dr SUV (2.4L 4cyl 5A)</td>\n",
       "      <td>3.875</td>\n",
       "      <td>element i love my honda element this is my se...</td>\n",
       "      <td>[  element, honda element, master cylinder, br...</td>\n",
       "      <td>Positive</td>\n",
       "      <td>0.8932</td>\n",
       "    </tr>\n",
       "  </tbody>\n",
       "</table>\n",
       "</div>"
      ],
      "text/plain": [
       "                    Review_Date            Author_Name  \\\n",
       "0    on 03/01/17 13:11 PM (PST)            kris corah    \n",
       "1    on 09/02/16 18:22 PM (PDT)        Carol Shafford    \n",
       "2    on 11/12/15 08:04 AM (PST)                  Gale    \n",
       "3    on 08/13/15 15:40 PM (PDT)          Judy Eastham    \n",
       "4    on 03/14/13 10:38 AM (PDT)        boeserkritiker    \n",
       "5    on 10/21/12 20:54 PM (PDT)            sarasmydog    \n",
       "6    on 01/15/11 14:14 PM (PST)           miamioolite    \n",
       "7    on 09/12/10 00:00 AM (PDT)                   \"D\"    \n",
       "8    on 07/23/10 12:05 PM (PDT)             jharris09    \n",
       "9    on 04/26/10 23:32 PM (PDT)                 James    \n",
       "10   on 03/25/10 16:13 PM (PDT)                 msvic    \n",
       "11   on 01/24/10 10:00 AM (PST)               hatchva    \n",
       "12   on 01/10/10 17:16 PM (PST)                Mooshi    \n",
       "13   on 12/14/09 18:34 PM (PST)         Isaias Medina    \n",
       "14   on 07/31/09 20:39 PM (PDT)                  KimO    \n",
       "15   on 06/21/09 21:09 PM (PDT)               rpowell    \n",
       "16   on 06/17/09 11:05 AM (PDT)             element10    \n",
       "17   on 05/19/09 08:27 AM (PDT)  in love w/ a element    \n",
       "18   on 02/14/09 14:25 PM (PST)           iPhoneholio    \n",
       "19   on 08/08/08 10:43 AM (PDT)                 Bobby    \n",
       "\n",
       "                                        Vehicle_Title  Ratings  \\\n",
       "0   2007 Honda Element SUV LX 4dr SUV AWD (2.4L 4c...    4.000   \n",
       "1   2007 Honda Element SUV EX 4dr SUV AWD (2.4L 4c...    5.000   \n",
       "2   2007 Honda Element SUV EX 4dr SUV AWD (2.4L 4c...    1.000   \n",
       "3    2007 Honda Element SUV LX 4dr SUV (2.4L 4cyl 5M)    5.000   \n",
       "4    2007 Honda Element SUV LX 4dr SUV (2.4L 4cyl 5A)    4.000   \n",
       "5   2007 Honda Element SUV EX 4dr SUV AWD (2.4L 4c...    4.750   \n",
       "6   2007 Honda Element SUV EX 4dr SUV AWD (2.4L 4c...    3.875   \n",
       "7    2007 Honda Element SUV SC 4dr SUV (2.4L 4cyl 5A)    4.625   \n",
       "8    2007 Honda Element SUV SC 4dr SUV (2.4L 4cyl 5A)    4.500   \n",
       "9    2007 Honda Element SUV EX 4dr SUV (2.4L 4cyl 5A)    3.875   \n",
       "10   2007 Honda Element SUV SC 4dr SUV (2.4L 4cyl 5M)    4.875   \n",
       "11  2007 Honda Element SUV EX 4dr SUV AWD (2.4L 4c...    4.875   \n",
       "12  2007 Honda Element SUV EX 4dr SUV AWD (2.4L 4c...    4.750   \n",
       "13  2007 Honda Element SUV EX 4dr SUV AWD (2.4L 4c...    4.250   \n",
       "14  2007 Honda Element SUV EX 4dr SUV AWD (2.4L 4c...    4.750   \n",
       "15   2007 Honda Element SUV SC 4dr SUV (2.4L 4cyl 5A)    4.875   \n",
       "16   2007 Honda Element SUV EX 4dr SUV (2.4L 4cyl 5A)    4.875   \n",
       "17   2007 Honda Element SUV SC 4dr SUV (2.4L 4cyl 5A)    5.000   \n",
       "18   2007 Honda Element SUV SC 4dr SUV (2.4L 4cyl 5A)    3.375   \n",
       "19   2007 Honda Element SUV EX 4dr SUV (2.4L 4cyl 5A)    3.875   \n",
       "\n",
       "                                            Clean_rev  \\\n",
       "0   quirky and practical  years with our element h...   \n",
       "1   go anywhere with your element i have owned my ...   \n",
       "2   such a cool car lowest maintenance of any vehi...   \n",
       "3   from soup to nuts it does it all the only thin...   \n",
       "4   good value i bought this vehicle new in  got  ...   \n",
       "5    ex awd atomic blue element automatic although...   \n",
       "6   good car not quite as advertised i had this ca...   \n",
       "7   a great used car to buy i bought my  honda ele...   \n",
       "8   one of my favorites the element lacks in featu...   \n",
       "9    element fell in love with this vehicle at the...   \n",
       "10  little blue bread truck i truly concur with th...   \n",
       "11  best vehicle i have ever owned i have put  mil...   \n",
       "12  fantastic all purpose vehicle i have driven my...   \n",
       "13  the element not so great i bought the gold loo...   \n",
       "14  love it we just bought our element after many ...   \n",
       "15  the little toaster so like everyone else my ca...   \n",
       "16  love my element this is one incredible vehicle...   \n",
       "17  dont knock it till u try it i fell in love wit...   \n",
       "18  element sc  too many problems cons the element...   \n",
       "19   element i love my honda element this is my se...   \n",
       "\n",
       "                                    FeaturesDiscussed Sentiment  \\\n",
       "0   [engine cycle, transmission road, road noise, ...  Positive   \n",
       "1   [wheel drive, drive version, safety features, ...  Positive   \n",
       "2                                       [cargo space]  Positive   \n",
       "3   [d change, drink holders, cargo room, water he...  Positive   \n",
       "4   [  exceptions, door design, parking spots, chi...   Neutral   \n",
       "5                                       [gas mileage]  Positive   \n",
       "6   [build quality, wheel drive, cargo capacity, a...  Positive   \n",
       "7   [  element, honda element, cadillac ride, prop...  Positive   \n",
       "8   [auto headlights, power seats, gas mileage, ma...  Positive   \n",
       "9                                                  []  Positive   \n",
       "10  [bread truck, newsweek column,   model, dirt r...  Positive   \n",
       "11  [  vehicles, ski trip, virginia mountains, mic...  Positive   \n",
       "12  [purpose vehicle,   years, factory tires, hood...  Positive   \n",
       "13  [cargo room, room capabilities, tire pressure,...  Positive   \n",
       "14             [gas mileage, baby shades, sun shades]  Positive   \n",
       "15                     [theater style, style seating]  Positive   \n",
       "16                                    [monster beast]  Positive   \n",
       "17                                                 []  Positive   \n",
       "18  [components tires,    pads,   speedometer, mil...  Negative   \n",
       "19  [  element, honda element, master cylinder, br...  Positive   \n",
       "\n",
       "    Compound_Score  \n",
       "0           0.9928  \n",
       "1           0.9764  \n",
       "2           0.9650  \n",
       "3           0.7307  \n",
       "4           0.1779  \n",
       "5           0.9260  \n",
       "6           0.7762  \n",
       "7           0.9905  \n",
       "8           0.9617  \n",
       "9           0.6310  \n",
       "10          0.9684  \n",
       "11          0.9721  \n",
       "12          0.9792  \n",
       "13          0.5310  \n",
       "14          0.9774  \n",
       "15          0.9898  \n",
       "16          0.9292  \n",
       "17          0.9192  \n",
       "18         -0.7288  \n",
       "19          0.8932  "
      ]
     },
     "execution_count": 159,
     "metadata": {},
     "output_type": "execute_result"
    }
   ],
   "source": [
    "#Performing a Sentiment Analysis using Vader Library\n",
    "analyzer = SentimentIntensityAnalyzer()\n",
    "negative = []\n",
    "positive = []\n",
    "neutral = []\n",
    "sentiment = []\n",
    "comp = []\n",
    "for i in range(len(df)):\n",
    "    sent = analyzer.polarity_scores(df['Clean_rev'][i])\n",
    "    if sent['compound'] >= 0.2:\n",
    "        sentiment.append(\"Positive\")\n",
    "        positive.append(sent['pos'])\n",
    "        comp.append(sent['compound'])\n",
    "    if sent['compound'] > -0.2 and sent['compound'] <0.2:\n",
    "        sentiment.append(\"Neutral\")\n",
    "        neutral.append(sent['neu'])\n",
    "        comp.append(sent['compound'])\n",
    "    elif sent['compound'] <= 0.2:\n",
    "        sentiment.append(\"Negative\")\n",
    "        negative.append(sent['neg'])\n",
    "        comp.append(sent['compound'])\n",
    "df['Sentiment']=sentiment\n",
    "df['Compound_Score']=comp\n",
    "df.head(20)"
   ]
  },
  {
   "cell_type": "code",
   "execution_count": 160,
   "metadata": {},
   "outputs": [],
   "source": [
    "neg_avg= sum(negative)/len(negative)\n",
    "pos_avg= sum(positive)/len(positive)\n",
    "neu_avg= sum(neutral)/len(neutral)"
   ]
  },
  {
   "cell_type": "code",
   "execution_count": 161,
   "metadata": {},
   "outputs": [
    {
     "data": {
      "application/vnd.plotly.v1+json": {
       "config": {
        "plotlyServerURL": "https://plot.ly"
       },
       "data": [
        {
         "labels": [
          "Negative",
          "Positive",
          "Neutral/Satisfied"
         ],
         "pull": [
          0,
          0,
          0.2,
          0
         ],
         "type": "pie",
         "values": [
          0.12617613903240976,
          0.20391152869476956,
          0.8648492957746488
         ]
        }
       ],
       "layout": {
        "template": {
         "data": {
          "bar": [
           {
            "error_x": {
             "color": "#2a3f5f"
            },
            "error_y": {
             "color": "#2a3f5f"
            },
            "marker": {
             "line": {
              "color": "#E5ECF6",
              "width": 0.5
             }
            },
            "type": "bar"
           }
          ],
          "barpolar": [
           {
            "marker": {
             "line": {
              "color": "#E5ECF6",
              "width": 0.5
             }
            },
            "type": "barpolar"
           }
          ],
          "carpet": [
           {
            "aaxis": {
             "endlinecolor": "#2a3f5f",
             "gridcolor": "white",
             "linecolor": "white",
             "minorgridcolor": "white",
             "startlinecolor": "#2a3f5f"
            },
            "baxis": {
             "endlinecolor": "#2a3f5f",
             "gridcolor": "white",
             "linecolor": "white",
             "minorgridcolor": "white",
             "startlinecolor": "#2a3f5f"
            },
            "type": "carpet"
           }
          ],
          "choropleth": [
           {
            "colorbar": {
             "outlinewidth": 0,
             "ticks": ""
            },
            "type": "choropleth"
           }
          ],
          "contour": [
           {
            "colorbar": {
             "outlinewidth": 0,
             "ticks": ""
            },
            "colorscale": [
             [
              0,
              "#0d0887"
             ],
             [
              0.1111111111111111,
              "#46039f"
             ],
             [
              0.2222222222222222,
              "#7201a8"
             ],
             [
              0.3333333333333333,
              "#9c179e"
             ],
             [
              0.4444444444444444,
              "#bd3786"
             ],
             [
              0.5555555555555556,
              "#d8576b"
             ],
             [
              0.6666666666666666,
              "#ed7953"
             ],
             [
              0.7777777777777778,
              "#fb9f3a"
             ],
             [
              0.8888888888888888,
              "#fdca26"
             ],
             [
              1,
              "#f0f921"
             ]
            ],
            "type": "contour"
           }
          ],
          "contourcarpet": [
           {
            "colorbar": {
             "outlinewidth": 0,
             "ticks": ""
            },
            "type": "contourcarpet"
           }
          ],
          "heatmap": [
           {
            "colorbar": {
             "outlinewidth": 0,
             "ticks": ""
            },
            "colorscale": [
             [
              0,
              "#0d0887"
             ],
             [
              0.1111111111111111,
              "#46039f"
             ],
             [
              0.2222222222222222,
              "#7201a8"
             ],
             [
              0.3333333333333333,
              "#9c179e"
             ],
             [
              0.4444444444444444,
              "#bd3786"
             ],
             [
              0.5555555555555556,
              "#d8576b"
             ],
             [
              0.6666666666666666,
              "#ed7953"
             ],
             [
              0.7777777777777778,
              "#fb9f3a"
             ],
             [
              0.8888888888888888,
              "#fdca26"
             ],
             [
              1,
              "#f0f921"
             ]
            ],
            "type": "heatmap"
           }
          ],
          "heatmapgl": [
           {
            "colorbar": {
             "outlinewidth": 0,
             "ticks": ""
            },
            "colorscale": [
             [
              0,
              "#0d0887"
             ],
             [
              0.1111111111111111,
              "#46039f"
             ],
             [
              0.2222222222222222,
              "#7201a8"
             ],
             [
              0.3333333333333333,
              "#9c179e"
             ],
             [
              0.4444444444444444,
              "#bd3786"
             ],
             [
              0.5555555555555556,
              "#d8576b"
             ],
             [
              0.6666666666666666,
              "#ed7953"
             ],
             [
              0.7777777777777778,
              "#fb9f3a"
             ],
             [
              0.8888888888888888,
              "#fdca26"
             ],
             [
              1,
              "#f0f921"
             ]
            ],
            "type": "heatmapgl"
           }
          ],
          "histogram": [
           {
            "marker": {
             "colorbar": {
              "outlinewidth": 0,
              "ticks": ""
             }
            },
            "type": "histogram"
           }
          ],
          "histogram2d": [
           {
            "colorbar": {
             "outlinewidth": 0,
             "ticks": ""
            },
            "colorscale": [
             [
              0,
              "#0d0887"
             ],
             [
              0.1111111111111111,
              "#46039f"
             ],
             [
              0.2222222222222222,
              "#7201a8"
             ],
             [
              0.3333333333333333,
              "#9c179e"
             ],
             [
              0.4444444444444444,
              "#bd3786"
             ],
             [
              0.5555555555555556,
              "#d8576b"
             ],
             [
              0.6666666666666666,
              "#ed7953"
             ],
             [
              0.7777777777777778,
              "#fb9f3a"
             ],
             [
              0.8888888888888888,
              "#fdca26"
             ],
             [
              1,
              "#f0f921"
             ]
            ],
            "type": "histogram2d"
           }
          ],
          "histogram2dcontour": [
           {
            "colorbar": {
             "outlinewidth": 0,
             "ticks": ""
            },
            "colorscale": [
             [
              0,
              "#0d0887"
             ],
             [
              0.1111111111111111,
              "#46039f"
             ],
             [
              0.2222222222222222,
              "#7201a8"
             ],
             [
              0.3333333333333333,
              "#9c179e"
             ],
             [
              0.4444444444444444,
              "#bd3786"
             ],
             [
              0.5555555555555556,
              "#d8576b"
             ],
             [
              0.6666666666666666,
              "#ed7953"
             ],
             [
              0.7777777777777778,
              "#fb9f3a"
             ],
             [
              0.8888888888888888,
              "#fdca26"
             ],
             [
              1,
              "#f0f921"
             ]
            ],
            "type": "histogram2dcontour"
           }
          ],
          "mesh3d": [
           {
            "colorbar": {
             "outlinewidth": 0,
             "ticks": ""
            },
            "type": "mesh3d"
           }
          ],
          "parcoords": [
           {
            "line": {
             "colorbar": {
              "outlinewidth": 0,
              "ticks": ""
             }
            },
            "type": "parcoords"
           }
          ],
          "pie": [
           {
            "automargin": true,
            "type": "pie"
           }
          ],
          "scatter": [
           {
            "marker": {
             "colorbar": {
              "outlinewidth": 0,
              "ticks": ""
             }
            },
            "type": "scatter"
           }
          ],
          "scatter3d": [
           {
            "line": {
             "colorbar": {
              "outlinewidth": 0,
              "ticks": ""
             }
            },
            "marker": {
             "colorbar": {
              "outlinewidth": 0,
              "ticks": ""
             }
            },
            "type": "scatter3d"
           }
          ],
          "scattercarpet": [
           {
            "marker": {
             "colorbar": {
              "outlinewidth": 0,
              "ticks": ""
             }
            },
            "type": "scattercarpet"
           }
          ],
          "scattergeo": [
           {
            "marker": {
             "colorbar": {
              "outlinewidth": 0,
              "ticks": ""
             }
            },
            "type": "scattergeo"
           }
          ],
          "scattergl": [
           {
            "marker": {
             "colorbar": {
              "outlinewidth": 0,
              "ticks": ""
             }
            },
            "type": "scattergl"
           }
          ],
          "scattermapbox": [
           {
            "marker": {
             "colorbar": {
              "outlinewidth": 0,
              "ticks": ""
             }
            },
            "type": "scattermapbox"
           }
          ],
          "scatterpolar": [
           {
            "marker": {
             "colorbar": {
              "outlinewidth": 0,
              "ticks": ""
             }
            },
            "type": "scatterpolar"
           }
          ],
          "scatterpolargl": [
           {
            "marker": {
             "colorbar": {
              "outlinewidth": 0,
              "ticks": ""
             }
            },
            "type": "scatterpolargl"
           }
          ],
          "scatterternary": [
           {
            "marker": {
             "colorbar": {
              "outlinewidth": 0,
              "ticks": ""
             }
            },
            "type": "scatterternary"
           }
          ],
          "surface": [
           {
            "colorbar": {
             "outlinewidth": 0,
             "ticks": ""
            },
            "colorscale": [
             [
              0,
              "#0d0887"
             ],
             [
              0.1111111111111111,
              "#46039f"
             ],
             [
              0.2222222222222222,
              "#7201a8"
             ],
             [
              0.3333333333333333,
              "#9c179e"
             ],
             [
              0.4444444444444444,
              "#bd3786"
             ],
             [
              0.5555555555555556,
              "#d8576b"
             ],
             [
              0.6666666666666666,
              "#ed7953"
             ],
             [
              0.7777777777777778,
              "#fb9f3a"
             ],
             [
              0.8888888888888888,
              "#fdca26"
             ],
             [
              1,
              "#f0f921"
             ]
            ],
            "type": "surface"
           }
          ],
          "table": [
           {
            "cells": {
             "fill": {
              "color": "#EBF0F8"
             },
             "line": {
              "color": "white"
             }
            },
            "header": {
             "fill": {
              "color": "#C8D4E3"
             },
             "line": {
              "color": "white"
             }
            },
            "type": "table"
           }
          ]
         },
         "layout": {
          "annotationdefaults": {
           "arrowcolor": "#2a3f5f",
           "arrowhead": 0,
           "arrowwidth": 1
          },
          "autotypenumbers": "strict",
          "coloraxis": {
           "colorbar": {
            "outlinewidth": 0,
            "ticks": ""
           }
          },
          "colorscale": {
           "diverging": [
            [
             0,
             "#8e0152"
            ],
            [
             0.1,
             "#c51b7d"
            ],
            [
             0.2,
             "#de77ae"
            ],
            [
             0.3,
             "#f1b6da"
            ],
            [
             0.4,
             "#fde0ef"
            ],
            [
             0.5,
             "#f7f7f7"
            ],
            [
             0.6,
             "#e6f5d0"
            ],
            [
             0.7,
             "#b8e186"
            ],
            [
             0.8,
             "#7fbc41"
            ],
            [
             0.9,
             "#4d9221"
            ],
            [
             1,
             "#276419"
            ]
           ],
           "sequential": [
            [
             0,
             "#0d0887"
            ],
            [
             0.1111111111111111,
             "#46039f"
            ],
            [
             0.2222222222222222,
             "#7201a8"
            ],
            [
             0.3333333333333333,
             "#9c179e"
            ],
            [
             0.4444444444444444,
             "#bd3786"
            ],
            [
             0.5555555555555556,
             "#d8576b"
            ],
            [
             0.6666666666666666,
             "#ed7953"
            ],
            [
             0.7777777777777778,
             "#fb9f3a"
            ],
            [
             0.8888888888888888,
             "#fdca26"
            ],
            [
             1,
             "#f0f921"
            ]
           ],
           "sequentialminus": [
            [
             0,
             "#0d0887"
            ],
            [
             0.1111111111111111,
             "#46039f"
            ],
            [
             0.2222222222222222,
             "#7201a8"
            ],
            [
             0.3333333333333333,
             "#9c179e"
            ],
            [
             0.4444444444444444,
             "#bd3786"
            ],
            [
             0.5555555555555556,
             "#d8576b"
            ],
            [
             0.6666666666666666,
             "#ed7953"
            ],
            [
             0.7777777777777778,
             "#fb9f3a"
            ],
            [
             0.8888888888888888,
             "#fdca26"
            ],
            [
             1,
             "#f0f921"
            ]
           ]
          },
          "colorway": [
           "#636efa",
           "#EF553B",
           "#00cc96",
           "#ab63fa",
           "#FFA15A",
           "#19d3f3",
           "#FF6692",
           "#B6E880",
           "#FF97FF",
           "#FECB52"
          ],
          "font": {
           "color": "#2a3f5f"
          },
          "geo": {
           "bgcolor": "white",
           "lakecolor": "white",
           "landcolor": "#E5ECF6",
           "showlakes": true,
           "showland": true,
           "subunitcolor": "white"
          },
          "hoverlabel": {
           "align": "left"
          },
          "hovermode": "closest",
          "mapbox": {
           "style": "light"
          },
          "paper_bgcolor": "white",
          "plot_bgcolor": "#E5ECF6",
          "polar": {
           "angularaxis": {
            "gridcolor": "white",
            "linecolor": "white",
            "ticks": ""
           },
           "bgcolor": "#E5ECF6",
           "radialaxis": {
            "gridcolor": "white",
            "linecolor": "white",
            "ticks": ""
           }
          },
          "scene": {
           "xaxis": {
            "backgroundcolor": "#E5ECF6",
            "gridcolor": "white",
            "gridwidth": 2,
            "linecolor": "white",
            "showbackground": true,
            "ticks": "",
            "zerolinecolor": "white"
           },
           "yaxis": {
            "backgroundcolor": "#E5ECF6",
            "gridcolor": "white",
            "gridwidth": 2,
            "linecolor": "white",
            "showbackground": true,
            "ticks": "",
            "zerolinecolor": "white"
           },
           "zaxis": {
            "backgroundcolor": "#E5ECF6",
            "gridcolor": "white",
            "gridwidth": 2,
            "linecolor": "white",
            "showbackground": true,
            "ticks": "",
            "zerolinecolor": "white"
           }
          },
          "shapedefaults": {
           "line": {
            "color": "#2a3f5f"
           }
          },
          "ternary": {
           "aaxis": {
            "gridcolor": "white",
            "linecolor": "white",
            "ticks": ""
           },
           "baxis": {
            "gridcolor": "white",
            "linecolor": "white",
            "ticks": ""
           },
           "bgcolor": "#E5ECF6",
           "caxis": {
            "gridcolor": "white",
            "linecolor": "white",
            "ticks": ""
           }
          },
          "title": {
           "x": 0.05
          },
          "xaxis": {
           "automargin": true,
           "gridcolor": "white",
           "linecolor": "white",
           "ticks": "",
           "title": {
            "standoff": 15
           },
           "zerolinecolor": "white",
           "zerolinewidth": 2
          },
          "yaxis": {
           "automargin": true,
           "gridcolor": "white",
           "linecolor": "white",
           "ticks": "",
           "title": {
            "standoff": 15
           },
           "zerolinecolor": "white",
           "zerolinewidth": 2
          }
         }
        }
       }
      },
      "text/html": [
       "<div>                            <div id=\"7f3c5593-6662-44c7-8b70-8bb52ea0b022\" class=\"plotly-graph-div\" style=\"height:525px; width:100%;\"></div>            <script type=\"text/javascript\">                require([\"plotly\"], function(Plotly) {                    window.PLOTLYENV=window.PLOTLYENV || {};                                    if (document.getElementById(\"7f3c5593-6662-44c7-8b70-8bb52ea0b022\")) {                    Plotly.newPlot(                        \"7f3c5593-6662-44c7-8b70-8bb52ea0b022\",                        [{\"labels\": [\"Negative\", \"Positive\", \"Neutral/Satisfied\"], \"pull\": [0, 0, 0.2, 0], \"type\": \"pie\", \"values\": [0.12617613903240976, 0.20391152869476956, 0.8648492957746488]}],                        {\"template\": {\"data\": {\"bar\": [{\"error_x\": {\"color\": \"#2a3f5f\"}, \"error_y\": {\"color\": \"#2a3f5f\"}, \"marker\": {\"line\": {\"color\": \"#E5ECF6\", \"width\": 0.5}}, \"type\": \"bar\"}], \"barpolar\": [{\"marker\": {\"line\": {\"color\": \"#E5ECF6\", \"width\": 0.5}}, \"type\": \"barpolar\"}], \"carpet\": [{\"aaxis\": {\"endlinecolor\": \"#2a3f5f\", \"gridcolor\": \"white\", \"linecolor\": \"white\", \"minorgridcolor\": \"white\", \"startlinecolor\": \"#2a3f5f\"}, \"baxis\": {\"endlinecolor\": \"#2a3f5f\", \"gridcolor\": \"white\", \"linecolor\": \"white\", \"minorgridcolor\": \"white\", \"startlinecolor\": \"#2a3f5f\"}, \"type\": \"carpet\"}], \"choropleth\": [{\"colorbar\": {\"outlinewidth\": 0, \"ticks\": \"\"}, \"type\": \"choropleth\"}], \"contour\": [{\"colorbar\": {\"outlinewidth\": 0, \"ticks\": \"\"}, \"colorscale\": [[0.0, \"#0d0887\"], [0.1111111111111111, \"#46039f\"], [0.2222222222222222, \"#7201a8\"], [0.3333333333333333, \"#9c179e\"], [0.4444444444444444, \"#bd3786\"], [0.5555555555555556, \"#d8576b\"], [0.6666666666666666, \"#ed7953\"], [0.7777777777777778, \"#fb9f3a\"], [0.8888888888888888, \"#fdca26\"], [1.0, \"#f0f921\"]], \"type\": \"contour\"}], \"contourcarpet\": [{\"colorbar\": {\"outlinewidth\": 0, \"ticks\": \"\"}, \"type\": \"contourcarpet\"}], \"heatmap\": [{\"colorbar\": {\"outlinewidth\": 0, \"ticks\": \"\"}, \"colorscale\": [[0.0, \"#0d0887\"], [0.1111111111111111, \"#46039f\"], [0.2222222222222222, \"#7201a8\"], [0.3333333333333333, \"#9c179e\"], [0.4444444444444444, \"#bd3786\"], [0.5555555555555556, \"#d8576b\"], [0.6666666666666666, \"#ed7953\"], [0.7777777777777778, \"#fb9f3a\"], [0.8888888888888888, \"#fdca26\"], [1.0, \"#f0f921\"]], \"type\": \"heatmap\"}], \"heatmapgl\": [{\"colorbar\": {\"outlinewidth\": 0, \"ticks\": \"\"}, \"colorscale\": [[0.0, \"#0d0887\"], [0.1111111111111111, \"#46039f\"], [0.2222222222222222, \"#7201a8\"], [0.3333333333333333, \"#9c179e\"], [0.4444444444444444, \"#bd3786\"], [0.5555555555555556, \"#d8576b\"], [0.6666666666666666, \"#ed7953\"], [0.7777777777777778, \"#fb9f3a\"], [0.8888888888888888, \"#fdca26\"], [1.0, \"#f0f921\"]], \"type\": \"heatmapgl\"}], \"histogram\": [{\"marker\": {\"colorbar\": {\"outlinewidth\": 0, \"ticks\": \"\"}}, \"type\": \"histogram\"}], \"histogram2d\": [{\"colorbar\": {\"outlinewidth\": 0, \"ticks\": \"\"}, \"colorscale\": [[0.0, \"#0d0887\"], [0.1111111111111111, \"#46039f\"], [0.2222222222222222, \"#7201a8\"], [0.3333333333333333, \"#9c179e\"], [0.4444444444444444, \"#bd3786\"], [0.5555555555555556, \"#d8576b\"], [0.6666666666666666, \"#ed7953\"], [0.7777777777777778, \"#fb9f3a\"], [0.8888888888888888, \"#fdca26\"], [1.0, \"#f0f921\"]], \"type\": \"histogram2d\"}], \"histogram2dcontour\": [{\"colorbar\": {\"outlinewidth\": 0, \"ticks\": \"\"}, \"colorscale\": [[0.0, \"#0d0887\"], [0.1111111111111111, \"#46039f\"], [0.2222222222222222, \"#7201a8\"], [0.3333333333333333, \"#9c179e\"], [0.4444444444444444, \"#bd3786\"], [0.5555555555555556, \"#d8576b\"], [0.6666666666666666, \"#ed7953\"], [0.7777777777777778, \"#fb9f3a\"], [0.8888888888888888, \"#fdca26\"], [1.0, \"#f0f921\"]], \"type\": \"histogram2dcontour\"}], \"mesh3d\": [{\"colorbar\": {\"outlinewidth\": 0, \"ticks\": \"\"}, \"type\": \"mesh3d\"}], \"parcoords\": [{\"line\": {\"colorbar\": {\"outlinewidth\": 0, \"ticks\": \"\"}}, \"type\": \"parcoords\"}], \"pie\": [{\"automargin\": true, \"type\": \"pie\"}], \"scatter\": [{\"marker\": {\"colorbar\": {\"outlinewidth\": 0, \"ticks\": \"\"}}, \"type\": \"scatter\"}], \"scatter3d\": [{\"line\": {\"colorbar\": {\"outlinewidth\": 0, \"ticks\": \"\"}}, \"marker\": {\"colorbar\": {\"outlinewidth\": 0, \"ticks\": \"\"}}, \"type\": \"scatter3d\"}], \"scattercarpet\": [{\"marker\": {\"colorbar\": {\"outlinewidth\": 0, \"ticks\": \"\"}}, \"type\": \"scattercarpet\"}], \"scattergeo\": [{\"marker\": {\"colorbar\": {\"outlinewidth\": 0, \"ticks\": \"\"}}, \"type\": \"scattergeo\"}], \"scattergl\": [{\"marker\": {\"colorbar\": {\"outlinewidth\": 0, \"ticks\": \"\"}}, \"type\": \"scattergl\"}], \"scattermapbox\": [{\"marker\": {\"colorbar\": {\"outlinewidth\": 0, \"ticks\": \"\"}}, \"type\": \"scattermapbox\"}], \"scatterpolar\": [{\"marker\": {\"colorbar\": {\"outlinewidth\": 0, \"ticks\": \"\"}}, \"type\": \"scatterpolar\"}], \"scatterpolargl\": [{\"marker\": {\"colorbar\": {\"outlinewidth\": 0, \"ticks\": \"\"}}, \"type\": \"scatterpolargl\"}], \"scatterternary\": [{\"marker\": {\"colorbar\": {\"outlinewidth\": 0, \"ticks\": \"\"}}, \"type\": \"scatterternary\"}], \"surface\": [{\"colorbar\": {\"outlinewidth\": 0, \"ticks\": \"\"}, \"colorscale\": [[0.0, \"#0d0887\"], [0.1111111111111111, \"#46039f\"], [0.2222222222222222, \"#7201a8\"], [0.3333333333333333, \"#9c179e\"], [0.4444444444444444, \"#bd3786\"], [0.5555555555555556, \"#d8576b\"], [0.6666666666666666, \"#ed7953\"], [0.7777777777777778, \"#fb9f3a\"], [0.8888888888888888, \"#fdca26\"], [1.0, \"#f0f921\"]], \"type\": \"surface\"}], \"table\": [{\"cells\": {\"fill\": {\"color\": \"#EBF0F8\"}, \"line\": {\"color\": \"white\"}}, \"header\": {\"fill\": {\"color\": \"#C8D4E3\"}, \"line\": {\"color\": \"white\"}}, \"type\": \"table\"}]}, \"layout\": {\"annotationdefaults\": {\"arrowcolor\": \"#2a3f5f\", \"arrowhead\": 0, \"arrowwidth\": 1}, \"autotypenumbers\": \"strict\", \"coloraxis\": {\"colorbar\": {\"outlinewidth\": 0, \"ticks\": \"\"}}, \"colorscale\": {\"diverging\": [[0, \"#8e0152\"], [0.1, \"#c51b7d\"], [0.2, \"#de77ae\"], [0.3, \"#f1b6da\"], [0.4, \"#fde0ef\"], [0.5, \"#f7f7f7\"], [0.6, \"#e6f5d0\"], [0.7, \"#b8e186\"], [0.8, \"#7fbc41\"], [0.9, \"#4d9221\"], [1, \"#276419\"]], \"sequential\": [[0.0, \"#0d0887\"], [0.1111111111111111, \"#46039f\"], [0.2222222222222222, \"#7201a8\"], [0.3333333333333333, \"#9c179e\"], [0.4444444444444444, \"#bd3786\"], [0.5555555555555556, \"#d8576b\"], [0.6666666666666666, \"#ed7953\"], [0.7777777777777778, \"#fb9f3a\"], [0.8888888888888888, \"#fdca26\"], [1.0, \"#f0f921\"]], \"sequentialminus\": [[0.0, \"#0d0887\"], [0.1111111111111111, \"#46039f\"], [0.2222222222222222, \"#7201a8\"], [0.3333333333333333, \"#9c179e\"], [0.4444444444444444, \"#bd3786\"], [0.5555555555555556, \"#d8576b\"], [0.6666666666666666, \"#ed7953\"], [0.7777777777777778, \"#fb9f3a\"], [0.8888888888888888, \"#fdca26\"], [1.0, \"#f0f921\"]]}, \"colorway\": [\"#636efa\", \"#EF553B\", \"#00cc96\", \"#ab63fa\", \"#FFA15A\", \"#19d3f3\", \"#FF6692\", \"#B6E880\", \"#FF97FF\", \"#FECB52\"], \"font\": {\"color\": \"#2a3f5f\"}, \"geo\": {\"bgcolor\": \"white\", \"lakecolor\": \"white\", \"landcolor\": \"#E5ECF6\", \"showlakes\": true, \"showland\": true, \"subunitcolor\": \"white\"}, \"hoverlabel\": {\"align\": \"left\"}, \"hovermode\": \"closest\", \"mapbox\": {\"style\": \"light\"}, \"paper_bgcolor\": \"white\", \"plot_bgcolor\": \"#E5ECF6\", \"polar\": {\"angularaxis\": {\"gridcolor\": \"white\", \"linecolor\": \"white\", \"ticks\": \"\"}, \"bgcolor\": \"#E5ECF6\", \"radialaxis\": {\"gridcolor\": \"white\", \"linecolor\": \"white\", \"ticks\": \"\"}}, \"scene\": {\"xaxis\": {\"backgroundcolor\": \"#E5ECF6\", \"gridcolor\": \"white\", \"gridwidth\": 2, \"linecolor\": \"white\", \"showbackground\": true, \"ticks\": \"\", \"zerolinecolor\": \"white\"}, \"yaxis\": {\"backgroundcolor\": \"#E5ECF6\", \"gridcolor\": \"white\", \"gridwidth\": 2, \"linecolor\": \"white\", \"showbackground\": true, \"ticks\": \"\", \"zerolinecolor\": \"white\"}, \"zaxis\": {\"backgroundcolor\": \"#E5ECF6\", \"gridcolor\": \"white\", \"gridwidth\": 2, \"linecolor\": \"white\", \"showbackground\": true, \"ticks\": \"\", \"zerolinecolor\": \"white\"}}, \"shapedefaults\": {\"line\": {\"color\": \"#2a3f5f\"}}, \"ternary\": {\"aaxis\": {\"gridcolor\": \"white\", \"linecolor\": \"white\", \"ticks\": \"\"}, \"baxis\": {\"gridcolor\": \"white\", \"linecolor\": \"white\", \"ticks\": \"\"}, \"bgcolor\": \"#E5ECF6\", \"caxis\": {\"gridcolor\": \"white\", \"linecolor\": \"white\", \"ticks\": \"\"}}, \"title\": {\"x\": 0.05}, \"xaxis\": {\"automargin\": true, \"gridcolor\": \"white\", \"linecolor\": \"white\", \"ticks\": \"\", \"title\": {\"standoff\": 15}, \"zerolinecolor\": \"white\", \"zerolinewidth\": 2}, \"yaxis\": {\"automargin\": true, \"gridcolor\": \"white\", \"linecolor\": \"white\", \"ticks\": \"\", \"title\": {\"standoff\": 15}, \"zerolinecolor\": \"white\", \"zerolinewidth\": 2}}}},                        {\"responsive\": true}                    ).then(function(){\n",
       "                            \n",
       "var gd = document.getElementById('7f3c5593-6662-44c7-8b70-8bb52ea0b022');\n",
       "var x = new MutationObserver(function (mutations, observer) {{\n",
       "        var display = window.getComputedStyle(gd).display;\n",
       "        if (!display || display === 'none') {{\n",
       "            console.log([gd, 'removed!']);\n",
       "            Plotly.purge(gd);\n",
       "            observer.disconnect();\n",
       "        }}\n",
       "}});\n",
       "\n",
       "// Listen for the removal of the full notebook cells\n",
       "var notebookContainer = gd.closest('#notebook-container');\n",
       "if (notebookContainer) {{\n",
       "    x.observe(notebookContainer, {childList: true});\n",
       "}}\n",
       "\n",
       "// Listen for the clearing of the current output cell\n",
       "var outputEl = gd.closest('.output');\n",
       "if (outputEl) {{\n",
       "    x.observe(outputEl, {childList: true});\n",
       "}}\n",
       "\n",
       "                        })                };                });            </script>        </div>"
      ]
     },
     "metadata": {},
     "output_type": "display_data"
    }
   ],
   "source": [
    "#Using PlotLy Library for a Pie Char Visualization\n",
    "labels = ['Negative','Positive','Neutral/Satisfied']\n",
    "values = [neg_avg,pos_avg,neu_avg]\n",
    "\n",
    "# pull is given as a fraction of the pie radius\n",
    "fig = go.Figure(data=[go.Pie(labels=labels, values=values, pull=[0, 0, 0.2, 0])])\n",
    "fig.show()"
   ]
  },
  {
   "cell_type": "code",
   "execution_count": null,
   "metadata": {},
   "outputs": [],
   "source": []
  },
  {
   "cell_type": "code",
   "execution_count": 162,
   "metadata": {},
   "outputs": [],
   "source": [
    "# We Pass a key feature to look for it in our features\n",
    "key='speed'\n",
    "data = pd.DataFrame([])\n",
    "# search for the key and fetch the data into the Data df\n",
    "for i in range(len(df)):\n",
    "    if key in str(features[i]):\n",
    "         data = data.append(pd.DataFrame({'Rating': df['Ratings'][i], \n",
    "                                          'Score': df['Compound_Score'][i],\n",
    "                                          'FeaturesDiscussed': str(df['FeaturesDiscussed'][i]),\n",
    "                                          'Sentiment': df['Sentiment'][i]},\n",
    "                                         index=[0]), ignore_index=True)"
   ]
  },
  {
   "cell_type": "code",
   "execution_count": 163,
   "metadata": {},
   "outputs": [
    {
     "data": {
      "text/html": [
       "<div>\n",
       "<style scoped>\n",
       "    .dataframe tbody tr th:only-of-type {\n",
       "        vertical-align: middle;\n",
       "    }\n",
       "\n",
       "    .dataframe tbody tr th {\n",
       "        vertical-align: top;\n",
       "    }\n",
       "\n",
       "    .dataframe thead th {\n",
       "        text-align: right;\n",
       "    }\n",
       "</style>\n",
       "<table border=\"1\" class=\"dataframe\">\n",
       "  <thead>\n",
       "    <tr style=\"text-align: right;\">\n",
       "      <th></th>\n",
       "      <th>Rating</th>\n",
       "      <th>Score</th>\n",
       "      <th>FeaturesDiscussed</th>\n",
       "      <th>Sentiment</th>\n",
       "    </tr>\n",
       "  </thead>\n",
       "  <tbody>\n",
       "    <tr>\n",
       "      <th>0</th>\n",
       "      <td>3.375</td>\n",
       "      <td>-0.7288</td>\n",
       "      <td>['components tires', '   pads', '  speedometer...</td>\n",
       "      <td>Negative</td>\n",
       "    </tr>\n",
       "    <tr>\n",
       "      <th>1</th>\n",
       "      <td>4.875</td>\n",
       "      <td>0.9831</td>\n",
       "      <td>['  speed']</td>\n",
       "      <td>Positive</td>\n",
       "    </tr>\n",
       "    <tr>\n",
       "      <th>2</th>\n",
       "      <td>3.875</td>\n",
       "      <td>0.9617</td>\n",
       "      <td>['utility body', 'time wagon', 'honda reliabil...</td>\n",
       "      <td>Positive</td>\n",
       "    </tr>\n",
       "    <tr>\n",
       "      <th>3</th>\n",
       "      <td>4.875</td>\n",
       "      <td>0.9086</td>\n",
       "      <td>['element awd', 'fuel mileage', 'highwayinters...</td>\n",
       "      <td>Positive</td>\n",
       "    </tr>\n",
       "    <tr>\n",
       "      <th>4</th>\n",
       "      <td>4.750</td>\n",
       "      <td>0.9595</td>\n",
       "      <td>['speed miles']</td>\n",
       "      <td>Positive</td>\n",
       "    </tr>\n",
       "    <tr>\n",
       "      <th>...</th>\n",
       "      <td>...</td>\n",
       "      <td>...</td>\n",
       "      <td>...</td>\n",
       "      <td>...</td>\n",
       "    </tr>\n",
       "    <tr>\n",
       "      <th>437</th>\n",
       "      <td>3.000</td>\n",
       "      <td>0.9049</td>\n",
       "      <td>['  speed', '  van', 'car research', '  star',...</td>\n",
       "      <td>Positive</td>\n",
       "    </tr>\n",
       "    <tr>\n",
       "      <th>438</th>\n",
       "      <td>5.000</td>\n",
       "      <td>0.9628</td>\n",
       "      <td>['road trip', 'yard waste', 'dump finding', 'h...</td>\n",
       "      <td>Positive</td>\n",
       "    </tr>\n",
       "    <tr>\n",
       "      <th>439</th>\n",
       "      <td>5.000</td>\n",
       "      <td>0.9990</td>\n",
       "      <td>['wrx sti', 'gas mileage', 'train station', 't...</td>\n",
       "      <td>Positive</td>\n",
       "    </tr>\n",
       "    <tr>\n",
       "      <th>440</th>\n",
       "      <td>5.000</td>\n",
       "      <td>0.9643</td>\n",
       "      <td>['  fit', 'honda fit', 'steering wheel', 'whee...</td>\n",
       "      <td>Positive</td>\n",
       "    </tr>\n",
       "    <tr>\n",
       "      <th>441</th>\n",
       "      <td>5.000</td>\n",
       "      <td>0.9990</td>\n",
       "      <td>['honda fit', 'honda fit', 'road noise', 'wind...</td>\n",
       "      <td>Positive</td>\n",
       "    </tr>\n",
       "  </tbody>\n",
       "</table>\n",
       "<p>442 rows × 4 columns</p>\n",
       "</div>"
      ],
      "text/plain": [
       "     Rating   Score                                  FeaturesDiscussed  \\\n",
       "0     3.375 -0.7288  ['components tires', '   pads', '  speedometer...   \n",
       "1     4.875  0.9831                                        ['  speed']   \n",
       "2     3.875  0.9617  ['utility body', 'time wagon', 'honda reliabil...   \n",
       "3     4.875  0.9086  ['element awd', 'fuel mileage', 'highwayinters...   \n",
       "4     4.750  0.9595                                    ['speed miles']   \n",
       "..      ...     ...                                                ...   \n",
       "437   3.000  0.9049  ['  speed', '  van', 'car research', '  star',...   \n",
       "438   5.000  0.9628  ['road trip', 'yard waste', 'dump finding', 'h...   \n",
       "439   5.000  0.9990  ['wrx sti', 'gas mileage', 'train station', 't...   \n",
       "440   5.000  0.9643  ['  fit', 'honda fit', 'steering wheel', 'whee...   \n",
       "441   5.000  0.9990  ['honda fit', 'honda fit', 'road noise', 'wind...   \n",
       "\n",
       "    Sentiment  \n",
       "0    Negative  \n",
       "1    Positive  \n",
       "2    Positive  \n",
       "3    Positive  \n",
       "4    Positive  \n",
       "..        ...  \n",
       "437  Positive  \n",
       "438  Positive  \n",
       "439  Positive  \n",
       "440  Positive  \n",
       "441  Positive  \n",
       "\n",
       "[442 rows x 4 columns]"
      ]
     },
     "execution_count": 163,
     "metadata": {},
     "output_type": "execute_result"
    }
   ],
   "source": [
    "data"
   ]
  },
  {
   "cell_type": "code",
   "execution_count": 164,
   "metadata": {},
   "outputs": [
    {
     "name": "stdout",
     "output_type": "stream",
     "text": [
      "  Average of ratings    Number of records  Sentiment                        SentimentScoreMean\n",
      "--------------------  -------------------  -----------------------------  --------------------\n",
      "             4.25933                  442  Positive    353                             0.57928\n",
      "                                           Negative     74\n",
      "                                           Neutral      15\n",
      "                                           Name: Sentiment, dtype: int64\n"
     ]
    }
   ],
   "source": [
    "#Statistics about the results\n",
    "#first we check if the df is empty\n",
    "if len(data) > 0 :\n",
    "    print(tabulate([[data['Rating'].mean(),data['Rating'].count(), data['Sentiment'].value_counts(),\n",
    "                     data['Score'].mean()\n",
    "                     ]],\n",
    "                   headers=['Average of ratings', 'Number of records','Sentiment','SentimentScoreMean']))\n",
    "#if the dataframe is empty\n",
    "else:\n",
    "    print('There are no records or the feature doesnt exist in this model')"
   ]
  },
  {
   "cell_type": "code",
   "execution_count": 165,
   "metadata": {},
   "outputs": [
    {
     "data": {
      "application/vnd.plotly.v1+json": {
       "config": {
        "plotlyServerURL": "https://plot.ly"
       },
       "data": [
        {
         "type": "bar",
         "x": [
          "Positive Sentiments",
          "Negative Sentiments",
          "Neutral Sentiments"
         ],
         "y": [
          353,
          74,
          15
         ]
        }
       ],
       "layout": {
        "template": {
         "data": {
          "bar": [
           {
            "error_x": {
             "color": "#2a3f5f"
            },
            "error_y": {
             "color": "#2a3f5f"
            },
            "marker": {
             "line": {
              "color": "#E5ECF6",
              "width": 0.5
             }
            },
            "type": "bar"
           }
          ],
          "barpolar": [
           {
            "marker": {
             "line": {
              "color": "#E5ECF6",
              "width": 0.5
             }
            },
            "type": "barpolar"
           }
          ],
          "carpet": [
           {
            "aaxis": {
             "endlinecolor": "#2a3f5f",
             "gridcolor": "white",
             "linecolor": "white",
             "minorgridcolor": "white",
             "startlinecolor": "#2a3f5f"
            },
            "baxis": {
             "endlinecolor": "#2a3f5f",
             "gridcolor": "white",
             "linecolor": "white",
             "minorgridcolor": "white",
             "startlinecolor": "#2a3f5f"
            },
            "type": "carpet"
           }
          ],
          "choropleth": [
           {
            "colorbar": {
             "outlinewidth": 0,
             "ticks": ""
            },
            "type": "choropleth"
           }
          ],
          "contour": [
           {
            "colorbar": {
             "outlinewidth": 0,
             "ticks": ""
            },
            "colorscale": [
             [
              0,
              "#0d0887"
             ],
             [
              0.1111111111111111,
              "#46039f"
             ],
             [
              0.2222222222222222,
              "#7201a8"
             ],
             [
              0.3333333333333333,
              "#9c179e"
             ],
             [
              0.4444444444444444,
              "#bd3786"
             ],
             [
              0.5555555555555556,
              "#d8576b"
             ],
             [
              0.6666666666666666,
              "#ed7953"
             ],
             [
              0.7777777777777778,
              "#fb9f3a"
             ],
             [
              0.8888888888888888,
              "#fdca26"
             ],
             [
              1,
              "#f0f921"
             ]
            ],
            "type": "contour"
           }
          ],
          "contourcarpet": [
           {
            "colorbar": {
             "outlinewidth": 0,
             "ticks": ""
            },
            "type": "contourcarpet"
           }
          ],
          "heatmap": [
           {
            "colorbar": {
             "outlinewidth": 0,
             "ticks": ""
            },
            "colorscale": [
             [
              0,
              "#0d0887"
             ],
             [
              0.1111111111111111,
              "#46039f"
             ],
             [
              0.2222222222222222,
              "#7201a8"
             ],
             [
              0.3333333333333333,
              "#9c179e"
             ],
             [
              0.4444444444444444,
              "#bd3786"
             ],
             [
              0.5555555555555556,
              "#d8576b"
             ],
             [
              0.6666666666666666,
              "#ed7953"
             ],
             [
              0.7777777777777778,
              "#fb9f3a"
             ],
             [
              0.8888888888888888,
              "#fdca26"
             ],
             [
              1,
              "#f0f921"
             ]
            ],
            "type": "heatmap"
           }
          ],
          "heatmapgl": [
           {
            "colorbar": {
             "outlinewidth": 0,
             "ticks": ""
            },
            "colorscale": [
             [
              0,
              "#0d0887"
             ],
             [
              0.1111111111111111,
              "#46039f"
             ],
             [
              0.2222222222222222,
              "#7201a8"
             ],
             [
              0.3333333333333333,
              "#9c179e"
             ],
             [
              0.4444444444444444,
              "#bd3786"
             ],
             [
              0.5555555555555556,
              "#d8576b"
             ],
             [
              0.6666666666666666,
              "#ed7953"
             ],
             [
              0.7777777777777778,
              "#fb9f3a"
             ],
             [
              0.8888888888888888,
              "#fdca26"
             ],
             [
              1,
              "#f0f921"
             ]
            ],
            "type": "heatmapgl"
           }
          ],
          "histogram": [
           {
            "marker": {
             "colorbar": {
              "outlinewidth": 0,
              "ticks": ""
             }
            },
            "type": "histogram"
           }
          ],
          "histogram2d": [
           {
            "colorbar": {
             "outlinewidth": 0,
             "ticks": ""
            },
            "colorscale": [
             [
              0,
              "#0d0887"
             ],
             [
              0.1111111111111111,
              "#46039f"
             ],
             [
              0.2222222222222222,
              "#7201a8"
             ],
             [
              0.3333333333333333,
              "#9c179e"
             ],
             [
              0.4444444444444444,
              "#bd3786"
             ],
             [
              0.5555555555555556,
              "#d8576b"
             ],
             [
              0.6666666666666666,
              "#ed7953"
             ],
             [
              0.7777777777777778,
              "#fb9f3a"
             ],
             [
              0.8888888888888888,
              "#fdca26"
             ],
             [
              1,
              "#f0f921"
             ]
            ],
            "type": "histogram2d"
           }
          ],
          "histogram2dcontour": [
           {
            "colorbar": {
             "outlinewidth": 0,
             "ticks": ""
            },
            "colorscale": [
             [
              0,
              "#0d0887"
             ],
             [
              0.1111111111111111,
              "#46039f"
             ],
             [
              0.2222222222222222,
              "#7201a8"
             ],
             [
              0.3333333333333333,
              "#9c179e"
             ],
             [
              0.4444444444444444,
              "#bd3786"
             ],
             [
              0.5555555555555556,
              "#d8576b"
             ],
             [
              0.6666666666666666,
              "#ed7953"
             ],
             [
              0.7777777777777778,
              "#fb9f3a"
             ],
             [
              0.8888888888888888,
              "#fdca26"
             ],
             [
              1,
              "#f0f921"
             ]
            ],
            "type": "histogram2dcontour"
           }
          ],
          "mesh3d": [
           {
            "colorbar": {
             "outlinewidth": 0,
             "ticks": ""
            },
            "type": "mesh3d"
           }
          ],
          "parcoords": [
           {
            "line": {
             "colorbar": {
              "outlinewidth": 0,
              "ticks": ""
             }
            },
            "type": "parcoords"
           }
          ],
          "pie": [
           {
            "automargin": true,
            "type": "pie"
           }
          ],
          "scatter": [
           {
            "marker": {
             "colorbar": {
              "outlinewidth": 0,
              "ticks": ""
             }
            },
            "type": "scatter"
           }
          ],
          "scatter3d": [
           {
            "line": {
             "colorbar": {
              "outlinewidth": 0,
              "ticks": ""
             }
            },
            "marker": {
             "colorbar": {
              "outlinewidth": 0,
              "ticks": ""
             }
            },
            "type": "scatter3d"
           }
          ],
          "scattercarpet": [
           {
            "marker": {
             "colorbar": {
              "outlinewidth": 0,
              "ticks": ""
             }
            },
            "type": "scattercarpet"
           }
          ],
          "scattergeo": [
           {
            "marker": {
             "colorbar": {
              "outlinewidth": 0,
              "ticks": ""
             }
            },
            "type": "scattergeo"
           }
          ],
          "scattergl": [
           {
            "marker": {
             "colorbar": {
              "outlinewidth": 0,
              "ticks": ""
             }
            },
            "type": "scattergl"
           }
          ],
          "scattermapbox": [
           {
            "marker": {
             "colorbar": {
              "outlinewidth": 0,
              "ticks": ""
             }
            },
            "type": "scattermapbox"
           }
          ],
          "scatterpolar": [
           {
            "marker": {
             "colorbar": {
              "outlinewidth": 0,
              "ticks": ""
             }
            },
            "type": "scatterpolar"
           }
          ],
          "scatterpolargl": [
           {
            "marker": {
             "colorbar": {
              "outlinewidth": 0,
              "ticks": ""
             }
            },
            "type": "scatterpolargl"
           }
          ],
          "scatterternary": [
           {
            "marker": {
             "colorbar": {
              "outlinewidth": 0,
              "ticks": ""
             }
            },
            "type": "scatterternary"
           }
          ],
          "surface": [
           {
            "colorbar": {
             "outlinewidth": 0,
             "ticks": ""
            },
            "colorscale": [
             [
              0,
              "#0d0887"
             ],
             [
              0.1111111111111111,
              "#46039f"
             ],
             [
              0.2222222222222222,
              "#7201a8"
             ],
             [
              0.3333333333333333,
              "#9c179e"
             ],
             [
              0.4444444444444444,
              "#bd3786"
             ],
             [
              0.5555555555555556,
              "#d8576b"
             ],
             [
              0.6666666666666666,
              "#ed7953"
             ],
             [
              0.7777777777777778,
              "#fb9f3a"
             ],
             [
              0.8888888888888888,
              "#fdca26"
             ],
             [
              1,
              "#f0f921"
             ]
            ],
            "type": "surface"
           }
          ],
          "table": [
           {
            "cells": {
             "fill": {
              "color": "#EBF0F8"
             },
             "line": {
              "color": "white"
             }
            },
            "header": {
             "fill": {
              "color": "#C8D4E3"
             },
             "line": {
              "color": "white"
             }
            },
            "type": "table"
           }
          ]
         },
         "layout": {
          "annotationdefaults": {
           "arrowcolor": "#2a3f5f",
           "arrowhead": 0,
           "arrowwidth": 1
          },
          "autotypenumbers": "strict",
          "coloraxis": {
           "colorbar": {
            "outlinewidth": 0,
            "ticks": ""
           }
          },
          "colorscale": {
           "diverging": [
            [
             0,
             "#8e0152"
            ],
            [
             0.1,
             "#c51b7d"
            ],
            [
             0.2,
             "#de77ae"
            ],
            [
             0.3,
             "#f1b6da"
            ],
            [
             0.4,
             "#fde0ef"
            ],
            [
             0.5,
             "#f7f7f7"
            ],
            [
             0.6,
             "#e6f5d0"
            ],
            [
             0.7,
             "#b8e186"
            ],
            [
             0.8,
             "#7fbc41"
            ],
            [
             0.9,
             "#4d9221"
            ],
            [
             1,
             "#276419"
            ]
           ],
           "sequential": [
            [
             0,
             "#0d0887"
            ],
            [
             0.1111111111111111,
             "#46039f"
            ],
            [
             0.2222222222222222,
             "#7201a8"
            ],
            [
             0.3333333333333333,
             "#9c179e"
            ],
            [
             0.4444444444444444,
             "#bd3786"
            ],
            [
             0.5555555555555556,
             "#d8576b"
            ],
            [
             0.6666666666666666,
             "#ed7953"
            ],
            [
             0.7777777777777778,
             "#fb9f3a"
            ],
            [
             0.8888888888888888,
             "#fdca26"
            ],
            [
             1,
             "#f0f921"
            ]
           ],
           "sequentialminus": [
            [
             0,
             "#0d0887"
            ],
            [
             0.1111111111111111,
             "#46039f"
            ],
            [
             0.2222222222222222,
             "#7201a8"
            ],
            [
             0.3333333333333333,
             "#9c179e"
            ],
            [
             0.4444444444444444,
             "#bd3786"
            ],
            [
             0.5555555555555556,
             "#d8576b"
            ],
            [
             0.6666666666666666,
             "#ed7953"
            ],
            [
             0.7777777777777778,
             "#fb9f3a"
            ],
            [
             0.8888888888888888,
             "#fdca26"
            ],
            [
             1,
             "#f0f921"
            ]
           ]
          },
          "colorway": [
           "#636efa",
           "#EF553B",
           "#00cc96",
           "#ab63fa",
           "#FFA15A",
           "#19d3f3",
           "#FF6692",
           "#B6E880",
           "#FF97FF",
           "#FECB52"
          ],
          "font": {
           "color": "#2a3f5f"
          },
          "geo": {
           "bgcolor": "white",
           "lakecolor": "white",
           "landcolor": "#E5ECF6",
           "showlakes": true,
           "showland": true,
           "subunitcolor": "white"
          },
          "hoverlabel": {
           "align": "left"
          },
          "hovermode": "closest",
          "mapbox": {
           "style": "light"
          },
          "paper_bgcolor": "white",
          "plot_bgcolor": "#E5ECF6",
          "polar": {
           "angularaxis": {
            "gridcolor": "white",
            "linecolor": "white",
            "ticks": ""
           },
           "bgcolor": "#E5ECF6",
           "radialaxis": {
            "gridcolor": "white",
            "linecolor": "white",
            "ticks": ""
           }
          },
          "scene": {
           "xaxis": {
            "backgroundcolor": "#E5ECF6",
            "gridcolor": "white",
            "gridwidth": 2,
            "linecolor": "white",
            "showbackground": true,
            "ticks": "",
            "zerolinecolor": "white"
           },
           "yaxis": {
            "backgroundcolor": "#E5ECF6",
            "gridcolor": "white",
            "gridwidth": 2,
            "linecolor": "white",
            "showbackground": true,
            "ticks": "",
            "zerolinecolor": "white"
           },
           "zaxis": {
            "backgroundcolor": "#E5ECF6",
            "gridcolor": "white",
            "gridwidth": 2,
            "linecolor": "white",
            "showbackground": true,
            "ticks": "",
            "zerolinecolor": "white"
           }
          },
          "shapedefaults": {
           "line": {
            "color": "#2a3f5f"
           }
          },
          "ternary": {
           "aaxis": {
            "gridcolor": "white",
            "linecolor": "white",
            "ticks": ""
           },
           "baxis": {
            "gridcolor": "white",
            "linecolor": "white",
            "ticks": ""
           },
           "bgcolor": "#E5ECF6",
           "caxis": {
            "gridcolor": "white",
            "linecolor": "white",
            "ticks": ""
           }
          },
          "title": {
           "x": 0.05
          },
          "xaxis": {
           "automargin": true,
           "gridcolor": "white",
           "linecolor": "white",
           "ticks": "",
           "title": {
            "standoff": 15
           },
           "zerolinecolor": "white",
           "zerolinewidth": 2
          },
          "yaxis": {
           "automargin": true,
           "gridcolor": "white",
           "linecolor": "white",
           "ticks": "",
           "title": {
            "standoff": 15
           },
           "zerolinecolor": "white",
           "zerolinewidth": 2
          }
         }
        }
       }
      },
      "text/html": [
       "<div>                            <div id=\"75d7ef34-99f5-46ae-8319-0b66f4e246aa\" class=\"plotly-graph-div\" style=\"height:525px; width:100%;\"></div>            <script type=\"text/javascript\">                require([\"plotly\"], function(Plotly) {                    window.PLOTLYENV=window.PLOTLYENV || {};                                    if (document.getElementById(\"75d7ef34-99f5-46ae-8319-0b66f4e246aa\")) {                    Plotly.newPlot(                        \"75d7ef34-99f5-46ae-8319-0b66f4e246aa\",                        [{\"type\": \"bar\", \"x\": [\"Positive Sentiments\", \"Negative Sentiments\", \"Neutral Sentiments\"], \"y\": [353, 74, 15]}],                        {\"template\": {\"data\": {\"bar\": [{\"error_x\": {\"color\": \"#2a3f5f\"}, \"error_y\": {\"color\": \"#2a3f5f\"}, \"marker\": {\"line\": {\"color\": \"#E5ECF6\", \"width\": 0.5}}, \"type\": \"bar\"}], \"barpolar\": [{\"marker\": {\"line\": {\"color\": \"#E5ECF6\", \"width\": 0.5}}, \"type\": \"barpolar\"}], \"carpet\": [{\"aaxis\": {\"endlinecolor\": \"#2a3f5f\", \"gridcolor\": \"white\", \"linecolor\": \"white\", \"minorgridcolor\": \"white\", \"startlinecolor\": \"#2a3f5f\"}, \"baxis\": {\"endlinecolor\": \"#2a3f5f\", \"gridcolor\": \"white\", \"linecolor\": \"white\", \"minorgridcolor\": \"white\", \"startlinecolor\": \"#2a3f5f\"}, \"type\": \"carpet\"}], \"choropleth\": [{\"colorbar\": {\"outlinewidth\": 0, \"ticks\": \"\"}, \"type\": \"choropleth\"}], \"contour\": [{\"colorbar\": {\"outlinewidth\": 0, \"ticks\": \"\"}, \"colorscale\": [[0.0, \"#0d0887\"], [0.1111111111111111, \"#46039f\"], [0.2222222222222222, \"#7201a8\"], [0.3333333333333333, \"#9c179e\"], [0.4444444444444444, \"#bd3786\"], [0.5555555555555556, \"#d8576b\"], [0.6666666666666666, \"#ed7953\"], [0.7777777777777778, \"#fb9f3a\"], [0.8888888888888888, \"#fdca26\"], [1.0, \"#f0f921\"]], \"type\": \"contour\"}], \"contourcarpet\": [{\"colorbar\": {\"outlinewidth\": 0, \"ticks\": \"\"}, \"type\": \"contourcarpet\"}], \"heatmap\": [{\"colorbar\": {\"outlinewidth\": 0, \"ticks\": \"\"}, \"colorscale\": [[0.0, \"#0d0887\"], [0.1111111111111111, \"#46039f\"], [0.2222222222222222, \"#7201a8\"], [0.3333333333333333, \"#9c179e\"], [0.4444444444444444, \"#bd3786\"], [0.5555555555555556, \"#d8576b\"], [0.6666666666666666, \"#ed7953\"], [0.7777777777777778, \"#fb9f3a\"], [0.8888888888888888, \"#fdca26\"], [1.0, \"#f0f921\"]], \"type\": \"heatmap\"}], \"heatmapgl\": [{\"colorbar\": {\"outlinewidth\": 0, \"ticks\": \"\"}, \"colorscale\": [[0.0, \"#0d0887\"], [0.1111111111111111, \"#46039f\"], [0.2222222222222222, \"#7201a8\"], [0.3333333333333333, \"#9c179e\"], [0.4444444444444444, \"#bd3786\"], [0.5555555555555556, \"#d8576b\"], [0.6666666666666666, \"#ed7953\"], [0.7777777777777778, \"#fb9f3a\"], [0.8888888888888888, \"#fdca26\"], [1.0, \"#f0f921\"]], \"type\": \"heatmapgl\"}], \"histogram\": [{\"marker\": {\"colorbar\": {\"outlinewidth\": 0, \"ticks\": \"\"}}, \"type\": \"histogram\"}], \"histogram2d\": [{\"colorbar\": {\"outlinewidth\": 0, \"ticks\": \"\"}, \"colorscale\": [[0.0, \"#0d0887\"], [0.1111111111111111, \"#46039f\"], [0.2222222222222222, \"#7201a8\"], [0.3333333333333333, \"#9c179e\"], [0.4444444444444444, \"#bd3786\"], [0.5555555555555556, \"#d8576b\"], [0.6666666666666666, \"#ed7953\"], [0.7777777777777778, \"#fb9f3a\"], [0.8888888888888888, \"#fdca26\"], [1.0, \"#f0f921\"]], \"type\": \"histogram2d\"}], \"histogram2dcontour\": [{\"colorbar\": {\"outlinewidth\": 0, \"ticks\": \"\"}, \"colorscale\": [[0.0, \"#0d0887\"], [0.1111111111111111, \"#46039f\"], [0.2222222222222222, \"#7201a8\"], [0.3333333333333333, \"#9c179e\"], [0.4444444444444444, \"#bd3786\"], [0.5555555555555556, \"#d8576b\"], [0.6666666666666666, \"#ed7953\"], [0.7777777777777778, \"#fb9f3a\"], [0.8888888888888888, \"#fdca26\"], [1.0, \"#f0f921\"]], \"type\": \"histogram2dcontour\"}], \"mesh3d\": [{\"colorbar\": {\"outlinewidth\": 0, \"ticks\": \"\"}, \"type\": \"mesh3d\"}], \"parcoords\": [{\"line\": {\"colorbar\": {\"outlinewidth\": 0, \"ticks\": \"\"}}, \"type\": \"parcoords\"}], \"pie\": [{\"automargin\": true, \"type\": \"pie\"}], \"scatter\": [{\"marker\": {\"colorbar\": {\"outlinewidth\": 0, \"ticks\": \"\"}}, \"type\": \"scatter\"}], \"scatter3d\": [{\"line\": {\"colorbar\": {\"outlinewidth\": 0, \"ticks\": \"\"}}, \"marker\": {\"colorbar\": {\"outlinewidth\": 0, \"ticks\": \"\"}}, \"type\": \"scatter3d\"}], \"scattercarpet\": [{\"marker\": {\"colorbar\": {\"outlinewidth\": 0, \"ticks\": \"\"}}, \"type\": \"scattercarpet\"}], \"scattergeo\": [{\"marker\": {\"colorbar\": {\"outlinewidth\": 0, \"ticks\": \"\"}}, \"type\": \"scattergeo\"}], \"scattergl\": [{\"marker\": {\"colorbar\": {\"outlinewidth\": 0, \"ticks\": \"\"}}, \"type\": \"scattergl\"}], \"scattermapbox\": [{\"marker\": {\"colorbar\": {\"outlinewidth\": 0, \"ticks\": \"\"}}, \"type\": \"scattermapbox\"}], \"scatterpolar\": [{\"marker\": {\"colorbar\": {\"outlinewidth\": 0, \"ticks\": \"\"}}, \"type\": \"scatterpolar\"}], \"scatterpolargl\": [{\"marker\": {\"colorbar\": {\"outlinewidth\": 0, \"ticks\": \"\"}}, \"type\": \"scatterpolargl\"}], \"scatterternary\": [{\"marker\": {\"colorbar\": {\"outlinewidth\": 0, \"ticks\": \"\"}}, \"type\": \"scatterternary\"}], \"surface\": [{\"colorbar\": {\"outlinewidth\": 0, \"ticks\": \"\"}, \"colorscale\": [[0.0, \"#0d0887\"], [0.1111111111111111, \"#46039f\"], [0.2222222222222222, \"#7201a8\"], [0.3333333333333333, \"#9c179e\"], [0.4444444444444444, \"#bd3786\"], [0.5555555555555556, \"#d8576b\"], [0.6666666666666666, \"#ed7953\"], [0.7777777777777778, \"#fb9f3a\"], [0.8888888888888888, \"#fdca26\"], [1.0, \"#f0f921\"]], \"type\": \"surface\"}], \"table\": [{\"cells\": {\"fill\": {\"color\": \"#EBF0F8\"}, \"line\": {\"color\": \"white\"}}, \"header\": {\"fill\": {\"color\": \"#C8D4E3\"}, \"line\": {\"color\": \"white\"}}, \"type\": \"table\"}]}, \"layout\": {\"annotationdefaults\": {\"arrowcolor\": \"#2a3f5f\", \"arrowhead\": 0, \"arrowwidth\": 1}, \"autotypenumbers\": \"strict\", \"coloraxis\": {\"colorbar\": {\"outlinewidth\": 0, \"ticks\": \"\"}}, \"colorscale\": {\"diverging\": [[0, \"#8e0152\"], [0.1, \"#c51b7d\"], [0.2, \"#de77ae\"], [0.3, \"#f1b6da\"], [0.4, \"#fde0ef\"], [0.5, \"#f7f7f7\"], [0.6, \"#e6f5d0\"], [0.7, \"#b8e186\"], [0.8, \"#7fbc41\"], [0.9, \"#4d9221\"], [1, \"#276419\"]], \"sequential\": [[0.0, \"#0d0887\"], [0.1111111111111111, \"#46039f\"], [0.2222222222222222, \"#7201a8\"], [0.3333333333333333, \"#9c179e\"], [0.4444444444444444, \"#bd3786\"], [0.5555555555555556, \"#d8576b\"], [0.6666666666666666, \"#ed7953\"], [0.7777777777777778, \"#fb9f3a\"], [0.8888888888888888, \"#fdca26\"], [1.0, \"#f0f921\"]], \"sequentialminus\": [[0.0, \"#0d0887\"], [0.1111111111111111, \"#46039f\"], [0.2222222222222222, \"#7201a8\"], [0.3333333333333333, \"#9c179e\"], [0.4444444444444444, \"#bd3786\"], [0.5555555555555556, \"#d8576b\"], [0.6666666666666666, \"#ed7953\"], [0.7777777777777778, \"#fb9f3a\"], [0.8888888888888888, \"#fdca26\"], [1.0, \"#f0f921\"]]}, \"colorway\": [\"#636efa\", \"#EF553B\", \"#00cc96\", \"#ab63fa\", \"#FFA15A\", \"#19d3f3\", \"#FF6692\", \"#B6E880\", \"#FF97FF\", \"#FECB52\"], \"font\": {\"color\": \"#2a3f5f\"}, \"geo\": {\"bgcolor\": \"white\", \"lakecolor\": \"white\", \"landcolor\": \"#E5ECF6\", \"showlakes\": true, \"showland\": true, \"subunitcolor\": \"white\"}, \"hoverlabel\": {\"align\": \"left\"}, \"hovermode\": \"closest\", \"mapbox\": {\"style\": \"light\"}, \"paper_bgcolor\": \"white\", \"plot_bgcolor\": \"#E5ECF6\", \"polar\": {\"angularaxis\": {\"gridcolor\": \"white\", \"linecolor\": \"white\", \"ticks\": \"\"}, \"bgcolor\": \"#E5ECF6\", \"radialaxis\": {\"gridcolor\": \"white\", \"linecolor\": \"white\", \"ticks\": \"\"}}, \"scene\": {\"xaxis\": {\"backgroundcolor\": \"#E5ECF6\", \"gridcolor\": \"white\", \"gridwidth\": 2, \"linecolor\": \"white\", \"showbackground\": true, \"ticks\": \"\", \"zerolinecolor\": \"white\"}, \"yaxis\": {\"backgroundcolor\": \"#E5ECF6\", \"gridcolor\": \"white\", \"gridwidth\": 2, \"linecolor\": \"white\", \"showbackground\": true, \"ticks\": \"\", \"zerolinecolor\": \"white\"}, \"zaxis\": {\"backgroundcolor\": \"#E5ECF6\", \"gridcolor\": \"white\", \"gridwidth\": 2, \"linecolor\": \"white\", \"showbackground\": true, \"ticks\": \"\", \"zerolinecolor\": \"white\"}}, \"shapedefaults\": {\"line\": {\"color\": \"#2a3f5f\"}}, \"ternary\": {\"aaxis\": {\"gridcolor\": \"white\", \"linecolor\": \"white\", \"ticks\": \"\"}, \"baxis\": {\"gridcolor\": \"white\", \"linecolor\": \"white\", \"ticks\": \"\"}, \"bgcolor\": \"#E5ECF6\", \"caxis\": {\"gridcolor\": \"white\", \"linecolor\": \"white\", \"ticks\": \"\"}}, \"title\": {\"x\": 0.05}, \"xaxis\": {\"automargin\": true, \"gridcolor\": \"white\", \"linecolor\": \"white\", \"ticks\": \"\", \"title\": {\"standoff\": 15}, \"zerolinecolor\": \"white\", \"zerolinewidth\": 2}, \"yaxis\": {\"automargin\": true, \"gridcolor\": \"white\", \"linecolor\": \"white\", \"ticks\": \"\", \"title\": {\"standoff\": 15}, \"zerolinecolor\": \"white\", \"zerolinewidth\": 2}}}},                        {\"responsive\": true}                    ).then(function(){\n",
       "                            \n",
       "var gd = document.getElementById('75d7ef34-99f5-46ae-8319-0b66f4e246aa');\n",
       "var x = new MutationObserver(function (mutations, observer) {{\n",
       "        var display = window.getComputedStyle(gd).display;\n",
       "        if (!display || display === 'none') {{\n",
       "            console.log([gd, 'removed!']);\n",
       "            Plotly.purge(gd);\n",
       "            observer.disconnect();\n",
       "        }}\n",
       "}});\n",
       "\n",
       "// Listen for the removal of the full notebook cells\n",
       "var notebookContainer = gd.closest('#notebook-container');\n",
       "if (notebookContainer) {{\n",
       "    x.observe(notebookContainer, {childList: true});\n",
       "}}\n",
       "\n",
       "// Listen for the clearing of the current output cell\n",
       "var outputEl = gd.closest('.output');\n",
       "if (outputEl) {{\n",
       "    x.observe(outputEl, {childList: true});\n",
       "}}\n",
       "\n",
       "                        })                };                });            </script>        </div>"
      ]
     },
     "metadata": {},
     "output_type": "display_data"
    }
   ],
   "source": [
    "#using plotly to visualize a histogram\n",
    "#checking if the dataframe is empty\n",
    "if len(data) > 0 :\n",
    "    Fac=['Positive Sentiments', 'Negative Sentiments', 'Neutral Sentiments'] # we declare the titles\n",
    "# providing the data\n",
    "    fig = go.Figure([go.Bar(x=Fac, y=[data.Sentiment.str.count(\"Positive\").sum(),\n",
    "                                         data.Sentiment.str.count(\"Negative\").sum(),\n",
    "                                         data.Sentiment.str.count(\"Neutral\").sum()])])\n",
    "    fig.show()\n"
   ]
  },
  {
   "cell_type": "code",
   "execution_count": 166,
   "metadata": {},
   "outputs": [
    {
     "name": "stdout",
     "output_type": "stream",
     "text": [
      "avg rate                                   keyFeaturesDiscussed                                      Sentiment\n",
      "-----------------------------------------  --------------------------------------------------------  -------------------------------------------\n",
      "0      3.375                               0      ['components tires', '   pads', '  speedometer...  0      Negative\n",
      "1      4.875                               1                                            ['  speed']  1      Positive\n",
      "2      3.875                               2      ['utility body', 'time wagon', 'honda reliabil...  2      Positive\n",
      "3      4.875                               3      ['element awd', 'fuel mileage', 'highwayinters...  3      Positive\n",
      "4      4.750                               4                                        ['speed miles']  4      Positive\n",
      "       ...                                                              ...                                   ...\n",
      "437    3.000                               437    ['  speed', '  van', 'car research', '  star',...  437    Positive\n",
      "438    5.000                               438    ['road trip', 'yard waste', 'dump finding', 'h...  438    Positive\n",
      "439    5.000                               439    ['wrx sti', 'gas mileage', 'train station', 't...  439    Positive\n",
      "440    5.000                               440    ['  fit', 'honda fit', 'steering wheel', 'whee...  440    Positive\n",
      "441    5.000                               441    ['honda fit', 'honda fit', 'road noise', 'wind...  441    Positive\n",
      "Name: Rating, Length: 442, dtype: float64  Name: FeaturesDiscussed, Length: 442, dtype: object       Name: Sentiment, Length: 442, dtype: object\n"
     ]
    }
   ],
   "source": [
    "#creating a table from tabulate library to show the data\n",
    "#check the dataframe\n",
    "if len(data) > 0 :\n",
    "\n",
    "    print(tabulate([[data['Rating'],data['FeaturesDiscussed'],data['Sentiment']]],\n",
    "                  headers=['avg rate','keyFeaturesDiscussed','Sentiment'],showindex=\"never\"))\n"
   ]
  },
  {
   "cell_type": "code",
   "execution_count": 167,
   "metadata": {},
   "outputs": [],
   "source": [
    "#Tweepy\n",
    "#we declare our credintials\n",
    "consumer_key=\"DSBPI5oyPQEiY3qgg2fecQuLR\"\n",
    "consumer_secret=\"cqKaon6dQdl66WW55HbuQal89A1cRuFuMY3EwhxgUJVu44Vpnu\"\n",
    "access_token=\"353386879-jA0Td42vAAz8tSRWZb8MozhAppx8KNEypHQEHp9G\"\n",
    "access_token_secret=\"LhFN9joYIFndaBmXKU7Ws3M1YkpwfeWPkuKEYqNtW97Qf\"\n",
    "#initialize the api\n",
    "auth = tw.OAuthHandler(consumer_key, consumer_secret)\n",
    "auth.set_access_token(access_token, access_token_secret)\n",
    "api = tw.API(auth, wait_on_rate_limit=True)"
   ]
  },
  {
   "cell_type": "code",
   "execution_count": 168,
   "metadata": {},
   "outputs": [],
   "source": [
    "#a function to remove emojis\n",
    "def remove_emoji(string):\n",
    "    emoji_pattern = re.compile(\"[\"\n",
    "                       \"\\U0001F1E0-\\U0001F1FF\"  # flags (iOS)\n",
    "    \"\\U0001F300-\\U0001F5FF\"  # symbols & pictographs\n",
    "    \"\\U0001F600-\\U0001F64F\"  # emotions\n",
    "    \"\\U0001F680-\\U0001F6FF\"  # transport & map symbols\n",
    "    \"\\U0001F700-\\U0001F77F\"  # alchemical symbols\n",
    "    \"\\U0001F780-\\U0001F7FF\"  # Geometric Shapes Extended\n",
    "    \"\\U0001F800-\\U0001F8FF\"  # Supplemental Arrows-C\n",
    "    \"\\U0001F900-\\U0001F9FF\"  # Supplemental Symbols and Pictographs\n",
    "    \"\\U0001FA00-\\U0001FA6F\"  # Chess Symbols\n",
    "    \"\\U0001FA70-\\U0001FAFF\"  # Symbols and Pictographs Extended-A\n",
    "    \"\\U00002702-\\U000027B0\"  # Dingbats\n",
    "    \"\\U000024C2-\\U0001F251\" \n",
    "                           \"]+\", flags=re.UNICODE)\n",
    "    return emoji_pattern.sub(r'', string)"
   ]
  },
  {
   "cell_type": "code",
   "execution_count": 169,
   "metadata": {},
   "outputs": [
    {
     "name": "stdout",
     "output_type": "stream",
     "text": [
      "number of unique ids:  175\n"
     ]
    }
   ],
   "source": [
    "#tweepy api usage\n",
    "#we define the sets for stats\n",
    "ids = set()\n",
    "usrs = []\n",
    "tweets = []\n",
    "dates = []\n",
    "#we loop into tweets with our keyword\n",
    "for tweet in tw.Cursor(api.search, \n",
    "                    q=\"#civic\", #keyword\n",
    "                    lang=\"en\").items(50000): #language and maximum number of items\n",
    "    if (not tweet.retweeted) and ('@' not in tweet.text): # we exclude the retweets and mentions\n",
    "        ids.add(tweet.id) # add new id\n",
    "        usrs.append(tweet.user.screen_name)\n",
    "        tweets.append(tweet.text)\n",
    "        dates.append(tweet.created_at)\n",
    "print (\"number of unique ids: \",format(len(ids))) #print the number of records\n"
   ]
  },
  {
   "cell_type": "code",
   "execution_count": 170,
   "metadata": {},
   "outputs": [
    {
     "data": {
      "text/html": [
       "<div>\n",
       "<style scoped>\n",
       "    .dataframe tbody tr th:only-of-type {\n",
       "        vertical-align: middle;\n",
       "    }\n",
       "\n",
       "    .dataframe tbody tr th {\n",
       "        vertical-align: top;\n",
       "    }\n",
       "\n",
       "    .dataframe thead th {\n",
       "        text-align: right;\n",
       "    }\n",
       "</style>\n",
       "<table border=\"1\" class=\"dataframe\">\n",
       "  <thead>\n",
       "    <tr style=\"text-align: right;\">\n",
       "      <th></th>\n",
       "      <th>user</th>\n",
       "      <th>tweet</th>\n",
       "      <th>date</th>\n",
       "    </tr>\n",
       "  </thead>\n",
       "  <tbody>\n",
       "    <tr>\n",
       "      <th>0</th>\n",
       "      <td>mnss2903</td>\n",
       "      <td>the black one though🥺🥺🥺🤤\\n#Civic\\n#Honda\\n\\nso...</td>\n",
       "      <td>2021-04-25 13:19:50</td>\n",
       "    </tr>\n",
       "    <tr>\n",
       "      <th>1</th>\n",
       "      <td>Vii_oz</td>\n",
       "      <td>The power of dreams.\\n#honda #TypeR #Civic #fk...</td>\n",
       "      <td>2021-04-25 13:14:19</td>\n",
       "    </tr>\n",
       "    <tr>\n",
       "      <th>2</th>\n",
       "      <td>DuffMan_D</td>\n",
       "      <td>Winter J's Racing colours for the FK2 Civic Ty...</td>\n",
       "      <td>2021-04-25 12:15:50</td>\n",
       "    </tr>\n",
       "    <tr>\n",
       "      <th>3</th>\n",
       "      <td>abomagdi</td>\n",
       "      <td>TOMS ELECTRONIC THROTTLE CONTROLLER LTSIII FOR...</td>\n",
       "      <td>2021-04-25 12:08:04</td>\n",
       "    </tr>\n",
       "    <tr>\n",
       "      <th>4</th>\n",
       "      <td>FbrOutlaw</td>\n",
       "      <td>The car + the details that make me love it. Wi...</td>\n",
       "      <td>2021-04-25 11:54:36</td>\n",
       "    </tr>\n",
       "    <tr>\n",
       "      <th>...</th>\n",
       "      <td>...</td>\n",
       "      <td>...</td>\n",
       "      <td>...</td>\n",
       "    </tr>\n",
       "    <tr>\n",
       "      <th>170</th>\n",
       "      <td>TheImportGeek</td>\n",
       "      <td>Trying to get rid of my #ej2 #civic motor and ...</td>\n",
       "      <td>2021-04-17 15:48:05</td>\n",
       "    </tr>\n",
       "    <tr>\n",
       "      <th>171</th>\n",
       "      <td>ENEOSUSA</td>\n",
       "      <td>The FK8 CTR is prone to generate heat; maintai...</td>\n",
       "      <td>2021-04-17 15:30:02</td>\n",
       "    </tr>\n",
       "    <tr>\n",
       "      <th>172</th>\n",
       "      <td>LkldAutomall</td>\n",
       "      <td>At #LakelandAutomall, we have all kinds of #Gr...</td>\n",
       "      <td>2021-04-17 15:10:04</td>\n",
       "    </tr>\n",
       "    <tr>\n",
       "      <th>173</th>\n",
       "      <td>topgovtgrant</td>\n",
       "      <td>ICYMI Positive Tracks Taps into Youth Skills t...</td>\n",
       "      <td>2021-04-17 14:19:03</td>\n",
       "    </tr>\n",
       "    <tr>\n",
       "      <th>174</th>\n",
       "      <td>AutoAuctionSpot</td>\n",
       "      <td>2019 #HONDA #CIVIC\\nLot sold for $6,100\\nMore ...</td>\n",
       "      <td>2021-04-17 12:11:11</td>\n",
       "    </tr>\n",
       "  </tbody>\n",
       "</table>\n",
       "<p>175 rows × 3 columns</p>\n",
       "</div>"
      ],
      "text/plain": [
       "                user                                              tweet  \\\n",
       "0           mnss2903  the black one though🥺🥺🥺🤤\\n#Civic\\n#Honda\\n\\nso...   \n",
       "1             Vii_oz  The power of dreams.\\n#honda #TypeR #Civic #fk...   \n",
       "2          DuffMan_D  Winter J's Racing colours for the FK2 Civic Ty...   \n",
       "3           abomagdi  TOMS ELECTRONIC THROTTLE CONTROLLER LTSIII FOR...   \n",
       "4          FbrOutlaw  The car + the details that make me love it. Wi...   \n",
       "..               ...                                                ...   \n",
       "170    TheImportGeek  Trying to get rid of my #ej2 #civic motor and ...   \n",
       "171         ENEOSUSA  The FK8 CTR is prone to generate heat; maintai...   \n",
       "172     LkldAutomall  At #LakelandAutomall, we have all kinds of #Gr...   \n",
       "173     topgovtgrant  ICYMI Positive Tracks Taps into Youth Skills t...   \n",
       "174  AutoAuctionSpot  2019 #HONDA #CIVIC\\nLot sold for $6,100\\nMore ...   \n",
       "\n",
       "                   date  \n",
       "0   2021-04-25 13:19:50  \n",
       "1   2021-04-25 13:14:19  \n",
       "2   2021-04-25 12:15:50  \n",
       "3   2021-04-25 12:08:04  \n",
       "4   2021-04-25 11:54:36  \n",
       "..                  ...  \n",
       "170 2021-04-17 15:48:05  \n",
       "171 2021-04-17 15:30:02  \n",
       "172 2021-04-17 15:10:04  \n",
       "173 2021-04-17 14:19:03  \n",
       "174 2021-04-17 12:11:11  \n",
       "\n",
       "[175 rows x 3 columns]"
      ]
     },
     "execution_count": 170,
     "metadata": {},
     "output_type": "execute_result"
    }
   ],
   "source": [
    "#intialize the dataframe\n",
    "df_twt=pd.DataFrame(columns=['user','tweet','date'])\n",
    "df_twt['user']=usrs #adding the users from user list\n",
    "df_twt['tweet']=tweets # adding tweets\n",
    "df_twt['date']=dates # dates of the tweets\n",
    "df_twt"
   ]
  },
  {
   "cell_type": "code",
   "execution_count": 171,
   "metadata": {},
   "outputs": [],
   "source": [
    "#cleaning the text of the tweets\n",
    "df_twt['Clean_tweet'] = pd.DataFrame(df_twt.tweet.apply(cleaned))\n"
   ]
  },
  {
   "cell_type": "code",
   "execution_count": 172,
   "metadata": {},
   "outputs": [
    {
     "data": {
      "text/html": [
       "<div>\n",
       "<style scoped>\n",
       "    .dataframe tbody tr th:only-of-type {\n",
       "        vertical-align: middle;\n",
       "    }\n",
       "\n",
       "    .dataframe tbody tr th {\n",
       "        vertical-align: top;\n",
       "    }\n",
       "\n",
       "    .dataframe thead th {\n",
       "        text-align: right;\n",
       "    }\n",
       "</style>\n",
       "<table border=\"1\" class=\"dataframe\">\n",
       "  <thead>\n",
       "    <tr style=\"text-align: right;\">\n",
       "      <th></th>\n",
       "      <th>user</th>\n",
       "      <th>tweet</th>\n",
       "      <th>date</th>\n",
       "      <th>Clean_tweet</th>\n",
       "    </tr>\n",
       "  </thead>\n",
       "  <tbody>\n",
       "    <tr>\n",
       "      <th>1</th>\n",
       "      <td>Vii_oz</td>\n",
       "      <td>The power of dreams.\\n#honda #TypeR #Civic #fk...</td>\n",
       "      <td>2021-04-25 13:14:19</td>\n",
       "      <td>The power of dreams.\\n#honda #TypeR #Civic #fk...</td>\n",
       "    </tr>\n",
       "    <tr>\n",
       "      <th>2</th>\n",
       "      <td>DuffMan_D</td>\n",
       "      <td>Winter J's Racing colours for the FK2 Civic Ty...</td>\n",
       "      <td>2021-04-25 12:15:50</td>\n",
       "      <td>Winter J's Racing colours for the FK2 Civic Ty...</td>\n",
       "    </tr>\n",
       "    <tr>\n",
       "      <th>3</th>\n",
       "      <td>abomagdi</td>\n",
       "      <td>TOMS ELECTRONIC THROTTLE CONTROLLER LTSIII FOR...</td>\n",
       "      <td>2021-04-25 12:08:04</td>\n",
       "      <td>TOMS ELECTRONIC THROTTLE CONTROLLER LTSIII FOR...</td>\n",
       "    </tr>\n",
       "    <tr>\n",
       "      <th>4</th>\n",
       "      <td>FbrOutlaw</td>\n",
       "      <td>The car + the details that make me love it. Wi...</td>\n",
       "      <td>2021-04-25 11:54:36</td>\n",
       "      <td>The car + the details that make me love it. Wi...</td>\n",
       "    </tr>\n",
       "    <tr>\n",
       "      <th>5</th>\n",
       "      <td>Iam2old4this2</td>\n",
       "      <td>It seems, it's the highest uneducated communit...</td>\n",
       "      <td>2021-04-25 11:43:11</td>\n",
       "      <td>It seems, it's the highest uneducated communit...</td>\n",
       "    </tr>\n",
       "    <tr>\n",
       "      <th>...</th>\n",
       "      <td>...</td>\n",
       "      <td>...</td>\n",
       "      <td>...</td>\n",
       "      <td>...</td>\n",
       "    </tr>\n",
       "    <tr>\n",
       "      <th>170</th>\n",
       "      <td>TheImportGeek</td>\n",
       "      <td>Trying to get rid of my #ej2 #civic motor and ...</td>\n",
       "      <td>2021-04-17 15:48:05</td>\n",
       "      <td>Trying to get rid of my #ej2 #civic motor and ...</td>\n",
       "    </tr>\n",
       "    <tr>\n",
       "      <th>171</th>\n",
       "      <td>ENEOSUSA</td>\n",
       "      <td>The FK8 CTR is prone to generate heat; maintai...</td>\n",
       "      <td>2021-04-17 15:30:02</td>\n",
       "      <td>The FK8 CTR is prone to generate heat; maintai...</td>\n",
       "    </tr>\n",
       "    <tr>\n",
       "      <th>172</th>\n",
       "      <td>LkldAutomall</td>\n",
       "      <td>At #LakelandAutomall, we have all kinds of #Gr...</td>\n",
       "      <td>2021-04-17 15:10:04</td>\n",
       "      <td>At #LakelandAutomall, we have all kinds of #Gr...</td>\n",
       "    </tr>\n",
       "    <tr>\n",
       "      <th>173</th>\n",
       "      <td>topgovtgrant</td>\n",
       "      <td>ICYMI Positive Tracks Taps into Youth Skills t...</td>\n",
       "      <td>2021-04-17 14:19:03</td>\n",
       "      <td>ICYMI Positive Tracks Taps into Youth Skills t...</td>\n",
       "    </tr>\n",
       "    <tr>\n",
       "      <th>174</th>\n",
       "      <td>AutoAuctionSpot</td>\n",
       "      <td>2019 #HONDA #CIVIC\\nLot sold for $6,100\\nMore ...</td>\n",
       "      <td>2021-04-17 12:11:11</td>\n",
       "      <td>2019 #HONDA #CIVIC\\nLot sold for $6,100\\nMore ...</td>\n",
       "    </tr>\n",
       "  </tbody>\n",
       "</table>\n",
       "<p>174 rows × 4 columns</p>\n",
       "</div>"
      ],
      "text/plain": [
       "                user                                              tweet  \\\n",
       "1             Vii_oz  The power of dreams.\\n#honda #TypeR #Civic #fk...   \n",
       "2          DuffMan_D  Winter J's Racing colours for the FK2 Civic Ty...   \n",
       "3           abomagdi  TOMS ELECTRONIC THROTTLE CONTROLLER LTSIII FOR...   \n",
       "4          FbrOutlaw  The car + the details that make me love it. Wi...   \n",
       "5      Iam2old4this2  It seems, it's the highest uneducated communit...   \n",
       "..               ...                                                ...   \n",
       "170    TheImportGeek  Trying to get rid of my #ej2 #civic motor and ...   \n",
       "171         ENEOSUSA  The FK8 CTR is prone to generate heat; maintai...   \n",
       "172     LkldAutomall  At #LakelandAutomall, we have all kinds of #Gr...   \n",
       "173     topgovtgrant  ICYMI Positive Tracks Taps into Youth Skills t...   \n",
       "174  AutoAuctionSpot  2019 #HONDA #CIVIC\\nLot sold for $6,100\\nMore ...   \n",
       "\n",
       "                   date                                        Clean_tweet  \n",
       "1   2021-04-25 13:14:19  The power of dreams.\\n#honda #TypeR #Civic #fk...  \n",
       "2   2021-04-25 12:15:50  Winter J's Racing colours for the FK2 Civic Ty...  \n",
       "3   2021-04-25 12:08:04  TOMS ELECTRONIC THROTTLE CONTROLLER LTSIII FOR...  \n",
       "4   2021-04-25 11:54:36  The car + the details that make me love it. Wi...  \n",
       "5   2021-04-25 11:43:11  It seems, it's the highest uneducated communit...  \n",
       "..                  ...                                                ...  \n",
       "170 2021-04-17 15:48:05  Trying to get rid of my #ej2 #civic motor and ...  \n",
       "171 2021-04-17 15:30:02  The FK8 CTR is prone to generate heat; maintai...  \n",
       "172 2021-04-17 15:10:04  At #LakelandAutomall, we have all kinds of #Gr...  \n",
       "173 2021-04-17 14:19:03  ICYMI Positive Tracks Taps into Youth Skills t...  \n",
       "174 2021-04-17 12:11:11  2019 #HONDA #CIVIC\\nLot sold for $6,100\\nMore ...  \n",
       "\n",
       "[174 rows x 4 columns]"
      ]
     },
     "execution_count": 172,
     "metadata": {},
     "output_type": "execute_result"
    }
   ],
   "source": [
    "#remove the popular emojis\n",
    "df_twt['Clean_tweet'] = pd.DataFrame(df_twt.tweet.apply(remove_emoji))\n",
    "df_twt.tail(-1)"
   ]
  },
  {
   "cell_type": "code",
   "execution_count": 173,
   "metadata": {},
   "outputs": [
    {
     "data": {
      "text/html": [
       "<div>\n",
       "<style scoped>\n",
       "    .dataframe tbody tr th:only-of-type {\n",
       "        vertical-align: middle;\n",
       "    }\n",
       "\n",
       "    .dataframe tbody tr th {\n",
       "        vertical-align: top;\n",
       "    }\n",
       "\n",
       "    .dataframe thead th {\n",
       "        text-align: right;\n",
       "    }\n",
       "</style>\n",
       "<table border=\"1\" class=\"dataframe\">\n",
       "  <thead>\n",
       "    <tr style=\"text-align: right;\">\n",
       "      <th></th>\n",
       "      <th>user</th>\n",
       "      <th>tweet</th>\n",
       "      <th>date</th>\n",
       "      <th>Clean_tweet</th>\n",
       "      <th>Sentiment</th>\n",
       "      <th>Compound_Score</th>\n",
       "    </tr>\n",
       "  </thead>\n",
       "  <tbody>\n",
       "    <tr>\n",
       "      <th>0</th>\n",
       "      <td>mnss2903</td>\n",
       "      <td>the black one though🥺🥺🥺🤤\\n#Civic\\n#Honda\\n\\nso...</td>\n",
       "      <td>2021-04-25 13:19:50</td>\n",
       "      <td>the black one though\\n#Civic\\n#Honda\\n\\nsource...</td>\n",
       "      <td>Neutral</td>\n",
       "      <td>0.0000</td>\n",
       "    </tr>\n",
       "    <tr>\n",
       "      <th>1</th>\n",
       "      <td>Vii_oz</td>\n",
       "      <td>The power of dreams.\\n#honda #TypeR #Civic #fk...</td>\n",
       "      <td>2021-04-25 13:14:19</td>\n",
       "      <td>The power of dreams.\\n#honda #TypeR #Civic #fk...</td>\n",
       "      <td>Positive</td>\n",
       "      <td>0.4019</td>\n",
       "    </tr>\n",
       "    <tr>\n",
       "      <th>2</th>\n",
       "      <td>DuffMan_D</td>\n",
       "      <td>Winter J's Racing colours for the FK2 Civic Ty...</td>\n",
       "      <td>2021-04-25 12:15:50</td>\n",
       "      <td>Winter J's Racing colours for the FK2 Civic Ty...</td>\n",
       "      <td>Positive</td>\n",
       "      <td>0.3400</td>\n",
       "    </tr>\n",
       "    <tr>\n",
       "      <th>3</th>\n",
       "      <td>abomagdi</td>\n",
       "      <td>TOMS ELECTRONIC THROTTLE CONTROLLER LTSIII FOR...</td>\n",
       "      <td>2021-04-25 12:08:04</td>\n",
       "      <td>TOMS ELECTRONIC THROTTLE CONTROLLER LTSIII FOR...</td>\n",
       "      <td>Neutral</td>\n",
       "      <td>0.0000</td>\n",
       "    </tr>\n",
       "    <tr>\n",
       "      <th>4</th>\n",
       "      <td>FbrOutlaw</td>\n",
       "      <td>The car + the details that make me love it. Wi...</td>\n",
       "      <td>2021-04-25 11:54:36</td>\n",
       "      <td>The car + the details that make me love it. Wi...</td>\n",
       "      <td>Positive</td>\n",
       "      <td>0.4767</td>\n",
       "    </tr>\n",
       "  </tbody>\n",
       "</table>\n",
       "</div>"
      ],
      "text/plain": [
       "        user                                              tweet  \\\n",
       "0   mnss2903  the black one though🥺🥺🥺🤤\\n#Civic\\n#Honda\\n\\nso...   \n",
       "1     Vii_oz  The power of dreams.\\n#honda #TypeR #Civic #fk...   \n",
       "2  DuffMan_D  Winter J's Racing colours for the FK2 Civic Ty...   \n",
       "3   abomagdi  TOMS ELECTRONIC THROTTLE CONTROLLER LTSIII FOR...   \n",
       "4  FbrOutlaw  The car + the details that make me love it. Wi...   \n",
       "\n",
       "                 date                                        Clean_tweet  \\\n",
       "0 2021-04-25 13:19:50  the black one though\\n#Civic\\n#Honda\\n\\nsource...   \n",
       "1 2021-04-25 13:14:19  The power of dreams.\\n#honda #TypeR #Civic #fk...   \n",
       "2 2021-04-25 12:15:50  Winter J's Racing colours for the FK2 Civic Ty...   \n",
       "3 2021-04-25 12:08:04  TOMS ELECTRONIC THROTTLE CONTROLLER LTSIII FOR...   \n",
       "4 2021-04-25 11:54:36  The car + the details that make me love it. Wi...   \n",
       "\n",
       "  Sentiment  Compound_Score  \n",
       "0   Neutral          0.0000  \n",
       "1  Positive          0.4019  \n",
       "2  Positive          0.3400  \n",
       "3   Neutral          0.0000  \n",
       "4  Positive          0.4767  "
      ]
     },
     "execution_count": 173,
     "metadata": {},
     "output_type": "execute_result"
    }
   ],
   "source": [
    "#VADER sentiment analysis\n",
    "#initialize the analyzer and sets of stats\n",
    "analyzer = SentimentIntensityAnalyzer()\n",
    "negative = []\n",
    "positive = []\n",
    "neutral = []\n",
    "sentiment = []\n",
    "comp = []\n",
    "#loop in the cleaned tweets\n",
    "for i in range(len(df_twt)):\n",
    "    sent = analyzer.polarity_scores(df_twt['Clean_tweet'][i])\n",
    "    #initialize our condition for positive sentiment\n",
    "    if sent['compound'] >= 0.05:\n",
    "        sentiment.append(\"Positive\") # add positive for the sentiment column\n",
    "        positive.append(sent['pos']) # we add the positive score to positive list\n",
    "        comp.append(sent['compound']) # add the compound score for this column\n",
    "        #initialize neutral sentiment condition\n",
    "    if sent['compound'] > -0.05 and sent['compound'] <0.05:\n",
    "        sentiment.append(\"Neutral\") # add meutral for the sentiment column\n",
    "        neutral.append(sent['neu']) # add the neutral score to neutral list\n",
    "        comp.append(sent['compound'])# add the compound score for this column\n",
    "    elif sent['compound'] <= 0.05:\n",
    "        sentiment.append(\"Negative\")\n",
    "        negative.append(sent['neg'])\n",
    "        comp.append(sent['compound'])\n",
    "df_twt['Sentiment']=sentiment # add the scores of sentiment to the dataframe\n",
    "df_twt['Compound_Score']=comp # adding the compound scores to the dataframe\n",
    "df_twt.head()"
   ]
  },
  {
   "cell_type": "code",
   "execution_count": 174,
   "metadata": {},
   "outputs": [],
   "source": [
    "#we compute the average score for each sentiment\n",
    "neg_avg= sum(negative)/len(negative)\n",
    "pos_avg= sum(positive)/len(positive)\n",
    "neu_avg= sum(neutral)/len(neutral)"
   ]
  },
  {
   "cell_type": "code",
   "execution_count": 175,
   "metadata": {},
   "outputs": [
    {
     "data": {
      "application/vnd.plotly.v1+json": {
       "config": {
        "plotlyServerURL": "https://plot.ly"
       },
       "data": [
        {
         "labels": [
          "Negative",
          "Positive",
          "Neutral/Satisfied"
         ],
         "pull": [
          0,
          0,
          0.2,
          0
         ],
         "type": "pie",
         "values": [
          0.16311764705882353,
          0.24104444444444448,
          0.9991029411764705
         ]
        }
       ],
       "layout": {
        "template": {
         "data": {
          "bar": [
           {
            "error_x": {
             "color": "#2a3f5f"
            },
            "error_y": {
             "color": "#2a3f5f"
            },
            "marker": {
             "line": {
              "color": "#E5ECF6",
              "width": 0.5
             }
            },
            "type": "bar"
           }
          ],
          "barpolar": [
           {
            "marker": {
             "line": {
              "color": "#E5ECF6",
              "width": 0.5
             }
            },
            "type": "barpolar"
           }
          ],
          "carpet": [
           {
            "aaxis": {
             "endlinecolor": "#2a3f5f",
             "gridcolor": "white",
             "linecolor": "white",
             "minorgridcolor": "white",
             "startlinecolor": "#2a3f5f"
            },
            "baxis": {
             "endlinecolor": "#2a3f5f",
             "gridcolor": "white",
             "linecolor": "white",
             "minorgridcolor": "white",
             "startlinecolor": "#2a3f5f"
            },
            "type": "carpet"
           }
          ],
          "choropleth": [
           {
            "colorbar": {
             "outlinewidth": 0,
             "ticks": ""
            },
            "type": "choropleth"
           }
          ],
          "contour": [
           {
            "colorbar": {
             "outlinewidth": 0,
             "ticks": ""
            },
            "colorscale": [
             [
              0,
              "#0d0887"
             ],
             [
              0.1111111111111111,
              "#46039f"
             ],
             [
              0.2222222222222222,
              "#7201a8"
             ],
             [
              0.3333333333333333,
              "#9c179e"
             ],
             [
              0.4444444444444444,
              "#bd3786"
             ],
             [
              0.5555555555555556,
              "#d8576b"
             ],
             [
              0.6666666666666666,
              "#ed7953"
             ],
             [
              0.7777777777777778,
              "#fb9f3a"
             ],
             [
              0.8888888888888888,
              "#fdca26"
             ],
             [
              1,
              "#f0f921"
             ]
            ],
            "type": "contour"
           }
          ],
          "contourcarpet": [
           {
            "colorbar": {
             "outlinewidth": 0,
             "ticks": ""
            },
            "type": "contourcarpet"
           }
          ],
          "heatmap": [
           {
            "colorbar": {
             "outlinewidth": 0,
             "ticks": ""
            },
            "colorscale": [
             [
              0,
              "#0d0887"
             ],
             [
              0.1111111111111111,
              "#46039f"
             ],
             [
              0.2222222222222222,
              "#7201a8"
             ],
             [
              0.3333333333333333,
              "#9c179e"
             ],
             [
              0.4444444444444444,
              "#bd3786"
             ],
             [
              0.5555555555555556,
              "#d8576b"
             ],
             [
              0.6666666666666666,
              "#ed7953"
             ],
             [
              0.7777777777777778,
              "#fb9f3a"
             ],
             [
              0.8888888888888888,
              "#fdca26"
             ],
             [
              1,
              "#f0f921"
             ]
            ],
            "type": "heatmap"
           }
          ],
          "heatmapgl": [
           {
            "colorbar": {
             "outlinewidth": 0,
             "ticks": ""
            },
            "colorscale": [
             [
              0,
              "#0d0887"
             ],
             [
              0.1111111111111111,
              "#46039f"
             ],
             [
              0.2222222222222222,
              "#7201a8"
             ],
             [
              0.3333333333333333,
              "#9c179e"
             ],
             [
              0.4444444444444444,
              "#bd3786"
             ],
             [
              0.5555555555555556,
              "#d8576b"
             ],
             [
              0.6666666666666666,
              "#ed7953"
             ],
             [
              0.7777777777777778,
              "#fb9f3a"
             ],
             [
              0.8888888888888888,
              "#fdca26"
             ],
             [
              1,
              "#f0f921"
             ]
            ],
            "type": "heatmapgl"
           }
          ],
          "histogram": [
           {
            "marker": {
             "colorbar": {
              "outlinewidth": 0,
              "ticks": ""
             }
            },
            "type": "histogram"
           }
          ],
          "histogram2d": [
           {
            "colorbar": {
             "outlinewidth": 0,
             "ticks": ""
            },
            "colorscale": [
             [
              0,
              "#0d0887"
             ],
             [
              0.1111111111111111,
              "#46039f"
             ],
             [
              0.2222222222222222,
              "#7201a8"
             ],
             [
              0.3333333333333333,
              "#9c179e"
             ],
             [
              0.4444444444444444,
              "#bd3786"
             ],
             [
              0.5555555555555556,
              "#d8576b"
             ],
             [
              0.6666666666666666,
              "#ed7953"
             ],
             [
              0.7777777777777778,
              "#fb9f3a"
             ],
             [
              0.8888888888888888,
              "#fdca26"
             ],
             [
              1,
              "#f0f921"
             ]
            ],
            "type": "histogram2d"
           }
          ],
          "histogram2dcontour": [
           {
            "colorbar": {
             "outlinewidth": 0,
             "ticks": ""
            },
            "colorscale": [
             [
              0,
              "#0d0887"
             ],
             [
              0.1111111111111111,
              "#46039f"
             ],
             [
              0.2222222222222222,
              "#7201a8"
             ],
             [
              0.3333333333333333,
              "#9c179e"
             ],
             [
              0.4444444444444444,
              "#bd3786"
             ],
             [
              0.5555555555555556,
              "#d8576b"
             ],
             [
              0.6666666666666666,
              "#ed7953"
             ],
             [
              0.7777777777777778,
              "#fb9f3a"
             ],
             [
              0.8888888888888888,
              "#fdca26"
             ],
             [
              1,
              "#f0f921"
             ]
            ],
            "type": "histogram2dcontour"
           }
          ],
          "mesh3d": [
           {
            "colorbar": {
             "outlinewidth": 0,
             "ticks": ""
            },
            "type": "mesh3d"
           }
          ],
          "parcoords": [
           {
            "line": {
             "colorbar": {
              "outlinewidth": 0,
              "ticks": ""
             }
            },
            "type": "parcoords"
           }
          ],
          "pie": [
           {
            "automargin": true,
            "type": "pie"
           }
          ],
          "scatter": [
           {
            "marker": {
             "colorbar": {
              "outlinewidth": 0,
              "ticks": ""
             }
            },
            "type": "scatter"
           }
          ],
          "scatter3d": [
           {
            "line": {
             "colorbar": {
              "outlinewidth": 0,
              "ticks": ""
             }
            },
            "marker": {
             "colorbar": {
              "outlinewidth": 0,
              "ticks": ""
             }
            },
            "type": "scatter3d"
           }
          ],
          "scattercarpet": [
           {
            "marker": {
             "colorbar": {
              "outlinewidth": 0,
              "ticks": ""
             }
            },
            "type": "scattercarpet"
           }
          ],
          "scattergeo": [
           {
            "marker": {
             "colorbar": {
              "outlinewidth": 0,
              "ticks": ""
             }
            },
            "type": "scattergeo"
           }
          ],
          "scattergl": [
           {
            "marker": {
             "colorbar": {
              "outlinewidth": 0,
              "ticks": ""
             }
            },
            "type": "scattergl"
           }
          ],
          "scattermapbox": [
           {
            "marker": {
             "colorbar": {
              "outlinewidth": 0,
              "ticks": ""
             }
            },
            "type": "scattermapbox"
           }
          ],
          "scatterpolar": [
           {
            "marker": {
             "colorbar": {
              "outlinewidth": 0,
              "ticks": ""
             }
            },
            "type": "scatterpolar"
           }
          ],
          "scatterpolargl": [
           {
            "marker": {
             "colorbar": {
              "outlinewidth": 0,
              "ticks": ""
             }
            },
            "type": "scatterpolargl"
           }
          ],
          "scatterternary": [
           {
            "marker": {
             "colorbar": {
              "outlinewidth": 0,
              "ticks": ""
             }
            },
            "type": "scatterternary"
           }
          ],
          "surface": [
           {
            "colorbar": {
             "outlinewidth": 0,
             "ticks": ""
            },
            "colorscale": [
             [
              0,
              "#0d0887"
             ],
             [
              0.1111111111111111,
              "#46039f"
             ],
             [
              0.2222222222222222,
              "#7201a8"
             ],
             [
              0.3333333333333333,
              "#9c179e"
             ],
             [
              0.4444444444444444,
              "#bd3786"
             ],
             [
              0.5555555555555556,
              "#d8576b"
             ],
             [
              0.6666666666666666,
              "#ed7953"
             ],
             [
              0.7777777777777778,
              "#fb9f3a"
             ],
             [
              0.8888888888888888,
              "#fdca26"
             ],
             [
              1,
              "#f0f921"
             ]
            ],
            "type": "surface"
           }
          ],
          "table": [
           {
            "cells": {
             "fill": {
              "color": "#EBF0F8"
             },
             "line": {
              "color": "white"
             }
            },
            "header": {
             "fill": {
              "color": "#C8D4E3"
             },
             "line": {
              "color": "white"
             }
            },
            "type": "table"
           }
          ]
         },
         "layout": {
          "annotationdefaults": {
           "arrowcolor": "#2a3f5f",
           "arrowhead": 0,
           "arrowwidth": 1
          },
          "autotypenumbers": "strict",
          "coloraxis": {
           "colorbar": {
            "outlinewidth": 0,
            "ticks": ""
           }
          },
          "colorscale": {
           "diverging": [
            [
             0,
             "#8e0152"
            ],
            [
             0.1,
             "#c51b7d"
            ],
            [
             0.2,
             "#de77ae"
            ],
            [
             0.3,
             "#f1b6da"
            ],
            [
             0.4,
             "#fde0ef"
            ],
            [
             0.5,
             "#f7f7f7"
            ],
            [
             0.6,
             "#e6f5d0"
            ],
            [
             0.7,
             "#b8e186"
            ],
            [
             0.8,
             "#7fbc41"
            ],
            [
             0.9,
             "#4d9221"
            ],
            [
             1,
             "#276419"
            ]
           ],
           "sequential": [
            [
             0,
             "#0d0887"
            ],
            [
             0.1111111111111111,
             "#46039f"
            ],
            [
             0.2222222222222222,
             "#7201a8"
            ],
            [
             0.3333333333333333,
             "#9c179e"
            ],
            [
             0.4444444444444444,
             "#bd3786"
            ],
            [
             0.5555555555555556,
             "#d8576b"
            ],
            [
             0.6666666666666666,
             "#ed7953"
            ],
            [
             0.7777777777777778,
             "#fb9f3a"
            ],
            [
             0.8888888888888888,
             "#fdca26"
            ],
            [
             1,
             "#f0f921"
            ]
           ],
           "sequentialminus": [
            [
             0,
             "#0d0887"
            ],
            [
             0.1111111111111111,
             "#46039f"
            ],
            [
             0.2222222222222222,
             "#7201a8"
            ],
            [
             0.3333333333333333,
             "#9c179e"
            ],
            [
             0.4444444444444444,
             "#bd3786"
            ],
            [
             0.5555555555555556,
             "#d8576b"
            ],
            [
             0.6666666666666666,
             "#ed7953"
            ],
            [
             0.7777777777777778,
             "#fb9f3a"
            ],
            [
             0.8888888888888888,
             "#fdca26"
            ],
            [
             1,
             "#f0f921"
            ]
           ]
          },
          "colorway": [
           "#636efa",
           "#EF553B",
           "#00cc96",
           "#ab63fa",
           "#FFA15A",
           "#19d3f3",
           "#FF6692",
           "#B6E880",
           "#FF97FF",
           "#FECB52"
          ],
          "font": {
           "color": "#2a3f5f"
          },
          "geo": {
           "bgcolor": "white",
           "lakecolor": "white",
           "landcolor": "#E5ECF6",
           "showlakes": true,
           "showland": true,
           "subunitcolor": "white"
          },
          "hoverlabel": {
           "align": "left"
          },
          "hovermode": "closest",
          "mapbox": {
           "style": "light"
          },
          "paper_bgcolor": "white",
          "plot_bgcolor": "#E5ECF6",
          "polar": {
           "angularaxis": {
            "gridcolor": "white",
            "linecolor": "white",
            "ticks": ""
           },
           "bgcolor": "#E5ECF6",
           "radialaxis": {
            "gridcolor": "white",
            "linecolor": "white",
            "ticks": ""
           }
          },
          "scene": {
           "xaxis": {
            "backgroundcolor": "#E5ECF6",
            "gridcolor": "white",
            "gridwidth": 2,
            "linecolor": "white",
            "showbackground": true,
            "ticks": "",
            "zerolinecolor": "white"
           },
           "yaxis": {
            "backgroundcolor": "#E5ECF6",
            "gridcolor": "white",
            "gridwidth": 2,
            "linecolor": "white",
            "showbackground": true,
            "ticks": "",
            "zerolinecolor": "white"
           },
           "zaxis": {
            "backgroundcolor": "#E5ECF6",
            "gridcolor": "white",
            "gridwidth": 2,
            "linecolor": "white",
            "showbackground": true,
            "ticks": "",
            "zerolinecolor": "white"
           }
          },
          "shapedefaults": {
           "line": {
            "color": "#2a3f5f"
           }
          },
          "ternary": {
           "aaxis": {
            "gridcolor": "white",
            "linecolor": "white",
            "ticks": ""
           },
           "baxis": {
            "gridcolor": "white",
            "linecolor": "white",
            "ticks": ""
           },
           "bgcolor": "#E5ECF6",
           "caxis": {
            "gridcolor": "white",
            "linecolor": "white",
            "ticks": ""
           }
          },
          "title": {
           "x": 0.05
          },
          "xaxis": {
           "automargin": true,
           "gridcolor": "white",
           "linecolor": "white",
           "ticks": "",
           "title": {
            "standoff": 15
           },
           "zerolinecolor": "white",
           "zerolinewidth": 2
          },
          "yaxis": {
           "automargin": true,
           "gridcolor": "white",
           "linecolor": "white",
           "ticks": "",
           "title": {
            "standoff": 15
           },
           "zerolinecolor": "white",
           "zerolinewidth": 2
          }
         }
        }
       }
      },
      "text/html": [
       "<div>                            <div id=\"0000872e-c5aa-4d69-8a3e-e34e2c38ac26\" class=\"plotly-graph-div\" style=\"height:525px; width:100%;\"></div>            <script type=\"text/javascript\">                require([\"plotly\"], function(Plotly) {                    window.PLOTLYENV=window.PLOTLYENV || {};                                    if (document.getElementById(\"0000872e-c5aa-4d69-8a3e-e34e2c38ac26\")) {                    Plotly.newPlot(                        \"0000872e-c5aa-4d69-8a3e-e34e2c38ac26\",                        [{\"labels\": [\"Negative\", \"Positive\", \"Neutral/Satisfied\"], \"pull\": [0, 0, 0.2, 0], \"type\": \"pie\", \"values\": [0.16311764705882353, 0.24104444444444448, 0.9991029411764705]}],                        {\"template\": {\"data\": {\"bar\": [{\"error_x\": {\"color\": \"#2a3f5f\"}, \"error_y\": {\"color\": \"#2a3f5f\"}, \"marker\": {\"line\": {\"color\": \"#E5ECF6\", \"width\": 0.5}}, \"type\": \"bar\"}], \"barpolar\": [{\"marker\": {\"line\": {\"color\": \"#E5ECF6\", \"width\": 0.5}}, \"type\": \"barpolar\"}], \"carpet\": [{\"aaxis\": {\"endlinecolor\": \"#2a3f5f\", \"gridcolor\": \"white\", \"linecolor\": \"white\", \"minorgridcolor\": \"white\", \"startlinecolor\": \"#2a3f5f\"}, \"baxis\": {\"endlinecolor\": \"#2a3f5f\", \"gridcolor\": \"white\", \"linecolor\": \"white\", \"minorgridcolor\": \"white\", \"startlinecolor\": \"#2a3f5f\"}, \"type\": \"carpet\"}], \"choropleth\": [{\"colorbar\": {\"outlinewidth\": 0, \"ticks\": \"\"}, \"type\": \"choropleth\"}], \"contour\": [{\"colorbar\": {\"outlinewidth\": 0, \"ticks\": \"\"}, \"colorscale\": [[0.0, \"#0d0887\"], [0.1111111111111111, \"#46039f\"], [0.2222222222222222, \"#7201a8\"], [0.3333333333333333, \"#9c179e\"], [0.4444444444444444, \"#bd3786\"], [0.5555555555555556, \"#d8576b\"], [0.6666666666666666, \"#ed7953\"], [0.7777777777777778, \"#fb9f3a\"], [0.8888888888888888, \"#fdca26\"], [1.0, \"#f0f921\"]], \"type\": \"contour\"}], \"contourcarpet\": [{\"colorbar\": {\"outlinewidth\": 0, \"ticks\": \"\"}, \"type\": \"contourcarpet\"}], \"heatmap\": [{\"colorbar\": {\"outlinewidth\": 0, \"ticks\": \"\"}, \"colorscale\": [[0.0, \"#0d0887\"], [0.1111111111111111, \"#46039f\"], [0.2222222222222222, \"#7201a8\"], [0.3333333333333333, \"#9c179e\"], [0.4444444444444444, \"#bd3786\"], [0.5555555555555556, \"#d8576b\"], [0.6666666666666666, \"#ed7953\"], [0.7777777777777778, \"#fb9f3a\"], [0.8888888888888888, \"#fdca26\"], [1.0, \"#f0f921\"]], \"type\": \"heatmap\"}], \"heatmapgl\": [{\"colorbar\": {\"outlinewidth\": 0, \"ticks\": \"\"}, \"colorscale\": [[0.0, \"#0d0887\"], [0.1111111111111111, \"#46039f\"], [0.2222222222222222, \"#7201a8\"], [0.3333333333333333, \"#9c179e\"], [0.4444444444444444, \"#bd3786\"], [0.5555555555555556, \"#d8576b\"], [0.6666666666666666, \"#ed7953\"], [0.7777777777777778, \"#fb9f3a\"], [0.8888888888888888, \"#fdca26\"], [1.0, \"#f0f921\"]], \"type\": \"heatmapgl\"}], \"histogram\": [{\"marker\": {\"colorbar\": {\"outlinewidth\": 0, \"ticks\": \"\"}}, \"type\": \"histogram\"}], \"histogram2d\": [{\"colorbar\": {\"outlinewidth\": 0, \"ticks\": \"\"}, \"colorscale\": [[0.0, \"#0d0887\"], [0.1111111111111111, \"#46039f\"], [0.2222222222222222, \"#7201a8\"], [0.3333333333333333, \"#9c179e\"], [0.4444444444444444, \"#bd3786\"], [0.5555555555555556, \"#d8576b\"], [0.6666666666666666, \"#ed7953\"], [0.7777777777777778, \"#fb9f3a\"], [0.8888888888888888, \"#fdca26\"], [1.0, \"#f0f921\"]], \"type\": \"histogram2d\"}], \"histogram2dcontour\": [{\"colorbar\": {\"outlinewidth\": 0, \"ticks\": \"\"}, \"colorscale\": [[0.0, \"#0d0887\"], [0.1111111111111111, \"#46039f\"], [0.2222222222222222, \"#7201a8\"], [0.3333333333333333, \"#9c179e\"], [0.4444444444444444, \"#bd3786\"], [0.5555555555555556, \"#d8576b\"], [0.6666666666666666, \"#ed7953\"], [0.7777777777777778, \"#fb9f3a\"], [0.8888888888888888, \"#fdca26\"], [1.0, \"#f0f921\"]], \"type\": \"histogram2dcontour\"}], \"mesh3d\": [{\"colorbar\": {\"outlinewidth\": 0, \"ticks\": \"\"}, \"type\": \"mesh3d\"}], \"parcoords\": [{\"line\": {\"colorbar\": {\"outlinewidth\": 0, \"ticks\": \"\"}}, \"type\": \"parcoords\"}], \"pie\": [{\"automargin\": true, \"type\": \"pie\"}], \"scatter\": [{\"marker\": {\"colorbar\": {\"outlinewidth\": 0, \"ticks\": \"\"}}, \"type\": \"scatter\"}], \"scatter3d\": [{\"line\": {\"colorbar\": {\"outlinewidth\": 0, \"ticks\": \"\"}}, \"marker\": {\"colorbar\": {\"outlinewidth\": 0, \"ticks\": \"\"}}, \"type\": \"scatter3d\"}], \"scattercarpet\": [{\"marker\": {\"colorbar\": {\"outlinewidth\": 0, \"ticks\": \"\"}}, \"type\": \"scattercarpet\"}], \"scattergeo\": [{\"marker\": {\"colorbar\": {\"outlinewidth\": 0, \"ticks\": \"\"}}, \"type\": \"scattergeo\"}], \"scattergl\": [{\"marker\": {\"colorbar\": {\"outlinewidth\": 0, \"ticks\": \"\"}}, \"type\": \"scattergl\"}], \"scattermapbox\": [{\"marker\": {\"colorbar\": {\"outlinewidth\": 0, \"ticks\": \"\"}}, \"type\": \"scattermapbox\"}], \"scatterpolar\": [{\"marker\": {\"colorbar\": {\"outlinewidth\": 0, \"ticks\": \"\"}}, \"type\": \"scatterpolar\"}], \"scatterpolargl\": [{\"marker\": {\"colorbar\": {\"outlinewidth\": 0, \"ticks\": \"\"}}, \"type\": \"scatterpolargl\"}], \"scatterternary\": [{\"marker\": {\"colorbar\": {\"outlinewidth\": 0, \"ticks\": \"\"}}, \"type\": \"scatterternary\"}], \"surface\": [{\"colorbar\": {\"outlinewidth\": 0, \"ticks\": \"\"}, \"colorscale\": [[0.0, \"#0d0887\"], [0.1111111111111111, \"#46039f\"], [0.2222222222222222, \"#7201a8\"], [0.3333333333333333, \"#9c179e\"], [0.4444444444444444, \"#bd3786\"], [0.5555555555555556, \"#d8576b\"], [0.6666666666666666, \"#ed7953\"], [0.7777777777777778, \"#fb9f3a\"], [0.8888888888888888, \"#fdca26\"], [1.0, \"#f0f921\"]], \"type\": \"surface\"}], \"table\": [{\"cells\": {\"fill\": {\"color\": \"#EBF0F8\"}, \"line\": {\"color\": \"white\"}}, \"header\": {\"fill\": {\"color\": \"#C8D4E3\"}, \"line\": {\"color\": \"white\"}}, \"type\": \"table\"}]}, \"layout\": {\"annotationdefaults\": {\"arrowcolor\": \"#2a3f5f\", \"arrowhead\": 0, \"arrowwidth\": 1}, \"autotypenumbers\": \"strict\", \"coloraxis\": {\"colorbar\": {\"outlinewidth\": 0, \"ticks\": \"\"}}, \"colorscale\": {\"diverging\": [[0, \"#8e0152\"], [0.1, \"#c51b7d\"], [0.2, \"#de77ae\"], [0.3, \"#f1b6da\"], [0.4, \"#fde0ef\"], [0.5, \"#f7f7f7\"], [0.6, \"#e6f5d0\"], [0.7, \"#b8e186\"], [0.8, \"#7fbc41\"], [0.9, \"#4d9221\"], [1, \"#276419\"]], \"sequential\": [[0.0, \"#0d0887\"], [0.1111111111111111, \"#46039f\"], [0.2222222222222222, \"#7201a8\"], [0.3333333333333333, \"#9c179e\"], [0.4444444444444444, \"#bd3786\"], [0.5555555555555556, \"#d8576b\"], [0.6666666666666666, \"#ed7953\"], [0.7777777777777778, \"#fb9f3a\"], [0.8888888888888888, \"#fdca26\"], [1.0, \"#f0f921\"]], \"sequentialminus\": [[0.0, \"#0d0887\"], [0.1111111111111111, \"#46039f\"], [0.2222222222222222, \"#7201a8\"], [0.3333333333333333, \"#9c179e\"], [0.4444444444444444, \"#bd3786\"], [0.5555555555555556, \"#d8576b\"], [0.6666666666666666, \"#ed7953\"], [0.7777777777777778, \"#fb9f3a\"], [0.8888888888888888, \"#fdca26\"], [1.0, \"#f0f921\"]]}, \"colorway\": [\"#636efa\", \"#EF553B\", \"#00cc96\", \"#ab63fa\", \"#FFA15A\", \"#19d3f3\", \"#FF6692\", \"#B6E880\", \"#FF97FF\", \"#FECB52\"], \"font\": {\"color\": \"#2a3f5f\"}, \"geo\": {\"bgcolor\": \"white\", \"lakecolor\": \"white\", \"landcolor\": \"#E5ECF6\", \"showlakes\": true, \"showland\": true, \"subunitcolor\": \"white\"}, \"hoverlabel\": {\"align\": \"left\"}, \"hovermode\": \"closest\", \"mapbox\": {\"style\": \"light\"}, \"paper_bgcolor\": \"white\", \"plot_bgcolor\": \"#E5ECF6\", \"polar\": {\"angularaxis\": {\"gridcolor\": \"white\", \"linecolor\": \"white\", \"ticks\": \"\"}, \"bgcolor\": \"#E5ECF6\", \"radialaxis\": {\"gridcolor\": \"white\", \"linecolor\": \"white\", \"ticks\": \"\"}}, \"scene\": {\"xaxis\": {\"backgroundcolor\": \"#E5ECF6\", \"gridcolor\": \"white\", \"gridwidth\": 2, \"linecolor\": \"white\", \"showbackground\": true, \"ticks\": \"\", \"zerolinecolor\": \"white\"}, \"yaxis\": {\"backgroundcolor\": \"#E5ECF6\", \"gridcolor\": \"white\", \"gridwidth\": 2, \"linecolor\": \"white\", \"showbackground\": true, \"ticks\": \"\", \"zerolinecolor\": \"white\"}, \"zaxis\": {\"backgroundcolor\": \"#E5ECF6\", \"gridcolor\": \"white\", \"gridwidth\": 2, \"linecolor\": \"white\", \"showbackground\": true, \"ticks\": \"\", \"zerolinecolor\": \"white\"}}, \"shapedefaults\": {\"line\": {\"color\": \"#2a3f5f\"}}, \"ternary\": {\"aaxis\": {\"gridcolor\": \"white\", \"linecolor\": \"white\", \"ticks\": \"\"}, \"baxis\": {\"gridcolor\": \"white\", \"linecolor\": \"white\", \"ticks\": \"\"}, \"bgcolor\": \"#E5ECF6\", \"caxis\": {\"gridcolor\": \"white\", \"linecolor\": \"white\", \"ticks\": \"\"}}, \"title\": {\"x\": 0.05}, \"xaxis\": {\"automargin\": true, \"gridcolor\": \"white\", \"linecolor\": \"white\", \"ticks\": \"\", \"title\": {\"standoff\": 15}, \"zerolinecolor\": \"white\", \"zerolinewidth\": 2}, \"yaxis\": {\"automargin\": true, \"gridcolor\": \"white\", \"linecolor\": \"white\", \"ticks\": \"\", \"title\": {\"standoff\": 15}, \"zerolinecolor\": \"white\", \"zerolinewidth\": 2}}}},                        {\"responsive\": true}                    ).then(function(){\n",
       "                            \n",
       "var gd = document.getElementById('0000872e-c5aa-4d69-8a3e-e34e2c38ac26');\n",
       "var x = new MutationObserver(function (mutations, observer) {{\n",
       "        var display = window.getComputedStyle(gd).display;\n",
       "        if (!display || display === 'none') {{\n",
       "            console.log([gd, 'removed!']);\n",
       "            Plotly.purge(gd);\n",
       "            observer.disconnect();\n",
       "        }}\n",
       "}});\n",
       "\n",
       "// Listen for the removal of the full notebook cells\n",
       "var notebookContainer = gd.closest('#notebook-container');\n",
       "if (notebookContainer) {{\n",
       "    x.observe(notebookContainer, {childList: true});\n",
       "}}\n",
       "\n",
       "// Listen for the clearing of the current output cell\n",
       "var outputEl = gd.closest('.output');\n",
       "if (outputEl) {{\n",
       "    x.observe(outputEl, {childList: true});\n",
       "}}\n",
       "\n",
       "                        })                };                });            </script>        </div>"
      ]
     },
     "metadata": {},
     "output_type": "display_data"
    }
   ],
   "source": [
    "#Using PlotLy Library for a Pie Char Visualization\n",
    "labels = ['Negative','Positive','Neutral/Satisfied']\n",
    "values = [neg_avg,pos_avg,neu_avg]\n",
    "\n",
    "# pull is given as a fraction of the pie radius\n",
    "fig = go.Figure(data=[go.Pie(labels=labels, values=values, pull=[0, 0, 0.2, 0])])\n",
    "fig.show()"
   ]
  },
  {
   "cell_type": "code",
   "execution_count": 176,
   "metadata": {},
   "outputs": [
    {
     "name": "stdout",
     "output_type": "stream",
     "text": [
      "  Number of records  Sentiment                        SentimentScoreMean\n",
      "-------------------  -----------------------------  --------------------\n",
      "                175  Positive    90                             0.247041\n",
      "                     Neutral     68\n",
      "                     Negative    17\n",
      "                     Name: Sentiment, dtype: int64\n"
     ]
    }
   ],
   "source": [
    "if len(df_twt) > 0 :\n",
    "    print(tabulate([[df_twt['tweet'].count(), df_twt['Sentiment'].value_counts(),\n",
    "                     df_twt['Compound_Score'].mean()\n",
    "                     ]],\n",
    "                   headers=[ 'Number of records','Sentiment','SentimentScoreMean']))\n",
    "else:\n",
    "    print('There are no records or the feature doesnt exist in this model')"
   ]
  },
  {
   "cell_type": "code",
   "execution_count": 177,
   "metadata": {},
   "outputs": [
    {
     "data": {
      "text/html": [
       "<div>\n",
       "<style scoped>\n",
       "    .dataframe tbody tr th:only-of-type {\n",
       "        vertical-align: middle;\n",
       "    }\n",
       "\n",
       "    .dataframe tbody tr th {\n",
       "        vertical-align: top;\n",
       "    }\n",
       "\n",
       "    .dataframe thead th {\n",
       "        text-align: right;\n",
       "    }\n",
       "</style>\n",
       "<table border=\"1\" class=\"dataframe\">\n",
       "  <thead>\n",
       "    <tr style=\"text-align: right;\">\n",
       "      <th></th>\n",
       "      <th>Review_Date</th>\n",
       "      <th>Author_Name</th>\n",
       "      <th>Vehicle_Title</th>\n",
       "      <th>Ratings</th>\n",
       "      <th>Clean_rev</th>\n",
       "      <th>FeaturesDiscussed</th>\n",
       "      <th>Sentiment</th>\n",
       "      <th>Compound_Score</th>\n",
       "    </tr>\n",
       "  </thead>\n",
       "  <tbody>\n",
       "    <tr>\n",
       "      <th>0</th>\n",
       "      <td>on 02/14/18 12:38 PM (PST)</td>\n",
       "      <td>Kenneth Hausmann</td>\n",
       "      <td>1997 Honda Civic del Sol VTEC VTEC 2dr Coupe</td>\n",
       "      <td>5.000</td>\n",
       "      <td>best car i have owned and i have had  cars the...</td>\n",
       "      <td>[corvettes mustangs, gas mileage, texas heat, ...</td>\n",
       "      <td>Positive</td>\n",
       "      <td>0.9852</td>\n",
       "    </tr>\n",
       "    <tr>\n",
       "      <th>1</th>\n",
       "      <td>on 10/19/17 10:19 AM (PDT)</td>\n",
       "      <td>stevie bleu</td>\n",
       "      <td>1997 Honda Civic del Sol VTEC VTEC 2dr Coupe</td>\n",
       "      <td>5.000</td>\n",
       "      <td>my prize possession of  years   vtec dels i bo...</td>\n",
       "      <td>[prize possession, vtec dels, water pump, body...</td>\n",
       "      <td>Positive</td>\n",
       "      <td>0.6808</td>\n",
       "    </tr>\n",
       "    <tr>\n",
       "      <th>2</th>\n",
       "      <td>on 07/26/17 08:34 AM (PDT)</td>\n",
       "      <td>G Cl3aN</td>\n",
       "      <td>1997 Honda Civic del Sol VTEC VTEC 2dr Coupe</td>\n",
       "      <td>5.000</td>\n",
       "      <td>awesome investment this is a  person ride only...</td>\n",
       "      <td>[person ride, family car, engine leaks, leathe...</td>\n",
       "      <td>Positive</td>\n",
       "      <td>0.9091</td>\n",
       "    </tr>\n",
       "    <tr>\n",
       "      <th>3</th>\n",
       "      <td>on 03/28/15 09:27 AM (PDT)</td>\n",
       "      <td>Paulo Nicolau</td>\n",
       "      <td>1997 Honda Civic del Sol VTEC VTEC 2dr Coupe</td>\n",
       "      <td>4.875</td>\n",
       "      <td>impossible find   honda del sol vtec  i am ext...</td>\n",
       "      <td>[sol vtec, honda sol, del sol, gas saver]</td>\n",
       "      <td>Positive</td>\n",
       "      <td>0.9592</td>\n",
       "    </tr>\n",
       "    <tr>\n",
       "      <th>4</th>\n",
       "      <td>on 10/22/04 00:00 AM (PDT)</td>\n",
       "      <td>Danielle151</td>\n",
       "      <td>1997 Honda Civic del Sol VTEC VTEC 2dr Coupe</td>\n",
       "      <td>4.750</td>\n",
       "      <td>will now be a honda owner for life i love my l...</td>\n",
       "      <td>[honda owner, sports car]</td>\n",
       "      <td>Positive</td>\n",
       "      <td>0.9624</td>\n",
       "    </tr>\n",
       "    <tr>\n",
       "      <th>...</th>\n",
       "      <td>...</td>\n",
       "      <td>...</td>\n",
       "      <td>...</td>\n",
       "      <td>...</td>\n",
       "      <td>...</td>\n",
       "      <td>...</td>\n",
       "      <td>...</td>\n",
       "      <td>...</td>\n",
       "    </tr>\n",
       "    <tr>\n",
       "      <th>3633</th>\n",
       "      <td>on 05/18/02 00:00 AM (PDT)</td>\n",
       "      <td>gingerg1218</td>\n",
       "      <td>1999 Honda Civic Coupe EX 2dr Coupe</td>\n",
       "      <td>5.000</td>\n",
       "      <td>a perfect  my first new honda civic was in  wi...</td>\n",
       "      <td>[honda civic, body style]</td>\n",
       "      <td>Positive</td>\n",
       "      <td>0.8917</td>\n",
       "    </tr>\n",
       "    <tr>\n",
       "      <th>3634</th>\n",
       "      <td>on 05/07/02 00:00 AM (PDT)</td>\n",
       "      <td>mandee</td>\n",
       "      <td>1999 Honda Civic Coupe EX 2dr Coupe</td>\n",
       "      <td>4.875</td>\n",
       "      <td>great car i love everthing about this car  the...</td>\n",
       "      <td>[]</td>\n",
       "      <td>Positive</td>\n",
       "      <td>0.9686</td>\n",
       "    </tr>\n",
       "    <tr>\n",
       "      <th>3635</th>\n",
       "      <td>on 04/11/02 00:00 AM (PDT)</td>\n",
       "      <td>stacy</td>\n",
       "      <td>1999 Honda Civic Coupe HX 2dr Coupe</td>\n",
       "      <td>3.250</td>\n",
       "      <td>transmission problems on civic hx model i boug...</td>\n",
       "      <td>[transmission problems, hx model, transmission...</td>\n",
       "      <td>Negative</td>\n",
       "      <td>-0.9274</td>\n",
       "    </tr>\n",
       "    <tr>\n",
       "      <th>3636</th>\n",
       "      <td>on 03/11/02 16:47 PM (PST)</td>\n",
       "      <td>Tara Healy</td>\n",
       "      <td>1999 Honda Civic Coupe EX 2dr Coupe</td>\n",
       "      <td>4.500</td>\n",
       "      <td>review of  civic ex vehicle is fun to driverel...</td>\n",
       "      <td>[ex vehicle]</td>\n",
       "      <td>Positive</td>\n",
       "      <td>0.8807</td>\n",
       "    </tr>\n",
       "    <tr>\n",
       "      <th>3637</th>\n",
       "      <td>on 03/10/02 02:32 AM (PST)</td>\n",
       "      <td>civic boi of kweenz</td>\n",
       "      <td>1999 Honda Civic Coupe EX 2dr Coupe</td>\n",
       "      <td>4.875</td>\n",
       "      <td>my  civic ex yes this civic is an excellent ca...</td>\n",
       "      <td>[fuel economy, amoco station]</td>\n",
       "      <td>Negative</td>\n",
       "      <td>-0.2299</td>\n",
       "    </tr>\n",
       "  </tbody>\n",
       "</table>\n",
       "<p>3638 rows × 8 columns</p>\n",
       "</div>"
      ],
      "text/plain": [
       "                      Review_Date           Author_Name  \\\n",
       "0      on 02/14/18 12:38 PM (PST)     Kenneth Hausmann    \n",
       "1      on 10/19/17 10:19 AM (PDT)          stevie bleu    \n",
       "2      on 07/26/17 08:34 AM (PDT)              G Cl3aN    \n",
       "3      on 03/28/15 09:27 AM (PDT)        Paulo Nicolau    \n",
       "4      on 10/22/04 00:00 AM (PDT)          Danielle151    \n",
       "...                           ...                   ...   \n",
       "3633   on 05/18/02 00:00 AM (PDT)          gingerg1218    \n",
       "3634   on 05/07/02 00:00 AM (PDT)               mandee    \n",
       "3635   on 04/11/02 00:00 AM (PDT)                stacy    \n",
       "3636   on 03/11/02 16:47 PM (PST)           Tara Healy    \n",
       "3637   on 03/10/02 02:32 AM (PST)  civic boi of kweenz    \n",
       "\n",
       "                                     Vehicle_Title  Ratings  \\\n",
       "0     1997 Honda Civic del Sol VTEC VTEC 2dr Coupe    5.000   \n",
       "1     1997 Honda Civic del Sol VTEC VTEC 2dr Coupe    5.000   \n",
       "2     1997 Honda Civic del Sol VTEC VTEC 2dr Coupe    5.000   \n",
       "3     1997 Honda Civic del Sol VTEC VTEC 2dr Coupe    4.875   \n",
       "4     1997 Honda Civic del Sol VTEC VTEC 2dr Coupe    4.750   \n",
       "...                                            ...      ...   \n",
       "3633           1999 Honda Civic Coupe EX 2dr Coupe    5.000   \n",
       "3634           1999 Honda Civic Coupe EX 2dr Coupe    4.875   \n",
       "3635           1999 Honda Civic Coupe HX 2dr Coupe    3.250   \n",
       "3636           1999 Honda Civic Coupe EX 2dr Coupe    4.500   \n",
       "3637           1999 Honda Civic Coupe EX 2dr Coupe    4.875   \n",
       "\n",
       "                                              Clean_rev  \\\n",
       "0     best car i have owned and i have had  cars the...   \n",
       "1     my prize possession of  years   vtec dels i bo...   \n",
       "2     awesome investment this is a  person ride only...   \n",
       "3     impossible find   honda del sol vtec  i am ext...   \n",
       "4     will now be a honda owner for life i love my l...   \n",
       "...                                                 ...   \n",
       "3633  a perfect  my first new honda civic was in  wi...   \n",
       "3634  great car i love everthing about this car  the...   \n",
       "3635  transmission problems on civic hx model i boug...   \n",
       "3636  review of  civic ex vehicle is fun to driverel...   \n",
       "3637  my  civic ex yes this civic is an excellent ca...   \n",
       "\n",
       "                                      FeaturesDiscussed Sentiment  \\\n",
       "0     [corvettes mustangs, gas mileage, texas heat, ...  Positive   \n",
       "1     [prize possession, vtec dels, water pump, body...  Positive   \n",
       "2     [person ride, family car, engine leaks, leathe...  Positive   \n",
       "3             [sol vtec, honda sol, del sol, gas saver]  Positive   \n",
       "4                             [honda owner, sports car]  Positive   \n",
       "...                                                 ...       ...   \n",
       "3633                          [honda civic, body style]  Positive   \n",
       "3634                                                 []  Positive   \n",
       "3635  [transmission problems, hx model, transmission...  Negative   \n",
       "3636                                       [ex vehicle]  Positive   \n",
       "3637                      [fuel economy, amoco station]  Negative   \n",
       "\n",
       "      Compound_Score  \n",
       "0             0.9852  \n",
       "1             0.6808  \n",
       "2             0.9091  \n",
       "3             0.9592  \n",
       "4             0.9624  \n",
       "...              ...  \n",
       "3633          0.8917  \n",
       "3634          0.9686  \n",
       "3635         -0.9274  \n",
       "3636          0.8807  \n",
       "3637         -0.2299  \n",
       "\n",
       "[3638 rows x 8 columns]"
      ]
     },
     "execution_count": 177,
     "metadata": {},
     "output_type": "execute_result"
    }
   ],
   "source": [
    "df_civic = df[df[\"Vehicle_Title\"].str.contains(\"Honda Civic\")]\n",
    "\n",
    "df_civic.reset_index(drop=True, inplace=True)\n",
    "\n",
    "df_civic"
   ]
  },
  {
   "cell_type": "code",
   "execution_count": 178,
   "metadata": {},
   "outputs": [],
   "source": [
    "keys='engine'\n",
    "data_c = pd.DataFrame([])\n",
    "# search for the key and fetch the data into the Data df\n",
    "\n",
    "for i in range(len(df_civic)):\n",
    "    if keys in str(features[i]):\n",
    "         data_c = data_c.append(pd.DataFrame({'Rating': df_civic['Ratings'][i], \n",
    "                                          'Score': df_civic['Compound_Score'][i],\n",
    "                                          'FeaturesDiscussed': str(df_civic['FeaturesDiscussed'][i]),\n",
    "                                          'Sentiment': df_civic['Sentiment'][i]},\n",
    "                                         index=[0]), ignore_index=True)\n"
   ]
  },
  {
   "cell_type": "code",
   "execution_count": 179,
   "metadata": {},
   "outputs": [
    {
     "data": {
      "text/html": [
       "<div>\n",
       "<style scoped>\n",
       "    .dataframe tbody tr th:only-of-type {\n",
       "        vertical-align: middle;\n",
       "    }\n",
       "\n",
       "    .dataframe tbody tr th {\n",
       "        vertical-align: top;\n",
       "    }\n",
       "\n",
       "    .dataframe thead th {\n",
       "        text-align: right;\n",
       "    }\n",
       "</style>\n",
       "<table border=\"1\" class=\"dataframe\">\n",
       "  <thead>\n",
       "    <tr style=\"text-align: right;\">\n",
       "      <th></th>\n",
       "      <th>Rating</th>\n",
       "      <th>Score</th>\n",
       "      <th>FeaturesDiscussed</th>\n",
       "      <th>Sentiment</th>\n",
       "    </tr>\n",
       "  </thead>\n",
       "  <tbody>\n",
       "    <tr>\n",
       "      <th>0</th>\n",
       "      <td>5.000</td>\n",
       "      <td>0.9852</td>\n",
       "      <td>['corvettes mustangs', 'gas mileage', 'texas h...</td>\n",
       "      <td>Positive</td>\n",
       "    </tr>\n",
       "    <tr>\n",
       "      <th>1</th>\n",
       "      <td>4.375</td>\n",
       "      <td>0.2230</td>\n",
       "      <td>['honda sol', 'del sol', '  sol', 'del sol', '...</td>\n",
       "      <td>Positive</td>\n",
       "    </tr>\n",
       "    <tr>\n",
       "      <th>2</th>\n",
       "      <td>4.625</td>\n",
       "      <td>0.9423</td>\n",
       "      <td>['del sol', '  sol', 'del sol', 'sol sol', 'de...</td>\n",
       "      <td>Positive</td>\n",
       "    </tr>\n",
       "    <tr>\n",
       "      <th>3</th>\n",
       "      <td>4.500</td>\n",
       "      <td>0.9647</td>\n",
       "      <td>['si sedan', 'sedan brand', 'belowboth issues'...</td>\n",
       "      <td>Positive</td>\n",
       "    </tr>\n",
       "    <tr>\n",
       "      <th>4</th>\n",
       "      <td>4.875</td>\n",
       "      <td>0.9227</td>\n",
       "      <td>['gear sticks']</td>\n",
       "      <td>Positive</td>\n",
       "    </tr>\n",
       "    <tr>\n",
       "      <th>...</th>\n",
       "      <td>...</td>\n",
       "      <td>...</td>\n",
       "      <td>...</td>\n",
       "      <td>...</td>\n",
       "    </tr>\n",
       "    <tr>\n",
       "      <th>271</th>\n",
       "      <td>4.500</td>\n",
       "      <td>0.3400</td>\n",
       "      <td>['honda dealers', 'carpet level', 'car park', ...</td>\n",
       "      <td>Positive</td>\n",
       "    </tr>\n",
       "    <tr>\n",
       "      <th>272</th>\n",
       "      <td>4.750</td>\n",
       "      <td>0.8771</td>\n",
       "      <td>[]</td>\n",
       "      <td>Positive</td>\n",
       "    </tr>\n",
       "    <tr>\n",
       "      <th>273</th>\n",
       "      <td>4.500</td>\n",
       "      <td>0.5467</td>\n",
       "      <td>['moms car', 'wind noise', 'audio systemit', '...</td>\n",
       "      <td>Positive</td>\n",
       "    </tr>\n",
       "    <tr>\n",
       "      <th>274</th>\n",
       "      <td>4.625</td>\n",
       "      <td>0.7024</td>\n",
       "      <td>['ex coupe', 'power window', 'window regulator...</td>\n",
       "      <td>Positive</td>\n",
       "    </tr>\n",
       "    <tr>\n",
       "      <th>275</th>\n",
       "      <td>4.125</td>\n",
       "      <td>0.8264</td>\n",
       "      <td>['economy car', 'mountain bike', 'home depot',...</td>\n",
       "      <td>Positive</td>\n",
       "    </tr>\n",
       "  </tbody>\n",
       "</table>\n",
       "<p>276 rows × 4 columns</p>\n",
       "</div>"
      ],
      "text/plain": [
       "     Rating   Score                                  FeaturesDiscussed  \\\n",
       "0     5.000  0.9852  ['corvettes mustangs', 'gas mileage', 'texas h...   \n",
       "1     4.375  0.2230  ['honda sol', 'del sol', '  sol', 'del sol', '...   \n",
       "2     4.625  0.9423  ['del sol', '  sol', 'del sol', 'sol sol', 'de...   \n",
       "3     4.500  0.9647  ['si sedan', 'sedan brand', 'belowboth issues'...   \n",
       "4     4.875  0.9227                                    ['gear sticks']   \n",
       "..      ...     ...                                                ...   \n",
       "271   4.500  0.3400  ['honda dealers', 'carpet level', 'car park', ...   \n",
       "272   4.750  0.8771                                                 []   \n",
       "273   4.500  0.5467  ['moms car', 'wind noise', 'audio systemit', '...   \n",
       "274   4.625  0.7024  ['ex coupe', 'power window', 'window regulator...   \n",
       "275   4.125  0.8264  ['economy car', 'mountain bike', 'home depot',...   \n",
       "\n",
       "    Sentiment  \n",
       "0    Positive  \n",
       "1    Positive  \n",
       "2    Positive  \n",
       "3    Positive  \n",
       "4    Positive  \n",
       "..        ...  \n",
       "271  Positive  \n",
       "272  Positive  \n",
       "273  Positive  \n",
       "274  Positive  \n",
       "275  Positive  \n",
       "\n",
       "[276 rows x 4 columns]"
      ]
     },
     "execution_count": 179,
     "metadata": {},
     "output_type": "execute_result"
    }
   ],
   "source": [
    "data_c"
   ]
  },
  {
   "cell_type": "code",
   "execution_count": null,
   "metadata": {},
   "outputs": [],
   "source": []
  },
  {
   "cell_type": "code",
   "execution_count": 180,
   "metadata": {},
   "outputs": [],
   "source": [
    "import random\n",
    "from sklearn.feature_selection import RFE\n",
    "from statsmodels.stats.outliers_influence import variance_inflation_factor\n",
    "import numpy as np\n",
    "from sklearn.linear_model import LinearRegression\n",
    "from sklearn import metrics\n",
    "from sklearn.metrics import r2_score\n",
    "import seaborn as sns\n",
    "from sklearn import preprocessing\n",
    "\n",
    "import matplotlib.pyplot as plt\n",
    "from sklearn.preprocessing import MinMaxScaler"
   ]
  },
  {
   "cell_type": "code",
   "execution_count": 192,
   "metadata": {},
   "outputs": [],
   "source": [
    "le = preprocessing.LabelEncoder()\n",
    "df1=df\n",
    "df1['Sentiment'] = le.fit_transform(df1['Sentiment'])\n",
    "df1['Clean_rev'] = le.fit_transform(df1['Clean_rev'])\n",
    "df1['Vehicle_Title'] = le.fit_transform(df1['Vehicle_Title'])\n"
   ]
  },
  {
   "cell_type": "code",
   "execution_count": 193,
   "metadata": {},
   "outputs": [
    {
     "data": {
      "text/html": [
       "<div>\n",
       "<style scoped>\n",
       "    .dataframe tbody tr th:only-of-type {\n",
       "        vertical-align: middle;\n",
       "    }\n",
       "\n",
       "    .dataframe tbody tr th {\n",
       "        vertical-align: top;\n",
       "    }\n",
       "\n",
       "    .dataframe thead th {\n",
       "        text-align: right;\n",
       "    }\n",
       "</style>\n",
       "<table border=\"1\" class=\"dataframe\">\n",
       "  <thead>\n",
       "    <tr style=\"text-align: right;\">\n",
       "      <th></th>\n",
       "      <th>Vehicle_Title</th>\n",
       "      <th>Ratings</th>\n",
       "      <th>Clean_rev</th>\n",
       "      <th>Sentiment</th>\n",
       "      <th>Compound_Score</th>\n",
       "    </tr>\n",
       "  </thead>\n",
       "  <tbody>\n",
       "    <tr>\n",
       "      <th>0</th>\n",
       "      <td>657</td>\n",
       "      <td>4.0</td>\n",
       "      <td>10063</td>\n",
       "      <td>2</td>\n",
       "      <td>0.9928</td>\n",
       "    </tr>\n",
       "    <tr>\n",
       "      <th>1</th>\n",
       "      <td>654</td>\n",
       "      <td>5.0</td>\n",
       "      <td>4326</td>\n",
       "      <td>2</td>\n",
       "      <td>0.9764</td>\n",
       "    </tr>\n",
       "    <tr>\n",
       "      <th>2</th>\n",
       "      <td>653</td>\n",
       "      <td>1.0</td>\n",
       "      <td>10993</td>\n",
       "      <td>2</td>\n",
       "      <td>0.9650</td>\n",
       "    </tr>\n",
       "    <tr>\n",
       "      <th>3</th>\n",
       "      <td>656</td>\n",
       "      <td>5.0</td>\n",
       "      <td>4101</td>\n",
       "      <td>2</td>\n",
       "      <td>0.7307</td>\n",
       "    </tr>\n",
       "    <tr>\n",
       "      <th>4</th>\n",
       "      <td>655</td>\n",
       "      <td>4.0</td>\n",
       "      <td>4636</td>\n",
       "      <td>1</td>\n",
       "      <td>0.1779</td>\n",
       "    </tr>\n",
       "    <tr>\n",
       "      <th>...</th>\n",
       "      <td>...</td>\n",
       "      <td>...</td>\n",
       "      <td>...</td>\n",
       "      <td>...</td>\n",
       "      <td>...</td>\n",
       "    </tr>\n",
       "    <tr>\n",
       "      <th>12679</th>\n",
       "      <td>1478</td>\n",
       "      <td>5.0</td>\n",
       "      <td>529</td>\n",
       "      <td>2</td>\n",
       "      <td>0.8932</td>\n",
       "    </tr>\n",
       "    <tr>\n",
       "      <th>12680</th>\n",
       "      <td>1478</td>\n",
       "      <td>5.0</td>\n",
       "      <td>7716</td>\n",
       "      <td>2</td>\n",
       "      <td>0.9839</td>\n",
       "    </tr>\n",
       "    <tr>\n",
       "      <th>12681</th>\n",
       "      <td>1478</td>\n",
       "      <td>5.0</td>\n",
       "      <td>1166</td>\n",
       "      <td>2</td>\n",
       "      <td>0.6908</td>\n",
       "    </tr>\n",
       "    <tr>\n",
       "      <th>12682</th>\n",
       "      <td>1478</td>\n",
       "      <td>5.0</td>\n",
       "      <td>532</td>\n",
       "      <td>2</td>\n",
       "      <td>0.9990</td>\n",
       "    </tr>\n",
       "    <tr>\n",
       "      <th>12683</th>\n",
       "      <td>1478</td>\n",
       "      <td>4.0</td>\n",
       "      <td>11267</td>\n",
       "      <td>2</td>\n",
       "      <td>0.9981</td>\n",
       "    </tr>\n",
       "  </tbody>\n",
       "</table>\n",
       "<p>12684 rows × 5 columns</p>\n",
       "</div>"
      ],
      "text/plain": [
       "       Vehicle_Title  Ratings  Clean_rev  Sentiment  Compound_Score\n",
       "0                657      4.0      10063          2          0.9928\n",
       "1                654      5.0       4326          2          0.9764\n",
       "2                653      1.0      10993          2          0.9650\n",
       "3                656      5.0       4101          2          0.7307\n",
       "4                655      4.0       4636          1          0.1779\n",
       "...              ...      ...        ...        ...             ...\n",
       "12679           1478      5.0        529          2          0.8932\n",
       "12680           1478      5.0       7716          2          0.9839\n",
       "12681           1478      5.0       1166          2          0.6908\n",
       "12682           1478      5.0        532          2          0.9990\n",
       "12683           1478      4.0      11267          2          0.9981\n",
       "\n",
       "[12684 rows x 5 columns]"
      ]
     },
     "execution_count": 193,
     "metadata": {},
     "output_type": "execute_result"
    }
   ],
   "source": [
    "df1"
   ]
  },
  {
   "cell_type": "code",
   "execution_count": 194,
   "metadata": {},
   "outputs": [
    {
     "data": {
      "text/plain": [
       "<AxesSubplot:>"
      ]
     },
     "execution_count": 194,
     "metadata": {},
     "output_type": "execute_result"
    },
    {
     "data": {
      "image/png": "[encoded data removed]",
      "text/plain": [
       "<Figure size 432x288 with 1 Axes>"
      ]
     },
     "metadata": {
      "needs_background": "light"
     },
     "output_type": "display_data"
    }
   ],
   "source": [
    "df1.boxplot(['Ratings'])"
   ]
  },
  {
   "cell_type": "code",
   "execution_count": 114,
   "metadata": {},
   "outputs": [
    {
     "data": {
      "text/html": [
       "<div>\n",
       "<style scoped>\n",
       "    .dataframe tbody tr th:only-of-type {\n",
       "        vertical-align: middle;\n",
       "    }\n",
       "\n",
       "    .dataframe tbody tr th {\n",
       "        vertical-align: top;\n",
       "    }\n",
       "\n",
       "    .dataframe thead th {\n",
       "        text-align: right;\n",
       "    }\n",
       "</style>\n",
       "<table border=\"1\" class=\"dataframe\">\n",
       "  <thead>\n",
       "    <tr style=\"text-align: right;\">\n",
       "      <th></th>\n",
       "      <th>Ratings</th>\n",
       "      <th>Year</th>\n",
       "      <th>Engine HP</th>\n",
       "      <th>Engine Cylinders</th>\n",
       "      <th>Number of Doors</th>\n",
       "      <th>highway MPG</th>\n",
       "      <th>city mpg</th>\n",
       "      <th>Popularity</th>\n",
       "      <th>Compound_Score</th>\n",
       "    </tr>\n",
       "  </thead>\n",
       "  <tbody>\n",
       "    <tr>\n",
       "      <th>0</th>\n",
       "      <td>5.000</td>\n",
       "      <td>2015.0</td>\n",
       "      <td>240.0</td>\n",
       "      <td>4.0</td>\n",
       "      <td>4.0</td>\n",
       "      <td>34.0</td>\n",
       "      <td>23.0</td>\n",
       "      <td>3916.0</td>\n",
       "      <td>0.9231</td>\n",
       "    </tr>\n",
       "    <tr>\n",
       "      <th>1</th>\n",
       "      <td>3.000</td>\n",
       "      <td>2015.0</td>\n",
       "      <td>240.0</td>\n",
       "      <td>4.0</td>\n",
       "      <td>4.0</td>\n",
       "      <td>34.0</td>\n",
       "      <td>23.0</td>\n",
       "      <td>3916.0</td>\n",
       "      <td>0.7562</td>\n",
       "    </tr>\n",
       "    <tr>\n",
       "      <th>2</th>\n",
       "      <td>5.000</td>\n",
       "      <td>2015.0</td>\n",
       "      <td>240.0</td>\n",
       "      <td>4.0</td>\n",
       "      <td>4.0</td>\n",
       "      <td>34.0</td>\n",
       "      <td>23.0</td>\n",
       "      <td>3916.0</td>\n",
       "      <td>0.7717</td>\n",
       "    </tr>\n",
       "    <tr>\n",
       "      <th>4</th>\n",
       "      <td>5.000</td>\n",
       "      <td>2015.0</td>\n",
       "      <td>240.0</td>\n",
       "      <td>4.0</td>\n",
       "      <td>4.0</td>\n",
       "      <td>34.0</td>\n",
       "      <td>23.0</td>\n",
       "      <td>3916.0</td>\n",
       "      <td>0.0000</td>\n",
       "    </tr>\n",
       "    <tr>\n",
       "      <th>5</th>\n",
       "      <td>5.000</td>\n",
       "      <td>2015.0</td>\n",
       "      <td>240.0</td>\n",
       "      <td>4.0</td>\n",
       "      <td>4.0</td>\n",
       "      <td>34.0</td>\n",
       "      <td>23.0</td>\n",
       "      <td>3916.0</td>\n",
       "      <td>0.9300</td>\n",
       "    </tr>\n",
       "    <tr>\n",
       "      <th>...</th>\n",
       "      <td>...</td>\n",
       "      <td>...</td>\n",
       "      <td>...</td>\n",
       "      <td>...</td>\n",
       "      <td>...</td>\n",
       "      <td>...</td>\n",
       "      <td>...</td>\n",
       "      <td>...</td>\n",
       "      <td>...</td>\n",
       "    </tr>\n",
       "    <tr>\n",
       "      <th>8055</th>\n",
       "      <td>4.875</td>\n",
       "      <td>2014.0</td>\n",
       "      <td>552.0</td>\n",
       "      <td>8.0</td>\n",
       "      <td>4.0</td>\n",
       "      <td>20.0</td>\n",
       "      <td>14.0</td>\n",
       "      <td>3916.0</td>\n",
       "      <td>0.8510</td>\n",
       "    </tr>\n",
       "    <tr>\n",
       "      <th>8056</th>\n",
       "      <td>4.125</td>\n",
       "      <td>2014.0</td>\n",
       "      <td>552.0</td>\n",
       "      <td>8.0</td>\n",
       "      <td>4.0</td>\n",
       "      <td>20.0</td>\n",
       "      <td>14.0</td>\n",
       "      <td>3916.0</td>\n",
       "      <td>-0.1685</td>\n",
       "    </tr>\n",
       "    <tr>\n",
       "      <th>8057</th>\n",
       "      <td>5.000</td>\n",
       "      <td>2014.0</td>\n",
       "      <td>552.0</td>\n",
       "      <td>8.0</td>\n",
       "      <td>4.0</td>\n",
       "      <td>20.0</td>\n",
       "      <td>14.0</td>\n",
       "      <td>3916.0</td>\n",
       "      <td>0.9755</td>\n",
       "    </tr>\n",
       "    <tr>\n",
       "      <th>8058</th>\n",
       "      <td>5.000</td>\n",
       "      <td>2014.0</td>\n",
       "      <td>552.0</td>\n",
       "      <td>8.0</td>\n",
       "      <td>4.0</td>\n",
       "      <td>20.0</td>\n",
       "      <td>14.0</td>\n",
       "      <td>3916.0</td>\n",
       "      <td>0.0000</td>\n",
       "    </tr>\n",
       "    <tr>\n",
       "      <th>8059</th>\n",
       "      <td>5.000</td>\n",
       "      <td>2014.0</td>\n",
       "      <td>552.0</td>\n",
       "      <td>8.0</td>\n",
       "      <td>4.0</td>\n",
       "      <td>20.0</td>\n",
       "      <td>14.0</td>\n",
       "      <td>3916.0</td>\n",
       "      <td>0.8316</td>\n",
       "    </tr>\n",
       "  </tbody>\n",
       "</table>\n",
       "<p>7764 rows × 9 columns</p>\n",
       "</div>"
      ],
      "text/plain": [
       "      Ratings    Year  Engine HP  Engine Cylinders  Number of Doors  \\\n",
       "0       5.000  2015.0      240.0               4.0              4.0   \n",
       "1       3.000  2015.0      240.0               4.0              4.0   \n",
       "2       5.000  2015.0      240.0               4.0              4.0   \n",
       "4       5.000  2015.0      240.0               4.0              4.0   \n",
       "5       5.000  2015.0      240.0               4.0              4.0   \n",
       "...       ...     ...        ...               ...              ...   \n",
       "8055    4.875  2014.0      552.0               8.0              4.0   \n",
       "8056    4.125  2014.0      552.0               8.0              4.0   \n",
       "8057    5.000  2014.0      552.0               8.0              4.0   \n",
       "8058    5.000  2014.0      552.0               8.0              4.0   \n",
       "8059    5.000  2014.0      552.0               8.0              4.0   \n",
       "\n",
       "      highway MPG  city mpg  Popularity  Compound_Score  \n",
       "0            34.0      23.0      3916.0          0.9231  \n",
       "1            34.0      23.0      3916.0          0.7562  \n",
       "2            34.0      23.0      3916.0          0.7717  \n",
       "4            34.0      23.0      3916.0          0.0000  \n",
       "5            34.0      23.0      3916.0          0.9300  \n",
       "...           ...       ...         ...             ...  \n",
       "8055         20.0      14.0      3916.0          0.8510  \n",
       "8056         20.0      14.0      3916.0         -0.1685  \n",
       "8057         20.0      14.0      3916.0          0.9755  \n",
       "8058         20.0      14.0      3916.0          0.0000  \n",
       "8059         20.0      14.0      3916.0          0.8316  \n",
       "\n",
       "[7764 rows x 9 columns]"
      ]
     },
     "execution_count": 114,
     "metadata": {},
     "output_type": "execute_result"
    }
   ],
   "source": [
    "df2 = df2[df2.Ratings >2]\n",
    "df2"
   ]
  },
  {
   "cell_type": "code",
   "execution_count": 195,
   "metadata": {},
   "outputs": [],
   "source": [
    "np.random.seed(0)\n",
    "df_train, df_test = train_test_split(df1,\n",
    "                    train_size = 0.7, test_size = 0.3, random_state = 0)"
   ]
  },
  {
   "cell_type": "code",
   "execution_count": 196,
   "metadata": {},
   "outputs": [],
   "source": [
    "y_train = df_train.pop('Compound_Score')\n",
    "X_train = df_train"
   ]
  },
  {
   "cell_type": "code",
   "execution_count": null,
   "metadata": {},
   "outputs": [],
   "source": []
  },
  {
   "cell_type": "code",
   "execution_count": 197,
   "metadata": {},
   "outputs": [],
   "source": [
    "# Running RFE Algorithm to build the multiple regression model\n",
    "lm = LinearRegression()\n",
    "lm.fit(X_train, y_train)\n",
    "\n",
    "rfe = RFE(lm, 15)             \n",
    "rfe = rfe.fit(X_train, y_train)\n"
   ]
  },
  {
   "cell_type": "code",
   "execution_count": null,
   "metadata": {},
   "outputs": [],
   "source": []
  },
  {
   "cell_type": "code",
   "execution_count": 198,
   "metadata": {},
   "outputs": [
    {
     "data": {
      "text/plain": [
       "Index(['Vehicle_Title', 'Ratings', 'Clean_rev', 'Sentiment'], dtype='object')"
      ]
     },
     "execution_count": 198,
     "metadata": {},
     "output_type": "execute_result"
    }
   ],
   "source": [
    "col_sup = X_train.columns[rfe.support_]\n",
    "col_sup"
   ]
  },
  {
   "cell_type": "code",
   "execution_count": 199,
   "metadata": {},
   "outputs": [],
   "source": [
    "X_train_rfe = X_train[col_sup]"
   ]
  },
  {
   "cell_type": "code",
   "execution_count": 200,
   "metadata": {},
   "outputs": [
    {
     "name": "stdout",
     "output_type": "stream",
     "text": [
      "                            OLS Regression Results                            \n",
      "==============================================================================\n",
      "Dep. Variable:         Compound_Score   R-squared:                       0.911\n",
      "Model:                            OLS   Adj. R-squared:                  0.911\n",
      "Method:                 Least Squares   F-statistic:                 2.280e+04\n",
      "Date:                Sun, 25 Apr 2021   Prob (F-statistic):               0.00\n",
      "Time:                        17:03:38   Log-Likelihood:                 2613.5\n",
      "No. Observations:                8878   AIC:                            -5217.\n",
      "Df Residuals:                    8873   BIC:                            -5182.\n",
      "Df Model:                           4                                         \n",
      "Covariance Type:            nonrobust                                         \n",
      "=================================================================================\n",
      "                    coef    std err          t      P>|t|      [0.025      0.975]\n",
      "---------------------------------------------------------------------------------\n",
      "const            -0.9107      0.011    -85.573      0.000      -0.932      -0.890\n",
      "Vehicle_Title  1.375e-05    3.9e-06      3.526      0.000    6.11e-06    2.14e-05\n",
      "Ratings           0.0640      0.003     25.258      0.000       0.059       0.069\n",
      "Clean_rev     -2.816e-07   5.25e-07     -0.536      0.592   -1.31e-06    7.48e-07\n",
      "Sentiment         0.7227      0.003    236.959      0.000       0.717       0.729\n",
      "==============================================================================\n",
      "Omnibus:                     1169.047   Durbin-Watson:                   1.982\n",
      "Prob(Omnibus):                  0.000   Jarque-Bera (JB):             1800.107\n",
      "Skew:                          -0.941   Prob(JB):                         0.00\n",
      "Kurtosis:                       4.152   Cond. No.                     4.15e+04\n",
      "==============================================================================\n",
      "\n",
      "Notes:\n",
      "[1] Standard Errors assume that the covariance matrix of the errors is correctly specified.\n",
      "[2] The condition number is large, 4.15e+04. This might indicate that there are\n",
      "strong multicollinearity or other numerical problems.\n"
     ]
    }
   ],
   "source": [
    "import statsmodels.api as sm  \n",
    "X_train_rfec = sm.add_constant(X_train_rfe)\n",
    "lm_rfe = sm.OLS(y_train,X_train_rfec).fit()\n",
    "\n",
    "#Summary of the model performance\n",
    "print(lm_rfe.summary())"
   ]
  },
  {
   "cell_type": "code",
   "execution_count": 201,
   "metadata": {},
   "outputs": [
    {
     "name": "stdout",
     "output_type": "stream",
     "text": [
      "                            OLS Regression Results                            \n",
      "==============================================================================\n",
      "Dep. Variable:         Compound_Score   R-squared:                       0.911\n",
      "Model:                            OLS   Adj. R-squared:                  0.911\n",
      "Method:                 Least Squares   F-statistic:                 3.041e+04\n",
      "Date:                Sun, 25 Apr 2021   Prob (F-statistic):               0.00\n",
      "Time:                        17:03:42   Log-Likelihood:                 2613.4\n",
      "No. Observations:                8878   AIC:                            -5219.\n",
      "Df Residuals:                    8874   BIC:                            -5190.\n",
      "Df Model:                           3                                         \n",
      "Covariance Type:            nonrobust                                         \n",
      "=================================================================================\n",
      "                    coef    std err          t      P>|t|      [0.025      0.975]\n",
      "---------------------------------------------------------------------------------\n",
      "const            -0.9126      0.010    -91.405      0.000      -0.932      -0.893\n",
      "Vehicle_Title  1.371e-05    3.9e-06      3.517      0.000    6.07e-06    2.13e-05\n",
      "Ratings           0.0641      0.003     25.278      0.000       0.059       0.069\n",
      "Sentiment         0.7228      0.003    237.123      0.000       0.717       0.729\n",
      "==============================================================================\n",
      "Omnibus:                     1169.183   Durbin-Watson:                   1.982\n",
      "Prob(Omnibus):                  0.000   Jarque-Bera (JB):             1800.353\n",
      "Skew:                          -0.941   Prob(JB):                         0.00\n",
      "Kurtosis:                       4.152   Cond. No.                     4.54e+03\n",
      "==============================================================================\n",
      "\n",
      "Notes:\n",
      "[1] Standard Errors assume that the covariance matrix of the errors is correctly specified.\n",
      "[2] The condition number is large, 4.54e+03. This might indicate that there are\n",
      "strong multicollinearity or other numerical problems.\n"
     ]
    }
   ],
   "source": [
    "X_train_rfe1 = X_train_rfe.drop('Clean_rev', 1,)\n",
    "\n",
    "# Adding a constant variable and Build a second fitted model\n",
    "X_train_rfe1c = sm.add_constant(X_train_rfe1)\n",
    "lm_rfe1 = sm.OLS(y_train, X_train_rfe1c).fit()\n",
    "\n",
    "#Summary of lregression model\n",
    "print(lm_rfe1.summary())"
   ]
  },
  {
   "cell_type": "code",
   "execution_count": null,
   "metadata": {},
   "outputs": [],
   "source": []
  },
  {
   "cell_type": "code",
   "execution_count": null,
   "metadata": {},
   "outputs": [],
   "source": [
    "# Dropping highly correlated variables cylindernumber_six\n",
    "X_train_rfe2 = X_train_rfe1.drop('reviews', 1,)\n",
    "\n",
    "# Adding a constant variable and Build a third fitted model\n",
    "X_train_rfe2c = sm.add_constant(X_train_rfe2)\n",
    "lm_rfe2 = sm.OLS(y_train, X_train_rfe2c).fit()\n",
    "\n",
    "#Summary of regression model\n",
    "print(lm_rfe2.summary())"
   ]
  },
  {
   "cell_type": "code",
   "execution_count": 202,
   "metadata": {},
   "outputs": [],
   "source": [
    "y_train_price = lm_rfe1.predict(X_train_rfe1c)"
   ]
  },
  {
   "cell_type": "code",
   "execution_count": 203,
   "metadata": {},
   "outputs": [
    {
     "data": {
      "text/plain": [
       "array([[ 2.04952496,  0.76288175,  1.09797733,  0.50958379],\n",
       "       [ 0.20099807, -1.71263057, -1.46577106, -2.14773477],\n",
       "       [ 1.73941025, -0.33734595,  0.80766932,  0.50958379],\n",
       "       ...,\n",
       "       [-1.22188118,  0.35029636, -1.17847568,  0.50958379],\n",
       "       [ 2.04141738,  0.76288175,  0.45519157,  0.50958379],\n",
       "       [ 1.35835427, -0.33734595,  0.29826092,  0.50958379]])"
      ]
     },
     "execution_count": 203,
     "metadata": {},
     "output_type": "execute_result"
    }
   ],
   "source": [
    "import warnings\n",
    "scaler = preprocessing.StandardScaler()\n",
    "\n",
    "warnings.filterwarnings(\"ignore\")\n",
    "df_train = scaler.fit_transform(df_train)\n",
    "df_train"
   ]
  },
  {
   "cell_type": "code",
   "execution_count": 204,
   "metadata": {},
   "outputs": [],
   "source": [
    "y_test = df_test.pop('Compound_Score')\n",
    "X_test = df_test"
   ]
  },
  {
   "cell_type": "code",
   "execution_count": 236,
   "metadata": {},
   "outputs": [],
   "source": [
    "# Adding constant\n",
    "X_test_1 = sm.add_constant(X_test)\n",
    "\n",
    "#Taking only the columns of the model\n",
    "X_test_new = X_test_1[X_train_rfe1c.columns]\n",
    "\n",
    "# The final predictions should be made by the testing data, all previous predictions were made by training data\n",
    "y_pred = lm_rfe1.predict(X_test_new)"
   ]
  },
  {
   "cell_type": "code",
   "execution_count": 235,
   "metadata": {},
   "outputs": [
    {
     "data": {
      "text/html": [
       "<div>\n",
       "<style scoped>\n",
       "    .dataframe tbody tr th:only-of-type {\n",
       "        vertical-align: middle;\n",
       "    }\n",
       "\n",
       "    .dataframe tbody tr th {\n",
       "        vertical-align: top;\n",
       "    }\n",
       "\n",
       "    .dataframe thead th {\n",
       "        text-align: right;\n",
       "    }\n",
       "</style>\n",
       "<table border=\"1\" class=\"dataframe\">\n",
       "  <thead>\n",
       "    <tr style=\"text-align: right;\">\n",
       "      <th></th>\n",
       "      <th>const</th>\n",
       "      <th>Vehicle_Title</th>\n",
       "      <th>Ratings</th>\n",
       "      <th>Sentiment</th>\n",
       "    </tr>\n",
       "  </thead>\n",
       "  <tbody>\n",
       "    <tr>\n",
       "      <th>96</th>\n",
       "      <td>1.0</td>\n",
       "      <td>57</td>\n",
       "      <td>9</td>\n",
       "      <td>0</td>\n",
       "    </tr>\n",
       "    <tr>\n",
       "      <th>202</th>\n",
       "      <td>1.0</td>\n",
       "      <td>10</td>\n",
       "      <td>17</td>\n",
       "      <td>0</td>\n",
       "    </tr>\n",
       "    <tr>\n",
       "      <th>169</th>\n",
       "      <td>1.0</td>\n",
       "      <td>59</td>\n",
       "      <td>3</td>\n",
       "      <td>0</td>\n",
       "    </tr>\n",
       "    <tr>\n",
       "      <th>136</th>\n",
       "      <td>1.0</td>\n",
       "      <td>29</td>\n",
       "      <td>13</td>\n",
       "      <td>2</td>\n",
       "    </tr>\n",
       "    <tr>\n",
       "      <th>182</th>\n",
       "      <td>1.0</td>\n",
       "      <td>99</td>\n",
       "      <td>1</td>\n",
       "      <td>0</td>\n",
       "    </tr>\n",
       "    <tr>\n",
       "      <th>...</th>\n",
       "      <td>...</td>\n",
       "      <td>...</td>\n",
       "      <td>...</td>\n",
       "      <td>...</td>\n",
       "    </tr>\n",
       "    <tr>\n",
       "      <th>83</th>\n",
       "      <td>1.0</td>\n",
       "      <td>86</td>\n",
       "      <td>7</td>\n",
       "      <td>0</td>\n",
       "    </tr>\n",
       "    <tr>\n",
       "      <th>186</th>\n",
       "      <td>1.0</td>\n",
       "      <td>96</td>\n",
       "      <td>14</td>\n",
       "      <td>0</td>\n",
       "    </tr>\n",
       "    <tr>\n",
       "      <th>61</th>\n",
       "      <td>1.0</td>\n",
       "      <td>32</td>\n",
       "      <td>23</td>\n",
       "      <td>2</td>\n",
       "    </tr>\n",
       "    <tr>\n",
       "      <th>52</th>\n",
       "      <td>1.0</td>\n",
       "      <td>37</td>\n",
       "      <td>22</td>\n",
       "      <td>2</td>\n",
       "    </tr>\n",
       "    <tr>\n",
       "      <th>66</th>\n",
       "      <td>1.0</td>\n",
       "      <td>132</td>\n",
       "      <td>26</td>\n",
       "      <td>2</td>\n",
       "    </tr>\n",
       "  </tbody>\n",
       "</table>\n",
       "<p>67 rows × 4 columns</p>\n",
       "</div>"
      ],
      "text/plain": [
       "     const  Vehicle_Title  Ratings  Sentiment\n",
       "96     1.0             57        9          0\n",
       "202    1.0             10       17          0\n",
       "169    1.0             59        3          0\n",
       "136    1.0             29       13          2\n",
       "182    1.0             99        1          0\n",
       "..     ...            ...      ...        ...\n",
       "83     1.0             86        7          0\n",
       "186    1.0             96       14          0\n",
       "61     1.0             32       23          2\n",
       "52     1.0             37       22          2\n",
       "66     1.0            132       26          2\n",
       "\n",
       "[67 rows x 4 columns]"
      ]
     },
     "execution_count": 235,
     "metadata": {},
     "output_type": "execute_result"
    }
   ],
   "source": [
    "X_test_1"
   ]
  },
  {
   "cell_type": "code",
   "execution_count": 206,
   "metadata": {},
   "outputs": [
    {
     "name": "stdout",
     "output_type": "stream",
     "text": [
      "3806\n"
     ]
    }
   ],
   "source": [
    " print(len(y_pred))"
   ]
  },
  {
   "cell_type": "code",
   "execution_count": 207,
   "metadata": {},
   "outputs": [
    {
     "name": "stdout",
     "output_type": "stream",
     "text": [
      "91.51183408263843\n"
     ]
    }
   ],
   "source": [
    "print(r2_score(y_test, y_pred)*100)"
   ]
  },
  {
   "cell_type": "code",
   "execution_count": 208,
   "metadata": {},
   "outputs": [
    {
     "data": {
      "text/html": [
       "<div>\n",
       "<style scoped>\n",
       "    .dataframe tbody tr th:only-of-type {\n",
       "        vertical-align: middle;\n",
       "    }\n",
       "\n",
       "    .dataframe tbody tr th {\n",
       "        vertical-align: top;\n",
       "    }\n",
       "\n",
       "    .dataframe thead th {\n",
       "        text-align: right;\n",
       "    }\n",
       "</style>\n",
       "<table border=\"1\" class=\"dataframe\">\n",
       "  <thead>\n",
       "    <tr style=\"text-align: right;\">\n",
       "      <th></th>\n",
       "      <th>Real data</th>\n",
       "      <th>Predicted data</th>\n",
       "    </tr>\n",
       "  </thead>\n",
       "  <tbody>\n",
       "    <tr>\n",
       "      <th>0</th>\n",
       "      <td>0.8743</td>\n",
       "      <td>0.849083</td>\n",
       "    </tr>\n",
       "    <tr>\n",
       "      <th>1</th>\n",
       "      <td>0.9674</td>\n",
       "      <td>0.871883</td>\n",
       "    </tr>\n",
       "    <tr>\n",
       "      <th>2</th>\n",
       "      <td>-0.2732</td>\n",
       "      <td>-0.634683</td>\n",
       "    </tr>\n",
       "    <tr>\n",
       "      <th>3</th>\n",
       "      <td>0.8890</td>\n",
       "      <td>0.863466</td>\n",
       "    </tr>\n",
       "    <tr>\n",
       "      <th>4</th>\n",
       "      <td>0.9695</td>\n",
       "      <td>0.846056</td>\n",
       "    </tr>\n",
       "    <tr>\n",
       "      <th>5</th>\n",
       "      <td>-0.5279</td>\n",
       "      <td>-0.640582</td>\n",
       "    </tr>\n",
       "    <tr>\n",
       "      <th>6</th>\n",
       "      <td>-0.9585</td>\n",
       "      <td>-0.694901</td>\n",
       "    </tr>\n",
       "    <tr>\n",
       "      <th>7</th>\n",
       "      <td>0.8366</td>\n",
       "      <td>0.851552</td>\n",
       "    </tr>\n",
       "    <tr>\n",
       "      <th>8</th>\n",
       "      <td>0.2440</td>\n",
       "      <td>0.680341</td>\n",
       "    </tr>\n",
       "    <tr>\n",
       "      <th>9</th>\n",
       "      <td>0.9716</td>\n",
       "      <td>0.858461</td>\n",
       "    </tr>\n",
       "  </tbody>\n",
       "</table>\n",
       "</div>"
      ],
      "text/plain": [
       "   Real data  Predicted data\n",
       "0     0.8743        0.849083\n",
       "1     0.9674        0.871883\n",
       "2    -0.2732       -0.634683\n",
       "3     0.8890        0.863466\n",
       "4     0.9695        0.846056\n",
       "5    -0.5279       -0.640582\n",
       "6    -0.9585       -0.694901\n",
       "7     0.8366        0.851552\n",
       "8     0.2440        0.680341\n",
       "9     0.9716        0.858461"
      ]
     },
     "execution_count": 208,
     "metadata": {},
     "output_type": "execute_result"
    }
   ],
   "source": [
    "predt = pd.DataFrame({'Real data': y_test.tolist(), 'Predicted data': y_pred.tolist()})\n",
    "predt.head(10)"
   ]
  },
  {
   "cell_type": "code",
   "execution_count": 214,
   "metadata": {},
   "outputs": [
    {
     "data": {
      "text/html": [
       "<div>\n",
       "<style scoped>\n",
       "    .dataframe tbody tr th:only-of-type {\n",
       "        vertical-align: middle;\n",
       "    }\n",
       "\n",
       "    .dataframe tbody tr th {\n",
       "        vertical-align: top;\n",
       "    }\n",
       "\n",
       "    .dataframe thead th {\n",
       "        text-align: right;\n",
       "    }\n",
       "</style>\n",
       "<table border=\"1\" class=\"dataframe\">\n",
       "  <thead>\n",
       "    <tr style=\"text-align: right;\">\n",
       "      <th></th>\n",
       "      <th>Vehicle_Title</th>\n",
       "      <th>Ratings</th>\n",
       "      <th>Clean_rev</th>\n",
       "      <th>Sentiment</th>\n",
       "      <th>Compound_Score</th>\n",
       "    </tr>\n",
       "  </thead>\n",
       "  <tbody>\n",
       "    <tr>\n",
       "      <th>0</th>\n",
       "      <td>1997 Honda Civic del Sol VTEC VTEC 2dr Coupe</td>\n",
       "      <td>5.000</td>\n",
       "      <td>best car i have owned and i have had  cars the...</td>\n",
       "      <td>Positive</td>\n",
       "      <td>0.9852</td>\n",
       "    </tr>\n",
       "    <tr>\n",
       "      <th>1</th>\n",
       "      <td>1997 Honda Civic del Sol VTEC VTEC 2dr Coupe</td>\n",
       "      <td>5.000</td>\n",
       "      <td>my prize possession of  years   vtec dels i bo...</td>\n",
       "      <td>Positive</td>\n",
       "      <td>0.6808</td>\n",
       "    </tr>\n",
       "    <tr>\n",
       "      <th>2</th>\n",
       "      <td>1997 Honda Civic del Sol VTEC VTEC 2dr Coupe</td>\n",
       "      <td>5.000</td>\n",
       "      <td>awesome investment this is a  person ride only...</td>\n",
       "      <td>Positive</td>\n",
       "      <td>0.9091</td>\n",
       "    </tr>\n",
       "    <tr>\n",
       "      <th>3</th>\n",
       "      <td>1997 Honda Civic del Sol VTEC VTEC 2dr Coupe</td>\n",
       "      <td>4.875</td>\n",
       "      <td>impossible find   honda del sol vtec  i am ext...</td>\n",
       "      <td>Positive</td>\n",
       "      <td>0.9592</td>\n",
       "    </tr>\n",
       "    <tr>\n",
       "      <th>4</th>\n",
       "      <td>1997 Honda Civic del Sol VTEC VTEC 2dr Coupe</td>\n",
       "      <td>4.750</td>\n",
       "      <td>will now be a honda owner for life i love my l...</td>\n",
       "      <td>Positive</td>\n",
       "      <td>0.9624</td>\n",
       "    </tr>\n",
       "    <tr>\n",
       "      <th>...</th>\n",
       "      <td>...</td>\n",
       "      <td>...</td>\n",
       "      <td>...</td>\n",
       "      <td>...</td>\n",
       "      <td>...</td>\n",
       "    </tr>\n",
       "    <tr>\n",
       "      <th>3633</th>\n",
       "      <td>1999 Honda Civic Coupe EX 2dr Coupe</td>\n",
       "      <td>5.000</td>\n",
       "      <td>a perfect  my first new honda civic was in  wi...</td>\n",
       "      <td>Positive</td>\n",
       "      <td>0.8917</td>\n",
       "    </tr>\n",
       "    <tr>\n",
       "      <th>3634</th>\n",
       "      <td>1999 Honda Civic Coupe EX 2dr Coupe</td>\n",
       "      <td>4.875</td>\n",
       "      <td>great car i love everthing about this car  the...</td>\n",
       "      <td>Positive</td>\n",
       "      <td>0.9686</td>\n",
       "    </tr>\n",
       "    <tr>\n",
       "      <th>3635</th>\n",
       "      <td>1999 Honda Civic Coupe HX 2dr Coupe</td>\n",
       "      <td>3.250</td>\n",
       "      <td>transmission problems on civic hx model i boug...</td>\n",
       "      <td>Negative</td>\n",
       "      <td>-0.9274</td>\n",
       "    </tr>\n",
       "    <tr>\n",
       "      <th>3636</th>\n",
       "      <td>1999 Honda Civic Coupe EX 2dr Coupe</td>\n",
       "      <td>4.500</td>\n",
       "      <td>review of  civic ex vehicle is fun to driverel...</td>\n",
       "      <td>Positive</td>\n",
       "      <td>0.8807</td>\n",
       "    </tr>\n",
       "    <tr>\n",
       "      <th>3637</th>\n",
       "      <td>1999 Honda Civic Coupe EX 2dr Coupe</td>\n",
       "      <td>4.875</td>\n",
       "      <td>my  civic ex yes this civic is an excellent ca...</td>\n",
       "      <td>Negative</td>\n",
       "      <td>-0.2299</td>\n",
       "    </tr>\n",
       "  </tbody>\n",
       "</table>\n",
       "<p>3638 rows × 5 columns</p>\n",
       "</div>"
      ],
      "text/plain": [
       "                                     Vehicle_Title  Ratings  \\\n",
       "0     1997 Honda Civic del Sol VTEC VTEC 2dr Coupe    5.000   \n",
       "1     1997 Honda Civic del Sol VTEC VTEC 2dr Coupe    5.000   \n",
       "2     1997 Honda Civic del Sol VTEC VTEC 2dr Coupe    5.000   \n",
       "3     1997 Honda Civic del Sol VTEC VTEC 2dr Coupe    4.875   \n",
       "4     1997 Honda Civic del Sol VTEC VTEC 2dr Coupe    4.750   \n",
       "...                                            ...      ...   \n",
       "3633           1999 Honda Civic Coupe EX 2dr Coupe    5.000   \n",
       "3634           1999 Honda Civic Coupe EX 2dr Coupe    4.875   \n",
       "3635           1999 Honda Civic Coupe HX 2dr Coupe    3.250   \n",
       "3636           1999 Honda Civic Coupe EX 2dr Coupe    4.500   \n",
       "3637           1999 Honda Civic Coupe EX 2dr Coupe    4.875   \n",
       "\n",
       "                                              Clean_rev Sentiment  \\\n",
       "0     best car i have owned and i have had  cars the...  Positive   \n",
       "1     my prize possession of  years   vtec dels i bo...  Positive   \n",
       "2     awesome investment this is a  person ride only...  Positive   \n",
       "3     impossible find   honda del sol vtec  i am ext...  Positive   \n",
       "4     will now be a honda owner for life i love my l...  Positive   \n",
       "...                                                 ...       ...   \n",
       "3633  a perfect  my first new honda civic was in  wi...  Positive   \n",
       "3634  great car i love everthing about this car  the...  Positive   \n",
       "3635  transmission problems on civic hx model i boug...  Negative   \n",
       "3636  review of  civic ex vehicle is fun to driverel...  Positive   \n",
       "3637  my  civic ex yes this civic is an excellent ca...  Negative   \n",
       "\n",
       "      Compound_Score  \n",
       "0             0.9852  \n",
       "1             0.6808  \n",
       "2             0.9091  \n",
       "3             0.9592  \n",
       "4             0.9624  \n",
       "...              ...  \n",
       "3633          0.8917  \n",
       "3634          0.9686  \n",
       "3635         -0.9274  \n",
       "3636          0.8807  \n",
       "3637         -0.2299  \n",
       "\n",
       "[3638 rows x 5 columns]"
      ]
     },
     "execution_count": 214,
     "metadata": {},
     "output_type": "execute_result"
    }
   ],
   "source": [
    "df_civic=df_civic.drop('Review_Date', axis=1)\n",
    "df_civic=df_civic.drop('Author_Name', axis=1)\n",
    "\n",
    "df_civic"
   ]
  },
  {
   "cell_type": "code",
   "execution_count": 216,
   "metadata": {},
   "outputs": [
    {
     "data": {
      "text/plain": [
       "0.17978351382950297"
      ]
     },
     "execution_count": 216,
     "metadata": {},
     "output_type": "execute_result"
    }
   ],
   "source": [
    "import math \n",
    "\n",
    "from sklearn.metrics import mean_squared_error\n",
    "rmse = mean_squared_error(y_test,y_pred)\n",
    "math.sqrt(rmse)"
   ]
  },
  {
   "cell_type": "code",
   "execution_count": null,
   "metadata": {},
   "outputs": [],
   "source": []
  },
  {
   "cell_type": "code",
   "execution_count": 217,
   "metadata": {},
   "outputs": [],
   "source": [
    "key_fet='fuel'\n",
    "data_Fet = pd.DataFrame([])\n",
    "# search for the key and fetch the data into the Data df\n",
    "\n",
    "for i in range(len(df_civic)):\n",
    "    if key_fet in str(features[i]):\n",
    "         data_Fet = data_Fet.append(pd.DataFrame({'Vehicle_Title': df_civic['Vehicle_Title'][i], \n",
    "                                          'Ratings': str(df_civic['Ratings'][i]),\n",
    "                                          'Sentiment': df_civic['Sentiment'][i],\n",
    "                                                 'Compound_Score': df_civic['Compound_Score'][i]},\n",
    "                                         index=[0]), ignore_index=True)\n"
   ]
  },
  {
   "cell_type": "code",
   "execution_count": 218,
   "metadata": {},
   "outputs": [
    {
     "data": {
      "text/html": [
       "<div>\n",
       "<style scoped>\n",
       "    .dataframe tbody tr th:only-of-type {\n",
       "        vertical-align: middle;\n",
       "    }\n",
       "\n",
       "    .dataframe tbody tr th {\n",
       "        vertical-align: top;\n",
       "    }\n",
       "\n",
       "    .dataframe thead th {\n",
       "        text-align: right;\n",
       "    }\n",
       "</style>\n",
       "<table border=\"1\" class=\"dataframe\">\n",
       "  <thead>\n",
       "    <tr style=\"text-align: right;\">\n",
       "      <th></th>\n",
       "      <th>Vehicle_Title</th>\n",
       "      <th>Ratings</th>\n",
       "      <th>Sentiment</th>\n",
       "      <th>Compound_Score</th>\n",
       "    </tr>\n",
       "  </thead>\n",
       "  <tbody>\n",
       "    <tr>\n",
       "      <th>0</th>\n",
       "      <td>1997 Honda Civic del Sol VTEC VTEC 2dr Coupe</td>\n",
       "      <td>5.0</td>\n",
       "      <td>Positive</td>\n",
       "      <td>0.9852</td>\n",
       "    </tr>\n",
       "    <tr>\n",
       "      <th>1</th>\n",
       "      <td>1997 Honda Civic del Sol Coupe Si 2dr Coupe</td>\n",
       "      <td>4.625</td>\n",
       "      <td>Positive</td>\n",
       "      <td>0.9423</td>\n",
       "    </tr>\n",
       "    <tr>\n",
       "      <th>2</th>\n",
       "      <td>2007 Honda Civic Si Si 4dr Sedan (2.0L 4cyl 6M)</td>\n",
       "      <td>4.875</td>\n",
       "      <td>Positive</td>\n",
       "      <td>0.8720</td>\n",
       "    </tr>\n",
       "    <tr>\n",
       "      <th>3</th>\n",
       "      <td>2007 Honda Civic Sedan EX 4dr Sedan (1.8L 4cyl...</td>\n",
       "      <td>1.0</td>\n",
       "      <td>Negative</td>\n",
       "      <td>-0.9856</td>\n",
       "    </tr>\n",
       "    <tr>\n",
       "      <th>4</th>\n",
       "      <td>2007 Honda Civic Sedan LX 4dr Sedan (1.8L 4cyl...</td>\n",
       "      <td>4.875</td>\n",
       "      <td>Positive</td>\n",
       "      <td>0.9813</td>\n",
       "    </tr>\n",
       "    <tr>\n",
       "      <th>...</th>\n",
       "      <td>...</td>\n",
       "      <td>...</td>\n",
       "      <td>...</td>\n",
       "      <td>...</td>\n",
       "    </tr>\n",
       "    <tr>\n",
       "      <th>218</th>\n",
       "      <td>1999 Honda Civic Sedan LX 4dr Sedan</td>\n",
       "      <td>3.0</td>\n",
       "      <td>Negative</td>\n",
       "      <td>-0.3639</td>\n",
       "    </tr>\n",
       "    <tr>\n",
       "      <th>219</th>\n",
       "      <td>1999 Honda Civic Sedan EX 4dr Sedan</td>\n",
       "      <td>4.375</td>\n",
       "      <td>Positive</td>\n",
       "      <td>0.8265</td>\n",
       "    </tr>\n",
       "    <tr>\n",
       "      <th>220</th>\n",
       "      <td>1999 Honda Civic Sedan LX 4dr Sedan</td>\n",
       "      <td>5.0</td>\n",
       "      <td>Positive</td>\n",
       "      <td>0.8126</td>\n",
       "    </tr>\n",
       "    <tr>\n",
       "      <th>221</th>\n",
       "      <td>1999 Honda Civic Sedan LX 4dr Sedan</td>\n",
       "      <td>5.0</td>\n",
       "      <td>Positive</td>\n",
       "      <td>0.9153</td>\n",
       "    </tr>\n",
       "    <tr>\n",
       "      <th>222</th>\n",
       "      <td>1999 Honda Civic Sedan VP 4dr Sedan</td>\n",
       "      <td>4.875</td>\n",
       "      <td>Positive</td>\n",
       "      <td>0.9690</td>\n",
       "    </tr>\n",
       "  </tbody>\n",
       "</table>\n",
       "<p>223 rows × 4 columns</p>\n",
       "</div>"
      ],
      "text/plain": [
       "                                         Vehicle_Title Ratings Sentiment  \\\n",
       "0         1997 Honda Civic del Sol VTEC VTEC 2dr Coupe     5.0  Positive   \n",
       "1          1997 Honda Civic del Sol Coupe Si 2dr Coupe   4.625  Positive   \n",
       "2      2007 Honda Civic Si Si 4dr Sedan (2.0L 4cyl 6M)   4.875  Positive   \n",
       "3    2007 Honda Civic Sedan EX 4dr Sedan (1.8L 4cyl...     1.0  Negative   \n",
       "4    2007 Honda Civic Sedan LX 4dr Sedan (1.8L 4cyl...   4.875  Positive   \n",
       "..                                                 ...     ...       ...   \n",
       "218                1999 Honda Civic Sedan LX 4dr Sedan     3.0  Negative   \n",
       "219                1999 Honda Civic Sedan EX 4dr Sedan   4.375  Positive   \n",
       "220                1999 Honda Civic Sedan LX 4dr Sedan     5.0  Positive   \n",
       "221                1999 Honda Civic Sedan LX 4dr Sedan     5.0  Positive   \n",
       "222                1999 Honda Civic Sedan VP 4dr Sedan   4.875  Positive   \n",
       "\n",
       "     Compound_Score  \n",
       "0            0.9852  \n",
       "1            0.9423  \n",
       "2            0.8720  \n",
       "3           -0.9856  \n",
       "4            0.9813  \n",
       "..              ...  \n",
       "218         -0.3639  \n",
       "219          0.8265  \n",
       "220          0.8126  \n",
       "221          0.9153  \n",
       "222          0.9690  \n",
       "\n",
       "[223 rows x 4 columns]"
      ]
     },
     "execution_count": 218,
     "metadata": {},
     "output_type": "execute_result"
    }
   ],
   "source": [
    "data_Fet"
   ]
  },
  {
   "cell_type": "code",
   "execution_count": 219,
   "metadata": {},
   "outputs": [
    {
     "data": {
      "text/html": [
       "<div>\n",
       "<style scoped>\n",
       "    .dataframe tbody tr th:only-of-type {\n",
       "        vertical-align: middle;\n",
       "    }\n",
       "\n",
       "    .dataframe tbody tr th {\n",
       "        vertical-align: top;\n",
       "    }\n",
       "\n",
       "    .dataframe thead th {\n",
       "        text-align: right;\n",
       "    }\n",
       "</style>\n",
       "<table border=\"1\" class=\"dataframe\">\n",
       "  <thead>\n",
       "    <tr style=\"text-align: right;\">\n",
       "      <th></th>\n",
       "      <th>Vehicle_Title</th>\n",
       "      <th>Ratings</th>\n",
       "      <th>Sentiment</th>\n",
       "      <th>Compound_Score</th>\n",
       "    </tr>\n",
       "  </thead>\n",
       "  <tbody>\n",
       "    <tr>\n",
       "      <th>0</th>\n",
       "      <td>4</td>\n",
       "      <td>26</td>\n",
       "      <td>2</td>\n",
       "      <td>0.9852</td>\n",
       "    </tr>\n",
       "    <tr>\n",
       "      <th>1</th>\n",
       "      <td>3</td>\n",
       "      <td>23</td>\n",
       "      <td>2</td>\n",
       "      <td>0.9423</td>\n",
       "    </tr>\n",
       "    <tr>\n",
       "      <th>2</th>\n",
       "      <td>75</td>\n",
       "      <td>25</td>\n",
       "      <td>2</td>\n",
       "      <td>0.8720</td>\n",
       "    </tr>\n",
       "    <tr>\n",
       "      <th>3</th>\n",
       "      <td>73</td>\n",
       "      <td>0</td>\n",
       "      <td>0</td>\n",
       "      <td>-0.9856</td>\n",
       "    </tr>\n",
       "    <tr>\n",
       "      <th>4</th>\n",
       "      <td>74</td>\n",
       "      <td>25</td>\n",
       "      <td>2</td>\n",
       "      <td>0.9813</td>\n",
       "    </tr>\n",
       "    <tr>\n",
       "      <th>...</th>\n",
       "      <td>...</td>\n",
       "      <td>...</td>\n",
       "      <td>...</td>\n",
       "      <td>...</td>\n",
       "    </tr>\n",
       "    <tr>\n",
       "      <th>218</th>\n",
       "      <td>14</td>\n",
       "      <td>10</td>\n",
       "      <td>0</td>\n",
       "      <td>-0.3639</td>\n",
       "    </tr>\n",
       "    <tr>\n",
       "      <th>219</th>\n",
       "      <td>13</td>\n",
       "      <td>21</td>\n",
       "      <td>2</td>\n",
       "      <td>0.8265</td>\n",
       "    </tr>\n",
       "    <tr>\n",
       "      <th>220</th>\n",
       "      <td>14</td>\n",
       "      <td>26</td>\n",
       "      <td>2</td>\n",
       "      <td>0.8126</td>\n",
       "    </tr>\n",
       "    <tr>\n",
       "      <th>221</th>\n",
       "      <td>14</td>\n",
       "      <td>26</td>\n",
       "      <td>2</td>\n",
       "      <td>0.9153</td>\n",
       "    </tr>\n",
       "    <tr>\n",
       "      <th>222</th>\n",
       "      <td>15</td>\n",
       "      <td>25</td>\n",
       "      <td>2</td>\n",
       "      <td>0.9690</td>\n",
       "    </tr>\n",
       "  </tbody>\n",
       "</table>\n",
       "<p>223 rows × 4 columns</p>\n",
       "</div>"
      ],
      "text/plain": [
       "     Vehicle_Title  Ratings  Sentiment  Compound_Score\n",
       "0                4       26          2          0.9852\n",
       "1                3       23          2          0.9423\n",
       "2               75       25          2          0.8720\n",
       "3               73        0          0         -0.9856\n",
       "4               74       25          2          0.9813\n",
       "..             ...      ...        ...             ...\n",
       "218             14       10          0         -0.3639\n",
       "219             13       21          2          0.8265\n",
       "220             14       26          2          0.8126\n",
       "221             14       26          2          0.9153\n",
       "222             15       25          2          0.9690\n",
       "\n",
       "[223 rows x 4 columns]"
      ]
     },
     "execution_count": 219,
     "metadata": {},
     "output_type": "execute_result"
    }
   ],
   "source": [
    "data_Fet['Sentiment'] = le.fit_transform(data_Fet['Sentiment'])\n",
    "data_Fet['Vehicle_Title'] = le.fit_transform(data_Fet['Vehicle_Title'])\n",
    "data_Fet['Ratings'] = le.fit_transform(data_Fet['Ratings'])\n",
    "data_Fet"
   ]
  },
  {
   "cell_type": "code",
   "execution_count": 220,
   "metadata": {},
   "outputs": [],
   "source": [
    "np.random.seed(0)\n",
    "df_train, df_test = train_test_split(data_Fet,\n",
    "                    train_size = 0.7, test_size = 0.3, random_state = 0)"
   ]
  },
  {
   "cell_type": "code",
   "execution_count": 221,
   "metadata": {},
   "outputs": [],
   "source": [
    "y_train = df_train.pop('Compound_Score')\n",
    "X_train = df_train"
   ]
  },
  {
   "cell_type": "code",
   "execution_count": 222,
   "metadata": {},
   "outputs": [],
   "source": [
    "# Running RFE Algorithm to build the multiple regression model\n",
    "lm = LinearRegression()\n",
    "lm.fit(X_train, y_train)\n",
    "\n",
    "rfe = RFE(lm, 15)             \n",
    "rfe = rfe.fit(X_train, y_train)\n"
   ]
  },
  {
   "cell_type": "code",
   "execution_count": 223,
   "metadata": {},
   "outputs": [
    {
     "data": {
      "text/plain": [
       "Index(['Vehicle_Title', 'Ratings', 'Sentiment'], dtype='object')"
      ]
     },
     "execution_count": 223,
     "metadata": {},
     "output_type": "execute_result"
    }
   ],
   "source": [
    "col_sup = X_train.columns[rfe.support_]\n",
    "col_sup"
   ]
  },
  {
   "cell_type": "code",
   "execution_count": 224,
   "metadata": {},
   "outputs": [],
   "source": [
    "X_train_rfe = X_train[col_sup]\n"
   ]
  },
  {
   "cell_type": "code",
   "execution_count": 225,
   "metadata": {},
   "outputs": [
    {
     "name": "stdout",
     "output_type": "stream",
     "text": [
      "                            OLS Regression Results                            \n",
      "==============================================================================\n",
      "Dep. Variable:         Compound_Score   R-squared:                       0.913\n",
      "Model:                            OLS   Adj. R-squared:                  0.911\n",
      "Method:                 Least Squares   F-statistic:                     532.3\n",
      "Date:                Sun, 25 Apr 2021   Prob (F-statistic):           2.22e-80\n",
      "Time:                        17:07:08   Log-Likelihood:                 43.812\n",
      "No. Observations:                 156   AIC:                            -79.62\n",
      "Df Residuals:                     152   BIC:                            -67.43\n",
      "Df Model:                           3                                         \n",
      "Covariance Type:            nonrobust                                         \n",
      "=================================================================================\n",
      "                    coef    std err          t      P>|t|      [0.025      0.975]\n",
      "---------------------------------------------------------------------------------\n",
      "const            -0.7024      0.057    -12.318      0.000      -0.815      -0.590\n",
      "Vehicle_Title    -0.0004      0.000     -1.093      0.276      -0.001       0.000\n",
      "Ratings           0.0081      0.002      3.320      0.001       0.003       0.013\n",
      "Sentiment         0.6914      0.021     33.197      0.000       0.650       0.733\n",
      "==============================================================================\n",
      "Omnibus:                       16.401   Durbin-Watson:                   1.868\n",
      "Prob(Omnibus):                  0.000   Jarque-Bera (JB):               18.446\n",
      "Skew:                          -0.828   Prob(JB):                     9.87e-05\n",
      "Kurtosis:                       3.312   Cond. No.                         276.\n",
      "==============================================================================\n",
      "\n",
      "Notes:\n",
      "[1] Standard Errors assume that the covariance matrix of the errors is correctly specified.\n"
     ]
    }
   ],
   "source": [
    "import statsmodels.api as sm  \n",
    "X_train_rfec = sm.add_constant(X_train_rfe)\n",
    "lm_rfe = sm.OLS(y_train,X_train_rfec).fit()\n",
    "\n",
    "#Summary of the model performance\n",
    "print(lm_rfe.summary())"
   ]
  },
  {
   "cell_type": "code",
   "execution_count": 226,
   "metadata": {},
   "outputs": [],
   "source": [
    "y_train_price = lm_rfe.predict(X_train_rfec)"
   ]
  },
  {
   "cell_type": "code",
   "execution_count": 227,
   "metadata": {},
   "outputs": [
    {
     "data": {
      "text/plain": [
       "array([[ 1.59262164, -0.36466915,  0.55332943],\n",
       "       [ 0.11391872,  0.64603824, -1.91293888],\n",
       "       [-0.665761  ,  0.79042501,  0.55332943],\n",
       "       [ 0.32900278, -0.65344269,  0.55332943],\n",
       "       [-0.26247839, -0.07589561,  0.55332943],\n",
       "       [ 0.67851438,  0.50165147,  0.55332943],\n",
       "       [ 1.32376657,  0.79042501, -1.91293888],\n",
       "       [ 1.56573614,  0.79042501,  0.55332943],\n",
       "       [-0.58510448,  0.21287793,  0.55332943],\n",
       "       [-0.61198999,  0.64603824,  0.55332943],\n",
       "       [ 0.19457524,  0.06849116,  0.55332943],\n",
       "       [-0.10116534,  0.3572647 ,  0.55332943],\n",
       "       [ 1.40442309,  0.79042501,  0.55332943],\n",
       "       [ 0.0332622 , -0.07589561, -0.67980473],\n",
       "       [-1.12281463,  0.21287793,  0.55332943],\n",
       "       [-0.61198999,  0.79042501,  0.55332943],\n",
       "       [-0.98838709, -0.22028238, -0.67980473],\n",
       "       [ 0.86671294,  0.79042501,  0.55332943],\n",
       "       [-0.50444795,  0.50165147,  0.55332943],\n",
       "       [-0.10116534,  0.3572647 ,  0.55332943],\n",
       "       [ 0.49031583,  0.3572647 ,  0.55332943],\n",
       "       [-0.23559288, -0.36466915,  0.55332943],\n",
       "       [ 0.83982743,  0.64603824,  0.55332943],\n",
       "       [-0.96150159, -0.79782946,  0.55332943],\n",
       "       [-0.42379143,  0.79042501,  0.55332943],\n",
       "       [ 0.16768974,  0.21287793, -1.91293888],\n",
       "       [-0.10116534,  0.64603824,  0.55332943],\n",
       "       [-0.665761  ,  0.50165147,  0.55332943],\n",
       "       [ 0.22146075, -1.51976332, -1.91293888],\n",
       "       [ 1.59262164, -0.36466915,  0.55332943],\n",
       "       [-0.90773057,  0.06849116,  0.55332943],\n",
       "       [-1.31101319, -2.24169717, -1.91293888],\n",
       "       [ 1.37753758, -1.086603  , -1.91293888],\n",
       "       [ 0.65162888,  0.79042501,  0.55332943],\n",
       "       [-0.665761  ,  0.79042501,  0.55332943],\n",
       "       [ 0.57097235, -0.36466915, -0.67980473],\n",
       "       [-1.20347115, -1.51976332, -1.91293888],\n",
       "       [-0.85395955,  0.64603824,  0.55332943],\n",
       "       [ 0.46343032, -2.53047071,  0.55332943],\n",
       "       [-0.71953202,  0.3572647 ,  0.55332943],\n",
       "       [ 1.91524774,  0.79042501,  0.55332943],\n",
       "       [ 0.43654481,  0.64603824,  0.55332943],\n",
       "       [-0.61198999,  0.64603824,  0.55332943],\n",
       "       [-0.80018854,  0.21287793,  0.55332943],\n",
       "       [-1.44544072,  0.50165147,  0.55332943],\n",
       "       [-0.665761  ,  0.79042501,  0.55332943],\n",
       "       [ 0.40965931,  0.79042501, -1.91293888],\n",
       "       [-0.39690592, -1.51976332, -1.91293888],\n",
       "       [ 0.97425497,  0.64603824,  0.55332943],\n",
       "       [-1.14970014,  0.3572647 ,  0.55332943],\n",
       "       [-1.25724217,  0.3572647 ,  0.55332943],\n",
       "       [-0.07427983,  0.79042501,  0.55332943],\n",
       "       [ 1.72704918, -1.51976332, -1.91293888],\n",
       "       [-1.55298275,  0.06849116,  0.55332943],\n",
       "       [-0.02050882,  0.06849116,  0.55332943],\n",
       "       [ 0.3827738 , -2.96363102, -1.91293888],\n",
       "       [ 1.13556801, -0.36466915,  0.55332943],\n",
       "       [-0.85395955,  0.50165147,  0.55332943],\n",
       "       [-1.3647842 , -0.79782946, -1.91293888],\n",
       "       [-1.14970014,  0.64603824,  0.55332943],\n",
       "       [-0.53133346,  0.79042501,  0.55332943],\n",
       "       [-0.20870737,  0.79042501,  0.55332943],\n",
       "       [-1.47232623,  0.79042501,  0.55332943],\n",
       "       [-0.12805085,  0.64603824,  0.55332943],\n",
       "       [-0.12805085,  0.79042501,  0.55332943],\n",
       "       [ 2.04967527,  0.79042501,  0.55332943],\n",
       "       [-0.53133346, -2.67485748, -0.67980473],\n",
       "       [-0.63887549,  0.79042501,  0.55332943],\n",
       "       [ 0.81294192, -0.07589561, -1.91293888],\n",
       "       [-1.20347115,  0.79042501,  0.55332943],\n",
       "       [ 1.29688106, -1.51976332,  0.55332943],\n",
       "       [ 0.78605641,  0.79042501,  0.55332943],\n",
       "       [-0.10116534,  0.21287793,  0.55332943],\n",
       "       [-0.85395955,  0.79042501,  0.55332943],\n",
       "       [ 1.10868251, -2.0973104 , -1.91293888],\n",
       "       [-1.20347115,  0.79042501,  0.55332943],\n",
       "       [ 0.3827738 , -0.65344269,  0.55332943],\n",
       "       [ 2.02278977, -1.51976332,  0.55332943],\n",
       "       [ 0.89359844, -1.23098977, -1.91293888],\n",
       "       [-0.26247839,  0.64603824,  0.55332943],\n",
       "       [-1.41855522, -0.22028238, -1.91293888],\n",
       "       [-1.06904362,  0.21287793,  0.55332943],\n",
       "       [-1.55298275, -0.36466915,  0.55332943],\n",
       "       [ 1.02802598,  0.79042501,  0.55332943],\n",
       "       [-1.17658565,  0.64603824,  0.55332943],\n",
       "       [ 1.18933903, -1.80853686, -1.91293888],\n",
       "       [-1.57986826,  0.64603824, -1.91293888],\n",
       "       [ 0.35588829,  0.50165147,  0.55332943],\n",
       "       [-0.26247839,  0.50165147,  0.55332943],\n",
       "       [-0.10116534,  0.64603824,  0.55332943],\n",
       "       [ 1.48507961, -0.36466915,  0.55332943],\n",
       "       [-0.61198999,  0.79042501,  0.55332943],\n",
       "       [-0.77330303,  0.79042501,  0.55332943],\n",
       "       [-1.49921174,  0.3572647 ,  0.55332943],\n",
       "       [-0.23559288,  0.50165147,  0.55332943],\n",
       "       [-1.0152726 , -2.24169717,  0.55332943],\n",
       "       [-0.665761  ,  0.50165147,  0.55332943],\n",
       "       [-0.07427983,  0.79042501,  0.55332943],\n",
       "       [-0.85395955,  0.79042501,  0.55332943],\n",
       "       [-1.44544072,  0.79042501,  0.55332943],\n",
       "       [ 1.45819411, -2.96363102, -1.91293888],\n",
       "       [-0.665761  , -0.07589561,  0.55332943],\n",
       "       [-0.85395955,  0.64603824,  0.55332943],\n",
       "       [-0.58510448, -2.38608394,  0.55332943],\n",
       "       [ 0.11391872,  0.50165147,  0.55332943],\n",
       "       [-1.09592912,  0.3572647 ,  0.55332943],\n",
       "       [-0.45067694,  0.50165147,  0.55332943],\n",
       "       [ 1.48507961,  0.79042501,  0.55332943],\n",
       "       [ 1.53885063,  0.79042501,  0.55332943],\n",
       "       [-0.15493636, -0.22028238, -0.67980473],\n",
       "       [ 0.08703321,  0.64603824,  0.55332943],\n",
       "       [ 0.51720134, -2.96363102, -1.91293888],\n",
       "       [ 1.70016367, -2.53047071, -1.91293888],\n",
       "       [ 1.05491149, -1.37537655, -1.91293888],\n",
       "       [-0.47756245,  0.79042501,  0.55332943],\n",
       "       [ 1.75393469,  0.79042501,  0.55332943],\n",
       "       [ 1.67327817, -2.96363102,  0.55332943],\n",
       "       [ 0.06014771, -0.36466915,  0.55332943],\n",
       "       [-0.88084506, -0.50905592,  0.55332943],\n",
       "       [-1.52609725,  0.21287793,  0.55332943],\n",
       "       [ 0.59785786,  0.79042501,  0.55332943],\n",
       "       [ 1.64639266,  0.64603824, -1.91293888],\n",
       "       [-0.93461608, -2.0973104 ,  0.55332943],\n",
       "       [-0.10116534, -0.07589561,  0.55332943],\n",
       "       [ 0.78605641, -0.07589561,  0.55332943],\n",
       "       [-1.12281463,  0.79042501,  0.55332943],\n",
       "       [ 0.86671294, -1.66415009, -1.91293888],\n",
       "       [-0.18182186, -1.95292363,  0.55332943],\n",
       "       [ 0.62474337, -0.50905592, -1.91293888],\n",
       "       [-1.20347115, -0.79782946, -0.67980473],\n",
       "       [ 0.92048395,  0.64603824,  0.55332943],\n",
       "       [ 0.78605641,  0.21287793,  0.55332943],\n",
       "       [ 1.61950715, -0.36466915,  0.55332943],\n",
       "       [ 0.14080423,  0.64603824,  0.55332943],\n",
       "       [ 0.89359844,  0.79042501,  0.55332943],\n",
       "       [-1.41855522,  0.79042501, -1.91293888],\n",
       "       [-1.12281463,  0.50165147, -1.91293888],\n",
       "       [-1.14970014,  0.79042501,  0.55332943],\n",
       "       [-0.665761  ,  0.21287793,  0.55332943],\n",
       "       [ 1.26999555,  0.06849116,  0.55332943],\n",
       "       [-0.61198999,  0.79042501,  0.55332943],\n",
       "       [-0.90773057,  0.3572647 ,  0.55332943],\n",
       "       [ 0.70539989,  0.79042501,  0.55332943],\n",
       "       [ 1.94213324,  0.79042501,  0.55332943],\n",
       "       [ 0.75917091, -1.37537655, -1.91293888],\n",
       "       [-0.55821897,  0.06849116,  0.55332943],\n",
       "       [ 1.35065207, -0.50905592, -1.91293888],\n",
       "       [-1.28412768,  0.79042501,  0.55332943],\n",
       "       [ 0.40965931, -0.07589561, -1.91293888],\n",
       "       [-0.10116534,  0.64603824,  0.55332943],\n",
       "       [ 1.7808202 ,  0.79042501,  0.55332943],\n",
       "       [ 1.99590426,  0.79042501,  0.55332943],\n",
       "       [ 1.24311004,  0.21287793, -1.91293888],\n",
       "       [-0.37002042,  0.50165147,  0.55332943],\n",
       "       [-0.63887549,  0.50165147,  0.55332943],\n",
       "       [-1.04215811, -0.50905592, -1.91293888]])"
      ]
     },
     "execution_count": 227,
     "metadata": {},
     "output_type": "execute_result"
    }
   ],
   "source": [
    "import warnings\n",
    "scaler = preprocessing.StandardScaler()\n",
    "\n",
    "warnings.filterwarnings(\"ignore\")\n",
    "df_train = scaler.fit_transform(df_train)\n",
    "df_train"
   ]
  },
  {
   "cell_type": "code",
   "execution_count": 228,
   "metadata": {},
   "outputs": [],
   "source": [
    "y_test = df_test.pop('Compound_Score')\n",
    "X_test = df_test"
   ]
  },
  {
   "cell_type": "code",
   "execution_count": 229,
   "metadata": {},
   "outputs": [],
   "source": [
    "# Adding constant\n",
    "X_test_1 = sm.add_constant(X_test)\n",
    "\n",
    "#Taking only the columns of the model\n",
    "X_test_new = X_test_1[X_train_rfec.columns]\n",
    "\n",
    "# The final predictions should be made by the testing data, all previous predictions were made by training data\n",
    "y_pred = lm_rfe.predict(X_test_new)"
   ]
  },
  {
   "cell_type": "code",
   "execution_count": 230,
   "metadata": {},
   "outputs": [
    {
     "name": "stdout",
     "output_type": "stream",
     "text": [
      "67\n"
     ]
    }
   ],
   "source": [
    " print(len(y_pred))"
   ]
  },
  {
   "cell_type": "code",
   "execution_count": 231,
   "metadata": {},
   "outputs": [
    {
     "name": "stdout",
     "output_type": "stream",
     "text": [
      "92.61347489405655\n"
     ]
    }
   ],
   "source": [
    "print(r2_score(y_test, y_pred)*100)"
   ]
  },
  {
   "cell_type": "code",
   "execution_count": 232,
   "metadata": {},
   "outputs": [
    {
     "data": {
      "text/html": [
       "<div>\n",
       "<style scoped>\n",
       "    .dataframe tbody tr th:only-of-type {\n",
       "        vertical-align: middle;\n",
       "    }\n",
       "\n",
       "    .dataframe tbody tr th {\n",
       "        vertical-align: top;\n",
       "    }\n",
       "\n",
       "    .dataframe thead th {\n",
       "        text-align: right;\n",
       "    }\n",
       "</style>\n",
       "<table border=\"1\" class=\"dataframe\">\n",
       "  <thead>\n",
       "    <tr style=\"text-align: right;\">\n",
       "      <th></th>\n",
       "      <th>Real data</th>\n",
       "      <th>Predicted data</th>\n",
       "    </tr>\n",
       "  </thead>\n",
       "  <tbody>\n",
       "    <tr>\n",
       "      <th>0</th>\n",
       "      <td>-0.4195</td>\n",
       "      <td>-0.654506</td>\n",
       "    </tr>\n",
       "    <tr>\n",
       "      <th>1</th>\n",
       "      <td>-0.2831</td>\n",
       "      <td>-0.568681</td>\n",
       "    </tr>\n",
       "    <tr>\n",
       "      <th>2</th>\n",
       "      <td>-0.9406</td>\n",
       "      <td>-0.704141</td>\n",
       "    </tr>\n",
       "    <tr>\n",
       "      <th>3</th>\n",
       "      <td>0.7736</td>\n",
       "      <td>0.773123</td>\n",
       "    </tr>\n",
       "    <tr>\n",
       "      <th>4</th>\n",
       "      <td>-0.6486</td>\n",
       "      <td>-0.738116</td>\n",
       "    </tr>\n",
       "    <tr>\n",
       "      <th>5</th>\n",
       "      <td>0.8885</td>\n",
       "      <td>0.840338</td>\n",
       "    </tr>\n",
       "    <tr>\n",
       "      <th>6</th>\n",
       "      <td>0.9313</td>\n",
       "      <td>0.860279</td>\n",
       "    </tr>\n",
       "    <tr>\n",
       "      <th>7</th>\n",
       "      <td>-0.8005</td>\n",
       "      <td>-0.758205</td>\n",
       "    </tr>\n",
       "    <tr>\n",
       "      <th>8</th>\n",
       "      <td>0.8921</td>\n",
       "      <td>0.828223</td>\n",
       "    </tr>\n",
       "    <tr>\n",
       "      <th>9</th>\n",
       "      <td>0.9321</td>\n",
       "      <td>0.851121</td>\n",
       "    </tr>\n",
       "  </tbody>\n",
       "</table>\n",
       "</div>"
      ],
      "text/plain": [
       "   Real data  Predicted data\n",
       "0    -0.4195       -0.654506\n",
       "1    -0.2831       -0.568681\n",
       "2    -0.9406       -0.704141\n",
       "3     0.7736        0.773123\n",
       "4    -0.6486       -0.738116\n",
       "5     0.8885        0.840338\n",
       "6     0.9313        0.860279\n",
       "7    -0.8005       -0.758205\n",
       "8     0.8921        0.828223\n",
       "9     0.9321        0.851121"
      ]
     },
     "execution_count": 232,
     "metadata": {},
     "output_type": "execute_result"
    }
   ],
   "source": [
    "predt = pd.DataFrame({'Real data': y_test.tolist(), 'Predicted data': y_pred.tolist()})\n",
    "predt.head(10)"
   ]
  },
  {
   "cell_type": "code",
   "execution_count": 233,
   "metadata": {},
   "outputs": [
    {
     "data": {
      "text/plain": [
       "0.16892430639649558"
      ]
     },
     "execution_count": 233,
     "metadata": {},
     "output_type": "execute_result"
    }
   ],
   "source": [
    "rmse = mean_squared_error(y_test,y_pred)\n",
    "math.sqrt(rmse)"
   ]
  },
  {
   "cell_type": "code",
   "execution_count": 234,
   "metadata": {},
   "outputs": [
    {
     "name": "stdout",
     "output_type": "stream",
     "text": [
      "Collecting dash\n",
      "  Downloading dash-1.20.0.tar.gz (77 kB)\n",
      "Requirement already satisfied: Flask>=1.0.4 in c:\\users\\abdul\\anaconda3\\lib\\site-packages (from dash) (1.1.2)\n",
      "Collecting flask-compress\n",
      "  Downloading Flask_Compress-1.9.0-py3-none-any.whl (7.3 kB)\n",
      "Requirement already satisfied: plotly in c:\\users\\abdul\\anaconda3\\lib\\site-packages (from dash) (4.14.3)\n",
      "Collecting dash_renderer==1.9.1\n",
      "  Downloading dash_renderer-1.9.1.tar.gz (1.0 MB)\n",
      "Collecting dash-core-components==1.16.0\n",
      "  Downloading dash_core_components-1.16.0.tar.gz (3.5 MB)\n",
      "Collecting dash-html-components==1.1.3\n",
      "  Downloading dash_html_components-1.1.3.tar.gz (82 kB)\n",
      "Collecting dash-table==4.11.3\n",
      "  Downloading dash_table-4.11.3.tar.gz (1.8 MB)\n",
      "Requirement already satisfied: future in c:\\users\\abdul\\anaconda3\\lib\\site-packages (from dash) (0.18.2)\n",
      "Requirement already satisfied: itsdangerous>=0.24 in c:\\users\\abdul\\anaconda3\\lib\\site-packages (from Flask>=1.0.4->dash) (1.1.0)\n",
      "Requirement already satisfied: Jinja2>=2.10.1 in c:\\users\\abdul\\anaconda3\\lib\\site-packages (from Flask>=1.0.4->dash) (2.11.3)\n",
      "Requirement already satisfied: click>=5.1 in c:\\users\\abdul\\anaconda3\\lib\\site-packages (from Flask>=1.0.4->dash) (7.1.2)\n",
      "Requirement already satisfied: Werkzeug>=0.15 in c:\\users\\abdul\\anaconda3\\lib\\site-packages (from Flask>=1.0.4->dash) (1.0.1)\n",
      "Requirement already satisfied: MarkupSafe>=0.23 in c:\\users\\abdul\\anaconda3\\lib\\site-packages (from Jinja2>=2.10.1->Flask>=1.0.4->dash) (1.1.1)\n",
      "Collecting brotli\n",
      "  Downloading Brotli-1.0.9-cp37-cp37m-win_amd64.whl (365 kB)\n",
      "Requirement already satisfied: six in c:\\users\\abdul\\anaconda3\\lib\\site-packages (from plotly->dash) (1.15.0)\n",
      "Requirement already satisfied: retrying>=1.3.3 in c:\\users\\abdul\\anaconda3\\lib\\site-packages (from plotly->dash) (1.3.3)\n",
      "Building wheels for collected packages: dash, dash-core-components, dash-html-components, dash-renderer, dash-table\n",
      "  Building wheel for dash (setup.py): started\n",
      "Note: you may need to restart the kernel to use updated packages.\n",
      "  Building wheel for dash (setup.py): finished with status 'done'\n",
      "  Created wheel for dash: filename=dash-1.20.0-py3-none-any.whl size=85831 sha256=13cf30d1f001e4bf65278680b7983a594cafac699256b348f06fcafed62f5e2e\n",
      "  Stored in directory: c:\\users\\abdul\\appdata\\local\\pip\\cache\\wheels\\4f\\c3\\6a\\a7cb9cedfdf93e0f0e8db0817ff2646d319afa9e4ca543ef9c\n",
      "  Building wheel for dash-core-components (setup.py): started\n",
      "  Building wheel for dash-core-components (setup.py): finished with status 'done'\n",
      "  Created wheel for dash-core-components: filename=dash_core_components-1.16.0-py3-none-any.whl size=3540991 sha256=604b06dc489bcfec6948b9cdc62f9802c79ad121ba9a76f5591cc10b04af3a8d\n",
      "  Stored in directory: c:\\users\\abdul\\appdata\\local\\pip\\cache\\wheels\\6a\\50\\7e\\c440176e48ba46baa157b0f10365f6871acd133460b4e0abe4\n",
      "  Building wheel for dash-html-components (setup.py): started\n",
      "  Building wheel for dash-html-components (setup.py): finished with status 'done'\n",
      "  Created wheel for dash-html-components: filename=dash_html_components-1.1.3-py3-none-any.whl size=319471 sha256=35190805ec765d090febc3610e50f339d74f0d064a14ecdcc2da9db027baea41\n",
      "  Stored in directory: c:\\users\\abdul\\appdata\\local\\pip\\cache\\wheels\\7d\\75\\be\\b836bd1c1f92c4823fef293f82375ca448c1fc627ce50acff0\n",
      "  Building wheel for dash-renderer (setup.py): started\n",
      "  Building wheel for dash-renderer (setup.py): finished with status 'done'\n",
      "  Created wheel for dash-renderer: filename=dash_renderer-1.9.1-py3-none-any.whl size=1014878 sha256=cd88923a14ff5d8c84b0b920c564e7c45a27cfc9f9c97eb2a9d7c8f0254955e1\n",
      "  Stored in directory: c:\\users\\abdul\\appdata\\local\\pip\\cache\\wheels\\1a\\2f\\c0\\783c571f9861e5c716b56638926b03fb80bc58991e5a54947d\n",
      "  Building wheel for dash-table (setup.py): started\n",
      "  Building wheel for dash-table (setup.py): finished with status 'done'\n",
      "  Created wheel for dash-table: filename=dash_table-4.11.3-py3-none-any.whl size=1827618 sha256=94abadce16bc1525406ac16aa788bd95ca0062f22c4f1549e1d6d7f6388f1cf2\n",
      "  Stored in directory: c:\\users\\abdul\\appdata\\local\\pip\\cache\\wheels\\99\\5e\\cb\\e1918e34d079454bad0504e73a9195d9da8cd46605560e6864\n",
      "Successfully built dash dash-core-components dash-html-components dash-renderer dash-table\n",
      "Installing collected packages: brotli, flask-compress, dash-table, dash-renderer, dash-html-components, dash-core-components, dash\n",
      "Successfully installed brotli-1.0.9 dash-1.20.0 dash-core-components-1.16.0 dash-html-components-1.1.3 dash-renderer-1.9.1 dash-table-4.11.3 flask-compress-1.9.0\n"
     ]
    }
   ],
   "source": []
  },
  {
   "cell_type": "code",
   "execution_count": null,
   "metadata": {},
   "outputs": [],
   "source": []
  },
  {
   "cell_type": "code",
   "execution_count": null,
   "metadata": {},
   "outputs": [],
   "source": []
  }
 ],
 "metadata": {
  "kernelspec": {
   "display_name": "Python 3",
   "language": "python",
   "name": "python3"
  },
  "language_info": {
   "codemirror_mode": {
    "name": "ipython",
    "version": 3
   },
   "file_extension": ".py",
   "mimetype": "text/x-python",
   "name": "python",
   "nbconvert_exporter": "python",
   "pygments_lexer": "ipython3",
   "version": "3.7.3"
  }
 },
 "nbformat": 4,
 "nbformat_minor": 2
}
