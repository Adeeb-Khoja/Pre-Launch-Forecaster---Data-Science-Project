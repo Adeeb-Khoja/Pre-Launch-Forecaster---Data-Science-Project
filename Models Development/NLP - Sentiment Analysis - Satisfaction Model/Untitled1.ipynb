{
 "cells": [
  {
   "cell_type": "code",
   "execution_count": 14,
   "id": "a77e367b",
   "metadata": {},
   "outputs": [],
   "source": [
    "import requests"
   ]
  },
  {
   "cell_type": "code",
   "execution_count": 15,
   "id": "53160292",
   "metadata": {},
   "outputs": [],
   "source": [
    "res = requests.post(\n",
    "    url='http://localhost:5000/predict',\n",
    "    json={\n",
    "        'Ratings':5.000,\n",
    "        'Model':4,\n",
    "        'Year':2015.0,\n",
    "        'Engine HP':443.0,\n",
    "        'Engine Cylinders': 8.0,\n",
    "        'Driven_Wheels':0,\n",
    "        'Number of Doors':4.0,\n",
    "        'Market Category':7,\n",
    "        'Vehicle Size':1,\n",
    "        'highway MPG':25.0,\n",
    "        'city mpg':16.0,\n",
    "        'Vehicle Style\\r':5,\n",
    "        'Sentiment':2\n",
    "    }\n",
    ")\n"
   ]
  },
  {
   "cell_type": "code",
   "execution_count": 17,
   "id": "bfe72996",
   "metadata": {},
   "outputs": [
    {
     "data": {
      "text/plain": [
       "{'**Predicted Satisfaction Score**': 0.8587187578087816,\n",
       " 'Input': {'Driven_Wheels': 0,\n",
       "  'Engine Cylinders': 8.0,\n",
       "  'Engine HP': 443.0,\n",
       "  'Market Category': 7,\n",
       "  'Model': 4,\n",
       "  'Number of Doors': 4.0,\n",
       "  'Ratings': 5.0,\n",
       "  'Sentiment': 2,\n",
       "  'Vehicle Size': 1,\n",
       "  'Vehicle Style\\r': 5,\n",
       "  'Year': 2015.0,\n",
       "  'city mpg': 16.0,\n",
       "  'highway MPG': 25.0}}"
      ]
     },
     "execution_count": 17,
     "metadata": {},
     "output_type": "execute_result"
    }
   ],
   "source": [
    "res.json()"
   ]
  },
  {
   "cell_type": "code",
   "execution_count": 19,
   "id": "c29fdedb",
   "metadata": {},
   "outputs": [
    {
     "name": "stdout",
     "output_type": "stream",
     "text": [
      "Collecting fpdf\n",
      "  Downloading fpdf-1.7.2.tar.gz (39 kB)\n",
      "Building wheels for collected packages: fpdf\n",
      "  Building wheel for fpdf (setup.py): started\n",
      "  Building wheel for fpdf (setup.py): finished with status 'done'\n",
      "  Created wheel for fpdf: filename=fpdf-1.7.2-py2.py3-none-any.whl size=40722 sha256=964b34b891624df0d335173c355d48f38dcaef016715785de28bcd9a1a71ae8c\n",
      "  Stored in directory: c:\\users\\abdul\\appdata\\local\\pip\\cache\\wheels\\d7\\ca\\c8\\86467e7957bbbcbdf4cf4870fc7dc95e9a16404b2e3c3a98c3\n",
      "Successfully built fpdf\n",
      "Installing collected packages: fpdf\n",
      "Successfully installed fpdf-1.7.2\n",
      "Note: you may need to restart the kernel to use updated packages.\n"
     ]
    }
   ],
   "source": [
    "pip install fpdf"
   ]
  },
  {
   "cell_type": "code",
   "execution_count": 20,
   "id": "f9d9cbd5",
   "metadata": {},
   "outputs": [],
   "source": [
    "from fpdf import FPDF  # fpdf class"
   ]
  },
  {
   "cell_type": "code",
   "execution_count": 21,
   "id": "0d173769",
   "metadata": {},
   "outputs": [],
   "source": [
    "class PDF(FPDF):\n",
    "     pass"
   ]
  },
  {
   "cell_type": "code",
   "execution_count": 25,
   "id": "2386ef8a",
   "metadata": {},
   "outputs": [],
   "source": [
    "pdf = PDF(orientation='P', unit='mm', format='A4')"
   ]
  },
  {
   "cell_type": "code",
   "execution_count": null,
   "id": "85968029",
   "metadata": {},
   "outputs": [],
   "source": []
  }
 ],
 "metadata": {
  "kernelspec": {
   "display_name": "Python 3",
   "language": "python",
   "name": "python3"
  },
  "language_info": {
   "codemirror_mode": {
    "name": "ipython",
    "version": 3
   },
   "file_extension": ".py",
   "mimetype": "text/x-python",
   "name": "python",
   "nbconvert_exporter": "python",
   "pygments_lexer": "ipython3",
   "version": "3.7.3"
  }
 },
 "nbformat": 4,
 "nbformat_minor": 5
}
