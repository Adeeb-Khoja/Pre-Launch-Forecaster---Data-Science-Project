{
 "cells": [
  {
   "cell_type": "code",
   "execution_count": 12,
   "id": "3f906fbb",
   "metadata": {},
   "outputs": [],
   "source": [
    "import requests"
   ]
  },
  {
   "cell_type": "code",
   "execution_count": null,
   "id": "97b3fe18",
   "metadata": {},
   "outputs": [],
   "source": [
    "res = requests.post(\n",
    "    url='http://localhost:5000/predict',\n",
    "    json={\n",
    "        'Ratings':5.000,\n",
    "        'Model':4,\n",
    "        'Year':2015.0,\n",
    "        'Engine HP':443.0,\n",
    "        'Engine Cylinders': 8.0,\n",
    "        'Driven_Wheels':0,\n",
    "        'Number of Doors':4.0,\n",
    "        'Market Category':7,\n",
    "        'Vehicle Size':1,\n",
    "        'highway MPG':25.0,\n",
    "        'city mpg':16.0,\n",
    "        'Vehicle Style\\r':5,\n",
    "        'Sentiment':2\n",
    "    }\n",
    ")\n"
   ]
  },
  {
   "cell_type": "code",
   "execution_count": null,
   "id": "ca777410",
   "metadata": {},
   "outputs": [],
   "source": [
    "res"
   ]
  },
  {
   "cell_type": "code",
   "execution_count": 11,
   "id": "355d200e",
   "metadata": {},
   "outputs": [
    {
     "data": {
      "text/plain": [
       "{'message': 'Internal Server Error'}"
      ]
     },
     "execution_count": 11,
     "metadata": {},
     "output_type": "execute_result"
    }
   ],
   "source": [
    "res.json()"
   ]
  },
  {
   "cell_type": "code",
   "execution_count": null,
   "id": "84a1dbe7",
   "metadata": {},
   "outputs": [],
   "source": []
  }
 ],
 "metadata": {
  "kernelspec": {
   "display_name": "Python 3",
   "language": "python",
   "name": "python3"
  },
  "language_info": {
   "codemirror_mode": {
    "name": "ipython",
    "version": 3
   },
   "file_extension": ".py",
   "mimetype": "text/x-python",
   "name": "python",
   "nbconvert_exporter": "python",
   "pygments_lexer": "ipython3",
   "version": "3.7.3"
  }
 },
 "nbformat": 4,
 "nbformat_minor": 5
}
