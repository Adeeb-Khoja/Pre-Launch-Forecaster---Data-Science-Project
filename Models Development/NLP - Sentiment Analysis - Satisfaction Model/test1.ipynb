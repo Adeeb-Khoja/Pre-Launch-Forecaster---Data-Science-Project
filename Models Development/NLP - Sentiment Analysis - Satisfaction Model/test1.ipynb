{
 "cells": [
  {
   "cell_type": "code",
   "execution_count": 62,
   "id": "eccf3d3e",
   "metadata": {},
   "outputs": [],
   "source": []
  },
  {
   "cell_type": "code",
   "execution_count": 64,
   "id": "e88cc153",
   "metadata": {},
   "outputs": [],
   "source": []
  },
  {
   "cell_type": "code",
   "execution_count": 93,
   "id": "8a4fab28",
   "metadata": {},
   "outputs": [
    {
     "name": "stdout",
     "output_type": "stream",
     "text": [
      "Writing fetAPI.py\n"
     ]
    }
   ],
   "source": [
    "%%writefile fetAPI.py\n",
    "import pandas as pd\n",
    "from sklearn.model_selection import train_test_split\n",
    "from sklearn import preprocessing\n",
    "import warnings\n",
    "import statsmodels.api as sm  \n",
    "import numpy as np\n",
    "from sklearn.linear_model import LinearRegression\n",
    "from sklearn.feature_selection import RFE\n",
    "from statsmodels.stats.outliers_influence import variance_inflation_factor\n",
    "import numpy as np\n",
    "from sklearn.linear_model import LinearRegression\n",
    "from sklearn import metrics\n",
    "from sklearn.metrics import r2_score\n",
    "import seaborn as sns\n",
    "from sklearn import preprocessing\n",
    "import matplotlib.pyplot as plt\n",
    "from sklearn.preprocessing import MinMaxScaler\n",
    "with open(r'C:\\Users\\abdul\\Desktop\\qwe\\FYP\\listfet2.csv', newline='') as f:\n",
    "    reader = csv.reader(f)\n",
    "    features = list(reader)\n",
    "\n",
    "def pred(x):\n",
    "    df_SC=pd.read_csv(r'C:\\Users\\abdul\\Desktop\\FYP\\FinalDataset_SC.csv')\n",
    "    key_fet=x\n",
    "    data_Fet = pd.DataFrame([])\n",
    "    # search for the key and fetch the data into the Data df\n",
    "    for i in range(len(df_SC)):\n",
    "        if key_fet in str(features[i]):\n",
    "             data_Fet = data_Fet.append(pd.DataFrame({'Vehicle_Title': df_SC['Vehicle_Title'][i], \n",
    "                                              'Ratings': str(df_SC['Ratings'][i]),\n",
    "                                              'Sentiment': df_SC['Sentiment'][i],\n",
    "                                                     'Compound_Score': df_SC['Compound_Score'][i]},\n",
    "                                             index=[0]), ignore_index=True)\n",
    "    for c in data_Fet.columns:\n",
    "        if data_Fet[c].dtype == 'object':\n",
    "            lbl = preprocessing.LabelEncoder()\n",
    "            lbl.fit(list(data_Fet[c].values)) \n",
    "            data_Fet[c] = lbl.transform(list(data_Fet[c].values))\n",
    "    np.random.seed(0)\n",
    "    df_train, df_test = train_test_split(data_Fet,\n",
    "                        train_size = 0.7, test_size = 0.3, random_state = 0)\n",
    "    y_train = df_train.pop('Compound_Score')\n",
    "    X_train = df_train\n",
    "    lm = LinearRegression()\n",
    "    lm.fit(X_train, y_train)\n",
    "\n",
    "    rfe = RFE(lm, 15)             \n",
    "    rfe = rfe.fit(X_train, y_train)\n",
    "    col_sup = X_train.columns[rfe.support_]\n",
    "    X_train_rfe = X_train[col_sup]\n",
    "    X_train_rfec = sm.add_constant(X_train_rfe)\n",
    "    lm_rfe = sm.OLS(y_train,X_train_rfec).fit()\n",
    "    y_train_sats = lm_rfe.predict(X_train_rfec)\n",
    "    scaler = preprocessing.StandardScaler()\n",
    "\n",
    "    warnings.filterwarnings(\"ignore\")\n",
    "    df_train = scaler.fit_transform(df_train)\n",
    "    y_test = df_test.pop('Compound_Score')\n",
    "    X_test = df_test\n",
    "    X_test_1 = sm.add_constant(X_test)\n",
    "\n",
    "    #Taking only the columns of the model\n",
    "    X_test_new = X_test_1[X_train_rfec.columns]\n",
    "\n",
    "    # The final predictions should be made by the testing data, all previous predictions were made by training data\n",
    "    y_pred = lm_rfe.predict(X_test_new)\n",
    "    predt2 = pd.DataFrame({'Real data': y_test.tolist(), 'Predicted data': y_pred.tolist()})\n",
    "\n",
    "    leng=len(y_pred)\n",
    "    acc=r2_score(y_test, y_pred)*100\n",
    "    score=predt2['Real data'].mean()\n",
    "    print(acc,'\\n\\n',score)\n",
    "    \n",
    "\n",
    "\n",
    "\n"
   ]
  },
  {
   "cell_type": "code",
   "execution_count": 92,
   "id": "a2a01779",
   "metadata": {},
   "outputs": [
    {
     "name": "stdout",
     "output_type": "stream",
     "text": [
      "97.48762134241534 \n",
      "\n",
      " 0.6369333333333334\n"
     ]
    }
   ],
   "source": [
    "pred('highway')"
   ]
  },
  {
   "cell_type": "code",
   "execution_count": null,
   "id": "4a870825",
   "metadata": {},
   "outputs": [],
   "source": []
  },
  {
   "cell_type": "code",
   "execution_count": null,
   "id": "d9cfb58c",
   "metadata": {},
   "outputs": [],
   "source": []
  },
  {
   "cell_type": "code",
   "execution_count": null,
   "id": "462b43c4",
   "metadata": {},
   "outputs": [],
   "source": []
  },
  {
   "cell_type": "code",
   "execution_count": null,
   "id": "c4ed073a",
   "metadata": {},
   "outputs": [],
   "source": []
  }
 ],
 "metadata": {
  "kernelspec": {
   "display_name": "Python 3",
   "language": "python",
   "name": "python3"
  },
  "language_info": {
   "codemirror_mode": {
    "name": "ipython",
    "version": 3
   },
   "file_extension": ".py",
   "mimetype": "text/x-python",
   "name": "python",
   "nbconvert_exporter": "python",
   "pygments_lexer": "ipython3",
   "version": "3.7.3"
  }
 },
 "nbformat": 4,
 "nbformat_minor": 5
}
