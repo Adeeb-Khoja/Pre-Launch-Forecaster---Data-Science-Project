{
 "cells": [
  {
   "cell_type": "code",
   "execution_count": 1,
   "metadata": {},
   "outputs": [],
   "source": [
    "import pandas as pd\n",
    "import numpy as np\n",
    "import matplotlib.pyplot as plt\n",
    "import seaborn as sns\n",
    "import warnings\n",
    "warnings.filterwarnings(\"ignore\")\n",
    "from jupyterthemes import jtplot\n",
    "jtplot.style(theme='oceans16', context='notebook', ticks=True, grid=False)\n",
    "\n",
    "from sklearn.preprocessing import LabelEncoder \n",
    "from sklearn.cluster import KMeans"
   ]
  },
  {
   "cell_type": "code",
   "execution_count": 2,
   "metadata": {},
   "outputs": [
    {
     "data": {
      "text/html": [
       "<div>\n",
       "<style scoped>\n",
       "    .dataframe tbody tr th:only-of-type {\n",
       "        vertical-align: middle;\n",
       "    }\n",
       "\n",
       "    .dataframe tbody tr th {\n",
       "        vertical-align: top;\n",
       "    }\n",
       "\n",
       "    .dataframe thead th {\n",
       "        text-align: right;\n",
       "    }\n",
       "</style>\n",
       "<table border=\"1\" class=\"dataframe\">\n",
       "  <thead>\n",
       "    <tr style=\"text-align: right;\">\n",
       "      <th></th>\n",
       "      <th>price</th>\n",
       "      <th>enginetype</th>\n",
       "      <th>fueltype</th>\n",
       "      <th>aspiration</th>\n",
       "      <th>carbody</th>\n",
       "      <th>cylindernumber</th>\n",
       "      <th>drivewheel</th>\n",
       "      <th>wheelbase</th>\n",
       "      <th>curbweight</th>\n",
       "      <th>enginesize</th>\n",
       "      <th>boreratio</th>\n",
       "      <th>horsepower</th>\n",
       "      <th>citympg</th>\n",
       "      <th>highwaympg</th>\n",
       "      <th>carlength</th>\n",
       "      <th>carwidth</th>\n",
       "    </tr>\n",
       "  </thead>\n",
       "  <tbody>\n",
       "    <tr>\n",
       "      <th>0</th>\n",
       "      <td>13495</td>\n",
       "      <td>dohc</td>\n",
       "      <td>gas</td>\n",
       "      <td>std</td>\n",
       "      <td>convertible</td>\n",
       "      <td>four</td>\n",
       "      <td>rwd</td>\n",
       "      <td>88.6</td>\n",
       "      <td>2548</td>\n",
       "      <td>130</td>\n",
       "      <td>3.47</td>\n",
       "      <td>111</td>\n",
       "      <td>21</td>\n",
       "      <td>27</td>\n",
       "      <td>168.8</td>\n",
       "      <td>64.1</td>\n",
       "    </tr>\n",
       "    <tr>\n",
       "      <th>1</th>\n",
       "      <td>16500</td>\n",
       "      <td>dohc</td>\n",
       "      <td>gas</td>\n",
       "      <td>std</td>\n",
       "      <td>convertible</td>\n",
       "      <td>four</td>\n",
       "      <td>rwd</td>\n",
       "      <td>88.6</td>\n",
       "      <td>2548</td>\n",
       "      <td>130</td>\n",
       "      <td>3.47</td>\n",
       "      <td>111</td>\n",
       "      <td>21</td>\n",
       "      <td>27</td>\n",
       "      <td>168.8</td>\n",
       "      <td>64.1</td>\n",
       "    </tr>\n",
       "    <tr>\n",
       "      <th>2</th>\n",
       "      <td>16500</td>\n",
       "      <td>ohcv</td>\n",
       "      <td>gas</td>\n",
       "      <td>std</td>\n",
       "      <td>hatchback</td>\n",
       "      <td>six</td>\n",
       "      <td>rwd</td>\n",
       "      <td>94.5</td>\n",
       "      <td>2823</td>\n",
       "      <td>152</td>\n",
       "      <td>2.68</td>\n",
       "      <td>154</td>\n",
       "      <td>19</td>\n",
       "      <td>26</td>\n",
       "      <td>171.2</td>\n",
       "      <td>65.5</td>\n",
       "    </tr>\n",
       "    <tr>\n",
       "      <th>3</th>\n",
       "      <td>13950</td>\n",
       "      <td>ohc</td>\n",
       "      <td>gas</td>\n",
       "      <td>std</td>\n",
       "      <td>sedan</td>\n",
       "      <td>four</td>\n",
       "      <td>fwd</td>\n",
       "      <td>99.8</td>\n",
       "      <td>2337</td>\n",
       "      <td>109</td>\n",
       "      <td>3.19</td>\n",
       "      <td>102</td>\n",
       "      <td>24</td>\n",
       "      <td>30</td>\n",
       "      <td>176.6</td>\n",
       "      <td>66.2</td>\n",
       "    </tr>\n",
       "    <tr>\n",
       "      <th>4</th>\n",
       "      <td>17450</td>\n",
       "      <td>ohc</td>\n",
       "      <td>gas</td>\n",
       "      <td>std</td>\n",
       "      <td>sedan</td>\n",
       "      <td>five</td>\n",
       "      <td>4wd</td>\n",
       "      <td>99.4</td>\n",
       "      <td>2824</td>\n",
       "      <td>136</td>\n",
       "      <td>3.19</td>\n",
       "      <td>115</td>\n",
       "      <td>18</td>\n",
       "      <td>22</td>\n",
       "      <td>176.6</td>\n",
       "      <td>66.4</td>\n",
       "    </tr>\n",
       "  </tbody>\n",
       "</table>\n",
       "</div>"
      ],
      "text/plain": [
       "   price enginetype fueltype aspiration      carbody cylindernumber  \\\n",
       "0  13495       dohc      gas        std  convertible           four   \n",
       "1  16500       dohc      gas        std  convertible           four   \n",
       "2  16500       ohcv      gas        std    hatchback            six   \n",
       "3  13950        ohc      gas        std        sedan           four   \n",
       "4  17450        ohc      gas        std        sedan           five   \n",
       "\n",
       "  drivewheel  wheelbase  curbweight  enginesize  boreratio  horsepower  \\\n",
       "0        rwd       88.6        2548         130       3.47         111   \n",
       "1        rwd       88.6        2548         130       3.47         111   \n",
       "2        rwd       94.5        2823         152       2.68         154   \n",
       "3        fwd       99.8        2337         109       3.19         102   \n",
       "4        4wd       99.4        2824         136       3.19         115   \n",
       "\n",
       "   citympg  highwaympg  carlength  carwidth  \n",
       "0       21          27      168.8      64.1  \n",
       "1       21          27      168.8      64.1  \n",
       "2       19          26      171.2      65.5  \n",
       "3       24          30      176.6      66.2  \n",
       "4       18          22      176.6      66.4  "
      ]
     },
     "execution_count": 2,
     "metadata": {},
     "output_type": "execute_result"
    }
   ],
   "source": [
    "df = pd.read_csv(\"Cleaned_Features.csv\")\n",
    "df.drop(columns=['Unnamed: 0'],axis=1,inplace = True)\n",
    "df.drop(columns=['Cars_Category'],axis=1,inplace = True)\n",
    "df.head()"
   ]
  },
  {
   "cell_type": "markdown",
   "metadata": {},
   "source": [
    "### Label Encoding the Categorical Variables"
   ]
  },
  {
   "cell_type": "code",
   "execution_count": 3,
   "metadata": {},
   "outputs": [],
   "source": [
    "# Class to handle columns encoding\n",
    "class MultiColumnLabelEncoder:\n",
    "    def __init__(self,columns = None):\n",
    "        self.columns = columns # array of column names to encode\n",
    "\n",
    "    def fit(self,X,y=None):\n",
    "        return self \n",
    "\n",
    "    def transform(self,X):\n",
    "        '''\n",
    "        Transforms columns of X specified in self.columns using\n",
    "        LabelEncoder(). If no columns specified, transforms all\n",
    "        columns in X.\n",
    "        '''\n",
    "        output = X.copy()\n",
    "        ref_dic = []  # array to store refrence dictionaries for each column\n",
    "        if self.columns is not None:\n",
    "            for col in self.columns:\n",
    "                output[col] = LabelEncoder().fit_transform(output[col])\n",
    "        else:\n",
    "            for colname,col in output.iteritems():\n",
    "                output[colname] = LabelEncoder().fit_transform(col)\n",
    "        return output\n",
    "\n",
    "    def fit_transform(self,X,y=None):\n",
    "        return self.fit(X,y).transform(X)\n",
    "    \n",
    "  "
   ]
  },
  {
   "cell_type": "code",
   "execution_count": 4,
   "metadata": {},
   "outputs": [
    {
     "data": {
      "text/html": [
       "<div>\n",
       "<style scoped>\n",
       "    .dataframe tbody tr th:only-of-type {\n",
       "        vertical-align: middle;\n",
       "    }\n",
       "\n",
       "    .dataframe tbody tr th {\n",
       "        vertical-align: top;\n",
       "    }\n",
       "\n",
       "    .dataframe thead th {\n",
       "        text-align: right;\n",
       "    }\n",
       "</style>\n",
       "<table border=\"1\" class=\"dataframe\">\n",
       "  <thead>\n",
       "    <tr style=\"text-align: right;\">\n",
       "      <th></th>\n",
       "      <th>price</th>\n",
       "      <th>enginetype</th>\n",
       "      <th>fueltype</th>\n",
       "      <th>aspiration</th>\n",
       "      <th>carbody</th>\n",
       "      <th>cylindernumber</th>\n",
       "      <th>drivewheel</th>\n",
       "      <th>wheelbase</th>\n",
       "      <th>curbweight</th>\n",
       "      <th>enginesize</th>\n",
       "      <th>boreratio</th>\n",
       "      <th>horsepower</th>\n",
       "      <th>citympg</th>\n",
       "      <th>highwaympg</th>\n",
       "      <th>carlength</th>\n",
       "      <th>carwidth</th>\n",
       "    </tr>\n",
       "  </thead>\n",
       "  <tbody>\n",
       "    <tr>\n",
       "      <th>0</th>\n",
       "      <td>13495</td>\n",
       "      <td>0</td>\n",
       "      <td>1</td>\n",
       "      <td>0</td>\n",
       "      <td>0</td>\n",
       "      <td>2</td>\n",
       "      <td>2</td>\n",
       "      <td>88.6</td>\n",
       "      <td>2548</td>\n",
       "      <td>130</td>\n",
       "      <td>3.47</td>\n",
       "      <td>111</td>\n",
       "      <td>21</td>\n",
       "      <td>27</td>\n",
       "      <td>168.8</td>\n",
       "      <td>64.1</td>\n",
       "    </tr>\n",
       "    <tr>\n",
       "      <th>1</th>\n",
       "      <td>16500</td>\n",
       "      <td>0</td>\n",
       "      <td>1</td>\n",
       "      <td>0</td>\n",
       "      <td>0</td>\n",
       "      <td>2</td>\n",
       "      <td>2</td>\n",
       "      <td>88.6</td>\n",
       "      <td>2548</td>\n",
       "      <td>130</td>\n",
       "      <td>3.47</td>\n",
       "      <td>111</td>\n",
       "      <td>21</td>\n",
       "      <td>27</td>\n",
       "      <td>168.8</td>\n",
       "      <td>64.1</td>\n",
       "    </tr>\n",
       "    <tr>\n",
       "      <th>2</th>\n",
       "      <td>16500</td>\n",
       "      <td>5</td>\n",
       "      <td>1</td>\n",
       "      <td>0</td>\n",
       "      <td>2</td>\n",
       "      <td>3</td>\n",
       "      <td>2</td>\n",
       "      <td>94.5</td>\n",
       "      <td>2823</td>\n",
       "      <td>152</td>\n",
       "      <td>2.68</td>\n",
       "      <td>154</td>\n",
       "      <td>19</td>\n",
       "      <td>26</td>\n",
       "      <td>171.2</td>\n",
       "      <td>65.5</td>\n",
       "    </tr>\n",
       "    <tr>\n",
       "      <th>3</th>\n",
       "      <td>13950</td>\n",
       "      <td>3</td>\n",
       "      <td>1</td>\n",
       "      <td>0</td>\n",
       "      <td>3</td>\n",
       "      <td>2</td>\n",
       "      <td>1</td>\n",
       "      <td>99.8</td>\n",
       "      <td>2337</td>\n",
       "      <td>109</td>\n",
       "      <td>3.19</td>\n",
       "      <td>102</td>\n",
       "      <td>24</td>\n",
       "      <td>30</td>\n",
       "      <td>176.6</td>\n",
       "      <td>66.2</td>\n",
       "    </tr>\n",
       "    <tr>\n",
       "      <th>4</th>\n",
       "      <td>17450</td>\n",
       "      <td>3</td>\n",
       "      <td>1</td>\n",
       "      <td>0</td>\n",
       "      <td>3</td>\n",
       "      <td>1</td>\n",
       "      <td>0</td>\n",
       "      <td>99.4</td>\n",
       "      <td>2824</td>\n",
       "      <td>136</td>\n",
       "      <td>3.19</td>\n",
       "      <td>115</td>\n",
       "      <td>18</td>\n",
       "      <td>22</td>\n",
       "      <td>176.6</td>\n",
       "      <td>66.4</td>\n",
       "    </tr>\n",
       "  </tbody>\n",
       "</table>\n",
       "</div>"
      ],
      "text/plain": [
       "   price  enginetype  fueltype  aspiration  carbody  cylindernumber  \\\n",
       "0  13495           0         1           0        0               2   \n",
       "1  16500           0         1           0        0               2   \n",
       "2  16500           5         1           0        2               3   \n",
       "3  13950           3         1           0        3               2   \n",
       "4  17450           3         1           0        3               1   \n",
       "\n",
       "   drivewheel  wheelbase  curbweight  enginesize  boreratio  horsepower  \\\n",
       "0           2       88.6        2548         130       3.47         111   \n",
       "1           2       88.6        2548         130       3.47         111   \n",
       "2           2       94.5        2823         152       2.68         154   \n",
       "3           1       99.8        2337         109       3.19         102   \n",
       "4           0       99.4        2824         136       3.19         115   \n",
       "\n",
       "   citympg  highwaympg  carlength  carwidth  \n",
       "0       21          27      168.8      64.1  \n",
       "1       21          27      168.8      64.1  \n",
       "2       19          26      171.2      65.5  \n",
       "3       24          30      176.6      66.2  \n",
       "4       18          22      176.6      66.4  "
      ]
     },
     "execution_count": 4,
     "metadata": {},
     "output_type": "execute_result"
    }
   ],
   "source": [
    "# Encode the columns\n",
    "df_encoded =  MultiColumnLabelEncoder(columns = ['enginetype','fueltype','aspiration','carbody','cylindernumber','drivewheel']).fit_transform(df)\n",
    "df_encoded.head()"
   ]
  },
  {
   "cell_type": "code",
   "execution_count": 5,
   "metadata": {},
   "outputs": [
    {
     "name": "stdout",
     "output_type": "stream",
     "text": [
      "<class 'pandas.core.frame.DataFrame'>\n",
      "RangeIndex: 205 entries, 0 to 204\n",
      "Data columns (total 16 columns):\n",
      " #   Column          Non-Null Count  Dtype  \n",
      "---  ------          --------------  -----  \n",
      " 0   price           205 non-null    int64  \n",
      " 1   enginetype      205 non-null    int32  \n",
      " 2   fueltype        205 non-null    int32  \n",
      " 3   aspiration      205 non-null    int32  \n",
      " 4   carbody         205 non-null    int32  \n",
      " 5   cylindernumber  205 non-null    int32  \n",
      " 6   drivewheel      205 non-null    int32  \n",
      " 7   wheelbase       205 non-null    float64\n",
      " 8   curbweight      205 non-null    int64  \n",
      " 9   enginesize      205 non-null    int64  \n",
      " 10  boreratio       205 non-null    float64\n",
      " 11  horsepower      205 non-null    int64  \n",
      " 12  citympg         205 non-null    int64  \n",
      " 13  highwaympg      205 non-null    int64  \n",
      " 14  carlength       205 non-null    float64\n",
      " 15  carwidth        205 non-null    float64\n",
      "dtypes: float64(4), int32(6), int64(6)\n",
      "memory usage: 20.9 KB\n"
     ]
    }
   ],
   "source": [
    "df_encoded.info()"
   ]
  },
  {
   "cell_type": "code",
   "execution_count": 6,
   "metadata": {},
   "outputs": [
    {
     "data": {
      "text/plain": [
       "[{'dohc': 0, 'dohcv': 1, 'l': 2, 'ohc': 3, 'ohcf': 4, 'ohcv': 5, 'rotor': 6},\n",
       " {'diesel': 0, 'gas': 1},\n",
       " {'std': 0, 'turbo': 1},\n",
       " {'convertible': 0, 'hardtop': 1, 'hatchback': 2, 'sedan': 3, 'wagon': 4},\n",
       " {'eight': 0,\n",
       "  'five': 1,\n",
       "  'four': 2,\n",
       "  'six': 3,\n",
       "  'three': 4,\n",
       "  'twelve': 5,\n",
       "  'two': 6},\n",
       " {'4wd': 0, 'fwd': 1, 'rwd': 2}]"
      ]
     },
     "execution_count": 6,
     "metadata": {},
     "output_type": "execute_result"
    }
   ],
   "source": [
    "# getting the reference mapping for each column by inverse transform\n",
    "columns =  ['enginetype','fueltype','aspiration','carbody',\n",
    "                                   'cylindernumber','drivewheel']\n",
    "ref_dict = []\n",
    "for col in columns:\n",
    "    le = LabelEncoder().fit(df[col])\n",
    "    df[col] = le.transform(df[col])\n",
    "    L = list(le.inverse_transform(df[col]))\n",
    "    d = dict(zip(le.classes_, le.transform(le.classes_)))\n",
    "    ref_dict.append(d)\n",
    "\n",
    "ref_dict"
   ]
  },
  {
   "cell_type": "markdown",
   "metadata": {},
   "source": [
    "## K-Means Clustering \n",
    "We will loop from 1 to 10 clusters to find the best number using the `Elbow Method` <br>\n",
    "Elbow Method : is when the graph shows a turn on the best number of clusters "
   ]
  },
  {
   "cell_type": "code",
   "execution_count": 7,
   "metadata": {},
   "outputs": [
    {
     "data": {
      "image/png": "[encoded data removed]",
      "text/plain": [
       "<Figure size 576x504 with 1 Axes>"
      ]
     },
     "metadata": {},
     "output_type": "display_data"
    }
   ],
   "source": [
    "# get right number of cluster for K-means so we neeed to loop from 1 to 20 number of cluster and check score.\n",
    "#Elbow method is used to represnt that. \n",
    "nb_clusters = range(1, 10)\n",
    "kmeans = [KMeans(n_clusters=i) for i in nb_clusters]\n",
    "score = [kmeans[i].fit(df_encoded).score(df_encoded) for i in range(len(kmeans))]\n",
    "plt.plot(nb_clusters,score)\n",
    "plt.xlabel('Number of Clusters')\n",
    "plt.ylabel('Score')\n",
    "plt.title('Elbow Curve')\n",
    "plt.show()"
   ]
  },
  {
   "cell_type": "markdown",
   "metadata": {},
   "source": [
    "#### The Elbow Method shows that 3 is the optimal number of clusters"
   ]
  },
  {
   "cell_type": "code",
   "execution_count": 8,
   "metadata": {},
   "outputs": [],
   "source": [
    "#fitting data in Kmeans theorem.\n",
    "kmeans = KMeans(n_clusters=3, random_state=0).fit(df_encoded)\n",
    "df_encoded['cluster'] = kmeans.labels_\n",
    "df_clustered = df_encoded"
   ]
  },
  {
   "cell_type": "code",
   "execution_count": 9,
   "metadata": {},
   "outputs": [
    {
     "data": {
      "text/plain": [
       "price             124\n",
       "enginetype        124\n",
       "fueltype          124\n",
       "aspiration        124\n",
       "carbody           124\n",
       "cylindernumber    124\n",
       "drivewheel        124\n",
       "wheelbase         124\n",
       "curbweight        124\n",
       "enginesize        124\n",
       "boreratio         124\n",
       "horsepower        124\n",
       "citympg           124\n",
       "highwaympg        124\n",
       "carlength         124\n",
       "carwidth          124\n",
       "cluster           124\n",
       "dtype: int64"
      ]
     },
     "execution_count": 9,
     "metadata": {},
     "output_type": "execute_result"
    }
   ],
   "source": [
    "# To the number of cars in each cluster\n",
    "df_clustered.loc[df_clustered.cluster == 0].count()"
   ]
  },
  {
   "cell_type": "code",
   "execution_count": 10,
   "metadata": {},
   "outputs": [
    {
     "data": {
      "text/plain": [
       "price             17\n",
       "enginetype        17\n",
       "fueltype          17\n",
       "aspiration        17\n",
       "carbody           17\n",
       "cylindernumber    17\n",
       "drivewheel        17\n",
       "wheelbase         17\n",
       "curbweight        17\n",
       "enginesize        17\n",
       "boreratio         17\n",
       "horsepower        17\n",
       "citympg           17\n",
       "highwaympg        17\n",
       "carlength         17\n",
       "carwidth          17\n",
       "cluster           17\n",
       "dtype: int64"
      ]
     },
     "execution_count": 10,
     "metadata": {},
     "output_type": "execute_result"
    }
   ],
   "source": [
    "df_clustered.loc[df_clustered.cluster == 1].count()"
   ]
  },
  {
   "cell_type": "code",
   "execution_count": 11,
   "metadata": {},
   "outputs": [
    {
     "data": {
      "text/plain": [
       "price             64\n",
       "enginetype        64\n",
       "fueltype          64\n",
       "aspiration        64\n",
       "carbody           64\n",
       "cylindernumber    64\n",
       "drivewheel        64\n",
       "wheelbase         64\n",
       "curbweight        64\n",
       "enginesize        64\n",
       "boreratio         64\n",
       "horsepower        64\n",
       "citympg           64\n",
       "highwaympg        64\n",
       "carlength         64\n",
       "carwidth          64\n",
       "cluster           64\n",
       "dtype: int64"
      ]
     },
     "execution_count": 11,
     "metadata": {},
     "output_type": "execute_result"
    }
   ],
   "source": [
    "df_clustered.loc[df_clustered.cluster == 2].count()"
   ]
  },
  {
   "cell_type": "markdown",
   "metadata": {},
   "source": [
    "### Cluster 1 : 124 ,,, Cluster 2 : 17 , Cluster 3 : 64"
   ]
  },
  {
   "cell_type": "code",
   "execution_count": 12,
   "metadata": {},
   "outputs": [
    {
     "data": {
      "text/plain": [
       "<AxesSubplot:xlabel='cluster', ylabel='price'>"
      ]
     },
     "execution_count": 12,
     "metadata": {},
     "output_type": "execute_result"
    },
    {
     "data": {
      "image/png": "[encoded data removed]",
      "text/plain": [
       "<Figure size 576x504 with 1 Axes>"
      ]
     },
     "metadata": {},
     "output_type": "display_data"
    }
   ],
   "source": [
    "# visualize clusters\n",
    "sns.swarmplot(df_clustered.cluster,df_clustered.price)\n",
    "\n",
    "# 1:low price , 2: high  , 3 : medium"
   ]
  },
  {
   "cell_type": "code",
   "execution_count": 13,
   "metadata": {},
   "outputs": [
    {
     "data": {
      "text/plain": [
       "<seaborn.axisgrid.FacetGrid at 0x23e38f91448>"
      ]
     },
     "execution_count": 13,
     "metadata": {},
     "output_type": "execute_result"
    },
    {
     "data": {
      "image/png": "[encoded data removed]",
      "text/plain": [
       "<Figure size 360x360 with 1 Axes>"
      ]
     },
     "metadata": {},
     "output_type": "display_data"
    }
   ],
   "source": [
    "# enginetypes with clusters\n",
    "sns.catplot(x=\"cluster\", y=\"enginetype\",kind='boxen', data=df_clustered)"
   ]
  },
  {
   "cell_type": "code",
   "execution_count": 14,
   "metadata": {},
   "outputs": [
    {
     "data": {
      "text/plain": [
       "<AxesSubplot:xlabel='cluster', ylabel='wheelbase'>"
      ]
     },
     "execution_count": 14,
     "metadata": {},
     "output_type": "execute_result"
    },
    {
     "data": {
      "image/png": "[encoded data removed]",
      "text/plain": [
       "<Figure size 576x504 with 1 Axes>"
      ]
     },
     "metadata": {},
     "output_type": "display_data"
    }
   ],
   "source": [
    "# wheelbase in clusters\n",
    "sns.boxplot(df_clustered.cluster,df_clustered.wheelbase)\n",
    "\n",
    "# 0 : low    1: High       2: medium"
   ]
  },
  {
   "cell_type": "code",
   "execution_count": 15,
   "metadata": {},
   "outputs": [
    {
     "data": {
      "text/plain": [
       "<AxesSubplot:xlabel='cluster', ylabel='curbweight'>"
      ]
     },
     "execution_count": 15,
     "metadata": {},
     "output_type": "execute_result"
    },
    {
     "data": {
      "image/png": "[encoded data removed]",
      "text/plain": [
       "<Figure size 576x504 with 1 Axes>"
      ]
     },
     "metadata": {},
     "output_type": "display_data"
    }
   ],
   "source": [
    "# curbweight \n",
    "sns.swarmplot(df_clustered.cluster,df_clustered.curbweight)"
   ]
  },
  {
   "cell_type": "code",
   "execution_count": 16,
   "metadata": {},
   "outputs": [
    {
     "data": {
      "text/plain": [
       "<AxesSubplot:xlabel='cluster', ylabel='enginesize'>"
      ]
     },
     "execution_count": 16,
     "metadata": {},
     "output_type": "execute_result"
    },
    {
     "data": {
      "image/png": "[encoded data removed]",
      "text/plain": [
       "<Figure size 576x504 with 1 Axes>"
      ]
     },
     "metadata": {},
     "output_type": "display_data"
    }
   ],
   "source": [
    "# Engine size\n",
    "sns.boxplot(df_clustered.cluster,df_clustered.enginesize)"
   ]
  },
  {
   "cell_type": "code",
   "execution_count": 17,
   "metadata": {},
   "outputs": [
    {
     "data": {
      "text/plain": [
       "<AxesSubplot:xlabel='cluster', ylabel='horsepower'>"
      ]
     },
     "execution_count": 17,
     "metadata": {},
     "output_type": "execute_result"
    },
    {
     "data": {
      "image/png": "[encoded data removed]",
      "text/plain": [
       "<Figure size 576x504 with 1 Axes>"
      ]
     },
     "metadata": {},
     "output_type": "display_data"
    }
   ],
   "source": [
    "# Horse power\n",
    "sns.swarmplot(df_clustered.cluster,df_clustered.horsepower)"
   ]
  },
  {
   "cell_type": "code",
   "execution_count": 18,
   "metadata": {},
   "outputs": [
    {
     "data": {
      "text/plain": [
       "<AxesSubplot:xlabel='cluster', ylabel='citympg'>"
      ]
     },
     "execution_count": 18,
     "metadata": {},
     "output_type": "execute_result"
    },
    {
     "data": {
      "image/png": "[encoded data removed]",
      "text/plain": [
       "<Figure size 576x504 with 1 Axes>"
      ]
     },
     "metadata": {},
     "output_type": "display_data"
    }
   ],
   "source": [
    "# CityMPG\n",
    "sns.swarmplot(df_clustered.cluster,df_clustered.citympg)\n",
    "\n",
    "# cluster -> 0 : high , 1: low , 2: medium"
   ]
  },
  {
   "cell_type": "code",
   "execution_count": 19,
   "metadata": {},
   "outputs": [
    {
     "data": {
      "text/plain": [
       "<AxesSubplot:xlabel='cluster', ylabel='carlength'>"
      ]
     },
     "execution_count": 19,
     "metadata": {},
     "output_type": "execute_result"
    },
    {
     "data": {
      "image/png": "[encoded data removed]",
      "text/plain": [
       "<Figure size 576x504 with 1 Axes>"
      ]
     },
     "metadata": {},
     "output_type": "display_data"
    }
   ],
   "source": [
    "# Car lenght\n",
    "sns.boxplot(df_clustered.cluster,df_clustered.carlength)\n"
   ]
  },
  {
   "cell_type": "code",
   "execution_count": 20,
   "metadata": {},
   "outputs": [
    {
     "data": {
      "text/plain": [
       "<AxesSubplot:xlabel='cluster', ylabel='carwidth'>"
      ]
     },
     "execution_count": 20,
     "metadata": {},
     "output_type": "execute_result"
    },
    {
     "data": {
      "image/png": "[encoded data removed]",
      "text/plain": [
       "<Figure size 576x504 with 1 Axes>"
      ]
     },
     "metadata": {},
     "output_type": "display_data"
    }
   ],
   "source": [
    "# Carwidth\n",
    "sns.boxplot(df_clustered.cluster,df_clustered.carwidth)\n"
   ]
  },
  {
   "cell_type": "markdown",
   "metadata": {},
   "source": [
    "### Main Clusters: \n",
    "`Cluster 0 `: low price cars with low curbweight,wheelbase,horsepower and engine size but high mpg <br>\n",
    "`Cluster 1 `: High price cars with high curbweight,wheelbase,horsepower and engine size but very low mpg  <br>\n",
    "`Cluster 2 `: Medium price cars with Medium curbweight,wheelbase,horsepowe,engine size and medium mpg "
   ]
  },
  {
   "cell_type": "markdown",
   "metadata": {},
   "source": []
  },
  {
   "cell_type": "code",
   "execution_count": 21,
   "metadata": {},
   "outputs": [
    {
     "data": {
      "text/html": [
       "<div>\n",
       "<style scoped>\n",
       "    .dataframe tbody tr th:only-of-type {\n",
       "        vertical-align: middle;\n",
       "    }\n",
       "\n",
       "    .dataframe tbody tr th {\n",
       "        vertical-align: top;\n",
       "    }\n",
       "\n",
       "    .dataframe thead th {\n",
       "        text-align: right;\n",
       "    }\n",
       "</style>\n",
       "<table border=\"1\" class=\"dataframe\">\n",
       "  <thead>\n",
       "    <tr style=\"text-align: right;\">\n",
       "      <th></th>\n",
       "      <th>Unnamed: 0</th>\n",
       "      <th>Model</th>\n",
       "      <th>Make</th>\n",
       "      <th>price</th>\n",
       "      <th>Cars_Category</th>\n",
       "      <th>enginetype</th>\n",
       "      <th>fueltype</th>\n",
       "      <th>aspiration</th>\n",
       "      <th>carbody</th>\n",
       "      <th>cylindernumber</th>\n",
       "      <th>drivewheel</th>\n",
       "      <th>wheelbase</th>\n",
       "      <th>curbweight</th>\n",
       "      <th>enginesize</th>\n",
       "      <th>boreratio</th>\n",
       "      <th>horsepower</th>\n",
       "      <th>citympg</th>\n",
       "      <th>highwaympg</th>\n",
       "      <th>carlength</th>\n",
       "      <th>carwidth</th>\n",
       "    </tr>\n",
       "  </thead>\n",
       "  <tbody>\n",
       "    <tr>\n",
       "      <th>0</th>\n",
       "      <td>0</td>\n",
       "      <td>giulia</td>\n",
       "      <td>alfa-romero</td>\n",
       "      <td>13495</td>\n",
       "      <td>Medium_Range</td>\n",
       "      <td>dohc</td>\n",
       "      <td>gas</td>\n",
       "      <td>std</td>\n",
       "      <td>convertible</td>\n",
       "      <td>four</td>\n",
       "      <td>rwd</td>\n",
       "      <td>88.6</td>\n",
       "      <td>2548</td>\n",
       "      <td>130</td>\n",
       "      <td>3.47</td>\n",
       "      <td>111</td>\n",
       "      <td>21</td>\n",
       "      <td>27</td>\n",
       "      <td>168.8</td>\n",
       "      <td>64.1</td>\n",
       "    </tr>\n",
       "    <tr>\n",
       "      <th>1</th>\n",
       "      <td>1</td>\n",
       "      <td>stelvio</td>\n",
       "      <td>alfa-romero</td>\n",
       "      <td>16500</td>\n",
       "      <td>Medium_Range</td>\n",
       "      <td>dohc</td>\n",
       "      <td>gas</td>\n",
       "      <td>std</td>\n",
       "      <td>convertible</td>\n",
       "      <td>four</td>\n",
       "      <td>rwd</td>\n",
       "      <td>88.6</td>\n",
       "      <td>2548</td>\n",
       "      <td>130</td>\n",
       "      <td>3.47</td>\n",
       "      <td>111</td>\n",
       "      <td>21</td>\n",
       "      <td>27</td>\n",
       "      <td>168.8</td>\n",
       "      <td>64.1</td>\n",
       "    </tr>\n",
       "    <tr>\n",
       "      <th>2</th>\n",
       "      <td>2</td>\n",
       "      <td>Quadrifoglio</td>\n",
       "      <td>alfa-romero</td>\n",
       "      <td>16500</td>\n",
       "      <td>Medium_Range</td>\n",
       "      <td>ohcv</td>\n",
       "      <td>gas</td>\n",
       "      <td>std</td>\n",
       "      <td>hatchback</td>\n",
       "      <td>six</td>\n",
       "      <td>rwd</td>\n",
       "      <td>94.5</td>\n",
       "      <td>2823</td>\n",
       "      <td>152</td>\n",
       "      <td>2.68</td>\n",
       "      <td>154</td>\n",
       "      <td>19</td>\n",
       "      <td>26</td>\n",
       "      <td>171.2</td>\n",
       "      <td>65.5</td>\n",
       "    </tr>\n",
       "    <tr>\n",
       "      <th>3</th>\n",
       "      <td>3</td>\n",
       "      <td>100 ls</td>\n",
       "      <td>audi</td>\n",
       "      <td>13950</td>\n",
       "      <td>Medium_Range</td>\n",
       "      <td>ohc</td>\n",
       "      <td>gas</td>\n",
       "      <td>std</td>\n",
       "      <td>sedan</td>\n",
       "      <td>four</td>\n",
       "      <td>fwd</td>\n",
       "      <td>99.8</td>\n",
       "      <td>2337</td>\n",
       "      <td>109</td>\n",
       "      <td>3.19</td>\n",
       "      <td>102</td>\n",
       "      <td>24</td>\n",
       "      <td>30</td>\n",
       "      <td>176.6</td>\n",
       "      <td>66.2</td>\n",
       "    </tr>\n",
       "    <tr>\n",
       "      <th>4</th>\n",
       "      <td>4</td>\n",
       "      <td>100ls</td>\n",
       "      <td>audi</td>\n",
       "      <td>17450</td>\n",
       "      <td>Medium_Range</td>\n",
       "      <td>ohc</td>\n",
       "      <td>gas</td>\n",
       "      <td>std</td>\n",
       "      <td>sedan</td>\n",
       "      <td>five</td>\n",
       "      <td>4wd</td>\n",
       "      <td>99.4</td>\n",
       "      <td>2824</td>\n",
       "      <td>136</td>\n",
       "      <td>3.19</td>\n",
       "      <td>115</td>\n",
       "      <td>18</td>\n",
       "      <td>22</td>\n",
       "      <td>176.6</td>\n",
       "      <td>66.4</td>\n",
       "    </tr>\n",
       "    <tr>\n",
       "      <th>...</th>\n",
       "      <td>...</td>\n",
       "      <td>...</td>\n",
       "      <td>...</td>\n",
       "      <td>...</td>\n",
       "      <td>...</td>\n",
       "      <td>...</td>\n",
       "      <td>...</td>\n",
       "      <td>...</td>\n",
       "      <td>...</td>\n",
       "      <td>...</td>\n",
       "      <td>...</td>\n",
       "      <td>...</td>\n",
       "      <td>...</td>\n",
       "      <td>...</td>\n",
       "      <td>...</td>\n",
       "      <td>...</td>\n",
       "      <td>...</td>\n",
       "      <td>...</td>\n",
       "      <td>...</td>\n",
       "      <td>...</td>\n",
       "    </tr>\n",
       "    <tr>\n",
       "      <th>200</th>\n",
       "      <td>200</td>\n",
       "      <td>145e (sw)</td>\n",
       "      <td>volvo</td>\n",
       "      <td>16845</td>\n",
       "      <td>Medium_Range</td>\n",
       "      <td>ohc</td>\n",
       "      <td>gas</td>\n",
       "      <td>std</td>\n",
       "      <td>sedan</td>\n",
       "      <td>four</td>\n",
       "      <td>rwd</td>\n",
       "      <td>109.1</td>\n",
       "      <td>2952</td>\n",
       "      <td>141</td>\n",
       "      <td>3.78</td>\n",
       "      <td>114</td>\n",
       "      <td>23</td>\n",
       "      <td>28</td>\n",
       "      <td>188.8</td>\n",
       "      <td>68.9</td>\n",
       "    </tr>\n",
       "    <tr>\n",
       "      <th>201</th>\n",
       "      <td>201</td>\n",
       "      <td>144ea</td>\n",
       "      <td>volvo</td>\n",
       "      <td>19045</td>\n",
       "      <td>Medium_Range</td>\n",
       "      <td>ohc</td>\n",
       "      <td>gas</td>\n",
       "      <td>turbo</td>\n",
       "      <td>sedan</td>\n",
       "      <td>four</td>\n",
       "      <td>rwd</td>\n",
       "      <td>109.1</td>\n",
       "      <td>3049</td>\n",
       "      <td>141</td>\n",
       "      <td>3.78</td>\n",
       "      <td>160</td>\n",
       "      <td>19</td>\n",
       "      <td>25</td>\n",
       "      <td>188.8</td>\n",
       "      <td>68.8</td>\n",
       "    </tr>\n",
       "    <tr>\n",
       "      <th>202</th>\n",
       "      <td>202</td>\n",
       "      <td>244dl</td>\n",
       "      <td>volvo</td>\n",
       "      <td>21485</td>\n",
       "      <td>Medium_Range</td>\n",
       "      <td>ohcv</td>\n",
       "      <td>gas</td>\n",
       "      <td>std</td>\n",
       "      <td>sedan</td>\n",
       "      <td>six</td>\n",
       "      <td>rwd</td>\n",
       "      <td>109.1</td>\n",
       "      <td>3012</td>\n",
       "      <td>173</td>\n",
       "      <td>3.58</td>\n",
       "      <td>134</td>\n",
       "      <td>18</td>\n",
       "      <td>23</td>\n",
       "      <td>188.8</td>\n",
       "      <td>68.9</td>\n",
       "    </tr>\n",
       "    <tr>\n",
       "      <th>203</th>\n",
       "      <td>203</td>\n",
       "      <td>246</td>\n",
       "      <td>volvo</td>\n",
       "      <td>22470</td>\n",
       "      <td>Medium_Range</td>\n",
       "      <td>ohc</td>\n",
       "      <td>diesel</td>\n",
       "      <td>turbo</td>\n",
       "      <td>sedan</td>\n",
       "      <td>six</td>\n",
       "      <td>rwd</td>\n",
       "      <td>109.1</td>\n",
       "      <td>3217</td>\n",
       "      <td>145</td>\n",
       "      <td>3.01</td>\n",
       "      <td>106</td>\n",
       "      <td>26</td>\n",
       "      <td>27</td>\n",
       "      <td>188.8</td>\n",
       "      <td>68.9</td>\n",
       "    </tr>\n",
       "    <tr>\n",
       "      <th>204</th>\n",
       "      <td>204</td>\n",
       "      <td>264gl</td>\n",
       "      <td>volvo</td>\n",
       "      <td>22625</td>\n",
       "      <td>Medium_Range</td>\n",
       "      <td>ohc</td>\n",
       "      <td>gas</td>\n",
       "      <td>turbo</td>\n",
       "      <td>sedan</td>\n",
       "      <td>four</td>\n",
       "      <td>rwd</td>\n",
       "      <td>109.1</td>\n",
       "      <td>3062</td>\n",
       "      <td>141</td>\n",
       "      <td>3.78</td>\n",
       "      <td>114</td>\n",
       "      <td>19</td>\n",
       "      <td>25</td>\n",
       "      <td>188.8</td>\n",
       "      <td>68.9</td>\n",
       "    </tr>\n",
       "  </tbody>\n",
       "</table>\n",
       "<p>205 rows × 20 columns</p>\n",
       "</div>"
      ],
      "text/plain": [
       "     Unnamed: 0         Model         Make  price Cars_Category enginetype  \\\n",
       "0             0        giulia  alfa-romero  13495  Medium_Range       dohc   \n",
       "1             1       stelvio  alfa-romero  16500  Medium_Range       dohc   \n",
       "2             2  Quadrifoglio  alfa-romero  16500  Medium_Range       ohcv   \n",
       "3             3        100 ls         audi  13950  Medium_Range        ohc   \n",
       "4             4         100ls         audi  17450  Medium_Range        ohc   \n",
       "..          ...           ...          ...    ...           ...        ...   \n",
       "200         200     145e (sw)        volvo  16845  Medium_Range        ohc   \n",
       "201         201         144ea        volvo  19045  Medium_Range        ohc   \n",
       "202         202         244dl        volvo  21485  Medium_Range       ohcv   \n",
       "203         203           246        volvo  22470  Medium_Range        ohc   \n",
       "204         204         264gl        volvo  22625  Medium_Range        ohc   \n",
       "\n",
       "    fueltype aspiration      carbody cylindernumber drivewheel  wheelbase  \\\n",
       "0        gas        std  convertible           four        rwd       88.6   \n",
       "1        gas        std  convertible           four        rwd       88.6   \n",
       "2        gas        std    hatchback            six        rwd       94.5   \n",
       "3        gas        std        sedan           four        fwd       99.8   \n",
       "4        gas        std        sedan           five        4wd       99.4   \n",
       "..       ...        ...          ...            ...        ...        ...   \n",
       "200      gas        std        sedan           four        rwd      109.1   \n",
       "201      gas      turbo        sedan           four        rwd      109.1   \n",
       "202      gas        std        sedan            six        rwd      109.1   \n",
       "203   diesel      turbo        sedan            six        rwd      109.1   \n",
       "204      gas      turbo        sedan           four        rwd      109.1   \n",
       "\n",
       "     curbweight  enginesize  boreratio  horsepower  citympg  highwaympg  \\\n",
       "0          2548         130       3.47         111       21          27   \n",
       "1          2548         130       3.47         111       21          27   \n",
       "2          2823         152       2.68         154       19          26   \n",
       "3          2337         109       3.19         102       24          30   \n",
       "4          2824         136       3.19         115       18          22   \n",
       "..          ...         ...        ...         ...      ...         ...   \n",
       "200        2952         141       3.78         114       23          28   \n",
       "201        3049         141       3.78         160       19          25   \n",
       "202        3012         173       3.58         134       18          23   \n",
       "203        3217         145       3.01         106       26          27   \n",
       "204        3062         141       3.78         114       19          25   \n",
       "\n",
       "     carlength  carwidth  \n",
       "0        168.8      64.1  \n",
       "1        168.8      64.1  \n",
       "2        171.2      65.5  \n",
       "3        176.6      66.2  \n",
       "4        176.6      66.4  \n",
       "..         ...       ...  \n",
       "200      188.8      68.9  \n",
       "201      188.8      68.8  \n",
       "202      188.8      68.9  \n",
       "203      188.8      68.9  \n",
       "204      188.8      68.9  \n",
       "\n",
       "[205 rows x 20 columns]"
      ]
     },
     "execution_count": 21,
     "metadata": {},
     "output_type": "execute_result"
    }
   ],
   "source": [
    "df_models = pd.read_csv('Cleaned_fearures_withNames.csv')\n",
    "df_models"
   ]
  },
  {
   "cell_type": "code",
   "execution_count": 25,
   "metadata": {},
   "outputs": [],
   "source": [
    "df_clustered.to_csv('Main Clustered Data.csv',index=False)"
   ]
  },
  {
   "cell_type": "code",
   "execution_count": 24,
   "metadata": {},
   "outputs": [],
   "source": [
    "df = df_models.join(df_clustered['cluster'])\n",
    "df = df[['Model','Make','cluster']]\n",
    "df.to_csv('Clustered Cars.csv')"
   ]
  },
  {
   "cell_type": "code",
   "execution_count": null,
   "metadata": {},
   "outputs": [],
   "source": []
  }
 ],
 "metadata": {
  "kernelspec": {
   "display_name": "Python 3",
   "language": "python",
   "name": "python3"
  },
  "language_info": {
   "codemirror_mode": {
    "name": "ipython",
    "version": 3
   },
   "file_extension": ".py",
   "mimetype": "text/x-python",
   "name": "python",
   "nbconvert_exporter": "python",
   "pygments_lexer": "ipython3",
   "version": "3.7.4"
  }
 },
 "nbformat": 4,
 "nbformat_minor": 2
}
