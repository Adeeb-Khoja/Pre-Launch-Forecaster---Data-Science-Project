{
 "cells": [
  {
   "cell_type": "code",
   "execution_count": 36,
   "id": "74cc5bb5",
   "metadata": {},
   "outputs": [],
   "source": [
    "import pandas as pd\n",
    "import sys\n",
    "import matplotlib.pyplot as plt\n",
    "import numpy as np\n",
    "from jupyterthemes import jtplot\n",
    "jtplot.style(theme='oceans16', context='notebook', ticks=True, grid=False)"
   ]
  },
  {
   "cell_type": "code",
   "execution_count": 42,
   "id": "f2921f9e",
   "metadata": {},
   "outputs": [
    {
     "data": {
      "text/html": [
       "<div>\n",
       "<style scoped>\n",
       "    .dataframe tbody tr th:only-of-type {\n",
       "        vertical-align: middle;\n",
       "    }\n",
       "\n",
       "    .dataframe tbody tr th {\n",
       "        vertical-align: top;\n",
       "    }\n",
       "\n",
       "    .dataframe thead th {\n",
       "        text-align: right;\n",
       "    }\n",
       "</style>\n",
       "<table border=\"1\" class=\"dataframe\">\n",
       "  <thead>\n",
       "    <tr style=\"text-align: right;\">\n",
       "      <th></th>\n",
       "      <th>Model</th>\n",
       "      <th>Make</th>\n",
       "      <th>cluster</th>\n",
       "    </tr>\n",
       "  </thead>\n",
       "  <tbody>\n",
       "    <tr>\n",
       "      <th>0</th>\n",
       "      <td>giulia</td>\n",
       "      <td>alfa-romero</td>\n",
       "      <td>2</td>\n",
       "    </tr>\n",
       "    <tr>\n",
       "      <th>1</th>\n",
       "      <td>stelvio</td>\n",
       "      <td>alfa-romero</td>\n",
       "      <td>2</td>\n",
       "    </tr>\n",
       "    <tr>\n",
       "      <th>2</th>\n",
       "      <td>Quadrifoglio</td>\n",
       "      <td>alfa-romero</td>\n",
       "      <td>2</td>\n",
       "    </tr>\n",
       "    <tr>\n",
       "      <th>3</th>\n",
       "      <td>100 ls</td>\n",
       "      <td>audi</td>\n",
       "      <td>2</td>\n",
       "    </tr>\n",
       "    <tr>\n",
       "      <th>4</th>\n",
       "      <td>100ls</td>\n",
       "      <td>audi</td>\n",
       "      <td>2</td>\n",
       "    </tr>\n",
       "    <tr>\n",
       "      <th>...</th>\n",
       "      <td>...</td>\n",
       "      <td>...</td>\n",
       "      <td>...</td>\n",
       "    </tr>\n",
       "    <tr>\n",
       "      <th>200</th>\n",
       "      <td>145e (sw)</td>\n",
       "      <td>volvo</td>\n",
       "      <td>2</td>\n",
       "    </tr>\n",
       "    <tr>\n",
       "      <th>201</th>\n",
       "      <td>144ea</td>\n",
       "      <td>volvo</td>\n",
       "      <td>2</td>\n",
       "    </tr>\n",
       "    <tr>\n",
       "      <th>202</th>\n",
       "      <td>244dl</td>\n",
       "      <td>volvo</td>\n",
       "      <td>2</td>\n",
       "    </tr>\n",
       "    <tr>\n",
       "      <th>203</th>\n",
       "      <td>246</td>\n",
       "      <td>volvo</td>\n",
       "      <td>2</td>\n",
       "    </tr>\n",
       "    <tr>\n",
       "      <th>204</th>\n",
       "      <td>264gl</td>\n",
       "      <td>volvo</td>\n",
       "      <td>2</td>\n",
       "    </tr>\n",
       "  </tbody>\n",
       "</table>\n",
       "<p>205 rows × 3 columns</p>\n",
       "</div>"
      ],
      "text/plain": [
       "            Model         Make  cluster\n",
       "0          giulia  alfa-romero        2\n",
       "1         stelvio  alfa-romero        2\n",
       "2    Quadrifoglio  alfa-romero        2\n",
       "3          100 ls         audi        2\n",
       "4           100ls         audi        2\n",
       "..            ...          ...      ...\n",
       "200     145e (sw)        volvo        2\n",
       "201         144ea        volvo        2\n",
       "202         244dl        volvo        2\n",
       "203           246        volvo        2\n",
       "204         264gl        volvo        2\n",
       "\n",
       "[205 rows x 3 columns]"
      ]
     },
     "execution_count": 42,
     "metadata": {},
     "output_type": "execute_result"
    }
   ],
   "source": [
    "clusters = pd.read_csv('Clustered Cars.csv')\n",
    "clusters.drop(clusters.columns[0],inplace=True,axis=1)\n",
    "clusters"
   ]
  },
  {
   "cell_type": "markdown",
   "id": "647825af",
   "metadata": {},
   "source": [
    "## Scenario\n",
    "Assuming that the new car is Honda Accord, we need to estimate its demand using the Bass Model for the next few years."
   ]
  },
  {
   "cell_type": "code",
   "execution_count": 43,
   "id": "9196945b",
   "metadata": {},
   "outputs": [
    {
     "data": {
      "text/html": [
       "<div>\n",
       "<style scoped>\n",
       "    .dataframe tbody tr th:only-of-type {\n",
       "        vertical-align: middle;\n",
       "    }\n",
       "\n",
       "    .dataframe tbody tr th {\n",
       "        vertical-align: top;\n",
       "    }\n",
       "\n",
       "    .dataframe thead th {\n",
       "        text-align: right;\n",
       "    }\n",
       "</style>\n",
       "<table border=\"1\" class=\"dataframe\">\n",
       "  <thead>\n",
       "    <tr style=\"text-align: right;\">\n",
       "      <th></th>\n",
       "      <th>Model</th>\n",
       "      <th>Make</th>\n",
       "      <th>cluster</th>\n",
       "    </tr>\n",
       "  </thead>\n",
       "  <tbody>\n",
       "    <tr>\n",
       "      <th>18</th>\n",
       "      <td>impala</td>\n",
       "      <td>chevrolet</td>\n",
       "      <td>0</td>\n",
       "    </tr>\n",
       "    <tr>\n",
       "      <th>19</th>\n",
       "      <td>monte carlo</td>\n",
       "      <td>chevrolet</td>\n",
       "      <td>0</td>\n",
       "    </tr>\n",
       "    <tr>\n",
       "      <th>20</th>\n",
       "      <td>vega 2300</td>\n",
       "      <td>chevrolet</td>\n",
       "      <td>0</td>\n",
       "    </tr>\n",
       "    <tr>\n",
       "      <th>21</th>\n",
       "      <td>rampage</td>\n",
       "      <td>dodge</td>\n",
       "      <td>0</td>\n",
       "    </tr>\n",
       "    <tr>\n",
       "      <th>22</th>\n",
       "      <td>challenger se</td>\n",
       "      <td>dodge</td>\n",
       "      <td>0</td>\n",
       "    </tr>\n",
       "    <tr>\n",
       "      <th>...</th>\n",
       "      <td>...</td>\n",
       "      <td>...</td>\n",
       "      <td>...</td>\n",
       "    </tr>\n",
       "    <tr>\n",
       "      <th>187</th>\n",
       "      <td>super beetle</td>\n",
       "      <td>volkswagen</td>\n",
       "      <td>0</td>\n",
       "    </tr>\n",
       "    <tr>\n",
       "      <th>188</th>\n",
       "      <td>dasher</td>\n",
       "      <td>volkswagen</td>\n",
       "      <td>0</td>\n",
       "    </tr>\n",
       "    <tr>\n",
       "      <th>189</th>\n",
       "      <td>dasher</td>\n",
       "      <td>volkswagen</td>\n",
       "      <td>0</td>\n",
       "    </tr>\n",
       "    <tr>\n",
       "      <th>190</th>\n",
       "      <td>rabbit</td>\n",
       "      <td>volkswagen</td>\n",
       "      <td>0</td>\n",
       "    </tr>\n",
       "    <tr>\n",
       "      <th>193</th>\n",
       "      <td>dasher</td>\n",
       "      <td>volkswagen</td>\n",
       "      <td>0</td>\n",
       "    </tr>\n",
       "  </tbody>\n",
       "</table>\n",
       "<p>124 rows × 3 columns</p>\n",
       "</div>"
      ],
      "text/plain": [
       "             Model        Make  cluster\n",
       "18          impala   chevrolet        0\n",
       "19     monte carlo   chevrolet        0\n",
       "20       vega 2300   chevrolet        0\n",
       "21         rampage       dodge        0\n",
       "22   challenger se       dodge        0\n",
       "..             ...         ...      ...\n",
       "187   super beetle  volkswagen        0\n",
       "188         dasher  volkswagen        0\n",
       "189         dasher  volkswagen        0\n",
       "190         rabbit  volkswagen        0\n",
       "193         dasher  volkswagen        0\n",
       "\n",
       "[124 rows x 3 columns]"
      ]
     },
     "execution_count": 43,
     "metadata": {},
     "output_type": "execute_result"
    }
   ],
   "source": [
    "# After clustering the Accord car, we get the similar cars from the same cluser.\n",
    "same_cluster = clusters.loc[clusters['cluster']==0]\n",
    "same_cluster\n",
    "# we have 124 cars in the same cluster, lets choose one in this cluster and the same manufacturer"
   ]
  },
  {
   "cell_type": "code",
   "execution_count": 46,
   "id": "86199cdb",
   "metadata": {},
   "outputs": [
    {
     "name": "stdout",
     "output_type": "stream",
     "text": [
      "            Model   Make  cluster\n",
      "30          civic  honda        0\n",
      "31     civic cvcc  honda        0\n",
      "32          civic  honda        0\n",
      "33    accord cvcc  honda        0\n",
      "34     civic cvcc  honda        0\n",
      "35      accord lx  honda        0\n",
      "36  civic 1500 gl  honda        0\n",
      "37         accord  honda        0\n",
      "38     civic 1300  honda        0\n",
      "39        prelude  honda        0\n",
      "40         accord  honda        0\n",
      "42   civic (auto)  honda        0\n",
      "(12, 3)\n"
     ]
    }
   ],
   "source": [
    "# get the cars in same cluster and manufacturer\n",
    "same_man_clust = same_cluster.loc[same_cluster['Make']=='honda']\n",
    "print(same_man_clust)\n",
    "print(same_man_clust.shape)\n",
    "# we have 9 cars excluding the accord models\n",
    "# lets choose the honda civic to study the coefficients of innovation and imitation to be able to use them for the Accord model"
   ]
  },
  {
   "cell_type": "code",
   "execution_count": 56,
   "id": "4fd01fd8",
   "metadata": {},
   "outputs": [
    {
     "data": {
      "text/html": [
       "<div>\n",
       "<style scoped>\n",
       "    .dataframe tbody tr th:only-of-type {\n",
       "        vertical-align: middle;\n",
       "    }\n",
       "\n",
       "    .dataframe tbody tr th {\n",
       "        vertical-align: top;\n",
       "    }\n",
       "\n",
       "    .dataframe thead th {\n",
       "        text-align: right;\n",
       "    }\n",
       "</style>\n",
       "<table border=\"1\" class=\"dataframe\">\n",
       "  <thead>\n",
       "    <tr style=\"text-align: right;\">\n",
       "      <th></th>\n",
       "      <th>Year</th>\n",
       "      <th>sold</th>\n",
       "    </tr>\n",
       "  </thead>\n",
       "  <tbody>\n",
       "    <tr>\n",
       "      <th>0</th>\n",
       "      <td>2005.0</td>\n",
       "      <td>308415.0</td>\n",
       "    </tr>\n",
       "    <tr>\n",
       "      <th>1</th>\n",
       "      <td>2006.0</td>\n",
       "      <td>316638.0</td>\n",
       "    </tr>\n",
       "    <tr>\n",
       "      <th>2</th>\n",
       "      <td>2007.0</td>\n",
       "      <td>331095.0</td>\n",
       "    </tr>\n",
       "    <tr>\n",
       "      <th>3</th>\n",
       "      <td>2008.0</td>\n",
       "      <td>335126.0</td>\n",
       "    </tr>\n",
       "    <tr>\n",
       "      <th>4</th>\n",
       "      <td>2009.0</td>\n",
       "      <td>259722.0</td>\n",
       "    </tr>\n",
       "    <tr>\n",
       "      <th>5</th>\n",
       "      <td>2010.0</td>\n",
       "      <td>260218.0</td>\n",
       "    </tr>\n",
       "    <tr>\n",
       "      <th>6</th>\n",
       "      <td>2011.0</td>\n",
       "      <td>221235.0</td>\n",
       "    </tr>\n",
       "    <tr>\n",
       "      <th>7</th>\n",
       "      <td>2012.0</td>\n",
       "      <td>344996.0</td>\n",
       "    </tr>\n",
       "    <tr>\n",
       "      <th>8</th>\n",
       "      <td>2013.0</td>\n",
       "      <td>336181.0</td>\n",
       "    </tr>\n",
       "    <tr>\n",
       "      <th>9</th>\n",
       "      <td>2014.0</td>\n",
       "      <td>326081.0</td>\n",
       "    </tr>\n",
       "    <tr>\n",
       "      <th>10</th>\n",
       "      <td>2015.0</td>\n",
       "      <td>335384.0</td>\n",
       "    </tr>\n",
       "    <tr>\n",
       "      <th>11</th>\n",
       "      <td>2016.0</td>\n",
       "      <td>366927.0</td>\n",
       "    </tr>\n",
       "    <tr>\n",
       "      <th>12</th>\n",
       "      <td>2017.0</td>\n",
       "      <td>377286.0</td>\n",
       "    </tr>\n",
       "    <tr>\n",
       "      <th>13</th>\n",
       "      <td>2018.0</td>\n",
       "      <td>325760.0</td>\n",
       "    </tr>\n",
       "    <tr>\n",
       "      <th>14</th>\n",
       "      <td>2019.0</td>\n",
       "      <td>325650.0</td>\n",
       "    </tr>\n",
       "    <tr>\n",
       "      <th>15</th>\n",
       "      <td>2020.0</td>\n",
       "      <td>261225.0</td>\n",
       "    </tr>\n",
       "  </tbody>\n",
       "</table>\n",
       "</div>"
      ],
      "text/plain": [
       "      Year      sold\n",
       "0   2005.0  308415.0\n",
       "1   2006.0  316638.0\n",
       "2   2007.0  331095.0\n",
       "3   2008.0  335126.0\n",
       "4   2009.0  259722.0\n",
       "5   2010.0  260218.0\n",
       "6   2011.0  221235.0\n",
       "7   2012.0  344996.0\n",
       "8   2013.0  336181.0\n",
       "9   2014.0  326081.0\n",
       "10  2015.0  335384.0\n",
       "11  2016.0  366927.0\n",
       "12  2017.0  377286.0\n",
       "13  2018.0  325760.0\n",
       "14  2019.0  325650.0\n",
       "15  2020.0  261225.0"
      ]
     },
     "execution_count": 56,
     "metadata": {},
     "output_type": "execute_result"
    }
   ],
   "source": [
    "# import the sales data of Civic Model.\n",
    "civic_sales = pd.read_csv('Civic Sales Data.csv',thousands=',')\n",
    "civic_sales = civic_sales[:-1]\n",
    "civic_sales"
   ]
  },
  {
   "cell_type": "code",
   "execution_count": 57,
   "id": "6162abfc",
   "metadata": {},
   "outputs": [
    {
     "name": "stdout",
     "output_type": "stream",
     "text": [
      "<class 'pandas.core.frame.DataFrame'>\n",
      "RangeIndex: 16 entries, 0 to 15\n",
      "Data columns (total 2 columns):\n",
      " #   Column  Non-Null Count  Dtype  \n",
      "---  ------  --------------  -----  \n",
      " 0   Year    16 non-null     float64\n",
      " 1   sold    16 non-null     float64\n",
      "dtypes: float64(2)\n",
      "memory usage: 384.0 bytes\n"
     ]
    }
   ],
   "source": [
    "# sales data is numeric\n",
    "civic_sales.info()"
   ]
  },
  {
   "cell_type": "markdown",
   "id": "4e552ccf",
   "metadata": {},
   "source": [
    "## Calibration\n",
    "To determine the coefficeints of innovation `p` and imitation `q` of the target car (Accord) in this scenario <br>\n",
    "We need to get the p and q from the similar product (Civic) in this case <br>\n",
    "The Diffusion model formula is using a linear regression on the sales data to get regression coefficients <br>\n",
    "then we use them to calculate p and q"
   ]
  },
  {
   "cell_type": "code",
   "execution_count": 102,
   "id": "8b41f6d1",
   "metadata": {},
   "outputs": [
    {
     "data": {
      "text/html": [
       "<div>\n",
       "<style scoped>\n",
       "    .dataframe tbody tr th:only-of-type {\n",
       "        vertical-align: middle;\n",
       "    }\n",
       "\n",
       "    .dataframe tbody tr th {\n",
       "        vertical-align: top;\n",
       "    }\n",
       "\n",
       "    .dataframe thead th {\n",
       "        text-align: right;\n",
       "    }\n",
       "</style>\n",
       "<table border=\"1\" class=\"dataframe\">\n",
       "  <thead>\n",
       "    <tr style=\"text-align: right;\">\n",
       "      <th></th>\n",
       "      <th>Cumulative Sales</th>\n",
       "      <th>Cumulative Squared</th>\n",
       "    </tr>\n",
       "  </thead>\n",
       "  <tbody>\n",
       "    <tr>\n",
       "      <th>0</th>\n",
       "      <td>0.308415</td>\n",
       "      <td>0.095120</td>\n",
       "    </tr>\n",
       "    <tr>\n",
       "      <th>1</th>\n",
       "      <td>0.625053</td>\n",
       "      <td>0.390691</td>\n",
       "    </tr>\n",
       "    <tr>\n",
       "      <th>2</th>\n",
       "      <td>0.956148</td>\n",
       "      <td>0.914219</td>\n",
       "    </tr>\n",
       "    <tr>\n",
       "      <th>3</th>\n",
       "      <td>1.291274</td>\n",
       "      <td>1.667389</td>\n",
       "    </tr>\n",
       "    <tr>\n",
       "      <th>4</th>\n",
       "      <td>1.550996</td>\n",
       "      <td>2.405589</td>\n",
       "    </tr>\n",
       "    <tr>\n",
       "      <th>5</th>\n",
       "      <td>1.811214</td>\n",
       "      <td>3.280496</td>\n",
       "    </tr>\n",
       "    <tr>\n",
       "      <th>6</th>\n",
       "      <td>2.032449</td>\n",
       "      <td>4.130849</td>\n",
       "    </tr>\n",
       "    <tr>\n",
       "      <th>7</th>\n",
       "      <td>2.377445</td>\n",
       "      <td>5.652245</td>\n",
       "    </tr>\n",
       "    <tr>\n",
       "      <th>8</th>\n",
       "      <td>2.713626</td>\n",
       "      <td>7.363766</td>\n",
       "    </tr>\n",
       "    <tr>\n",
       "      <th>9</th>\n",
       "      <td>3.039707</td>\n",
       "      <td>9.239819</td>\n",
       "    </tr>\n",
       "    <tr>\n",
       "      <th>10</th>\n",
       "      <td>3.375091</td>\n",
       "      <td>11.391239</td>\n",
       "    </tr>\n",
       "    <tr>\n",
       "      <th>11</th>\n",
       "      <td>3.742018</td>\n",
       "      <td>14.002699</td>\n",
       "    </tr>\n",
       "    <tr>\n",
       "      <th>12</th>\n",
       "      <td>4.119304</td>\n",
       "      <td>16.968665</td>\n",
       "    </tr>\n",
       "    <tr>\n",
       "      <th>13</th>\n",
       "      <td>4.445064</td>\n",
       "      <td>19.758594</td>\n",
       "    </tr>\n",
       "    <tr>\n",
       "      <th>14</th>\n",
       "      <td>4.770714</td>\n",
       "      <td>22.759712</td>\n",
       "    </tr>\n",
       "    <tr>\n",
       "      <th>15</th>\n",
       "      <td>5.031939</td>\n",
       "      <td>25.320410</td>\n",
       "    </tr>\n",
       "  </tbody>\n",
       "</table>\n",
       "</div>"
      ],
      "text/plain": [
       "    Cumulative Sales  Cumulative Squared\n",
       "0           0.308415            0.095120\n",
       "1           0.625053            0.390691\n",
       "2           0.956148            0.914219\n",
       "3           1.291274            1.667389\n",
       "4           1.550996            2.405589\n",
       "5           1.811214            3.280496\n",
       "6           2.032449            4.130849\n",
       "7           2.377445            5.652245\n",
       "8           2.713626            7.363766\n",
       "9           3.039707            9.239819\n",
       "10          3.375091           11.391239\n",
       "11          3.742018           14.002699\n",
       "12          4.119304           16.968665\n",
       "13          4.445064           19.758594\n",
       "14          4.770714           22.759712\n",
       "15          5.031939           25.320410"
      ]
     },
     "execution_count": 102,
     "metadata": {},
     "output_type": "execute_result"
    }
   ],
   "source": [
    "# get the cumulitave sales of Civic model\n",
    "sales = civic_sales[['sold']]/1000000\n",
    "cumsum_sales = np.cumsum(sales)\n",
    "cumsum_sales2 = cumsum_sales**2\n",
    "cumsum_sales2\n",
    "variables_df = pd.DataFrame({\n",
    "                                'Cumulative Sales': cumsum_sales['sold'].values,\n",
    "                                'Cumulative Squared': cumsum_sales2['sold'].values})\n",
    "variables_df"
   ]
  },
  {
   "attachments": {
    "image.png": {
     "image/png": "[encoded data removed]"
    }
   },
   "cell_type": "markdown",
   "id": "3b661504",
   "metadata": {},
   "source": [
    "![image.png](attachment:image.png)\n",
    "The Equation of multiple regression to get B0 B1 B2"
   ]
  },
  {
   "cell_type": "code",
   "execution_count": 103,
   "id": "712dd700",
   "metadata": {},
   "outputs": [
    {
     "name": "stdout",
     "output_type": "stream",
     "text": [
      "Intercept: \n",
      " [0.29007497]\n",
      "Coefficients: \n",
      " [[ 0.01542379 -0.00178887]]\n"
     ]
    }
   ],
   "source": [
    "# Perform multiple regression on cumulative sales and squared one\n",
    "from sklearn import linear_model\n",
    "regr = linear_model.LinearRegression()\n",
    "regr.fit(variables_df, sales)\n",
    "\n",
    "print('Intercept: \\n', regr.intercept_)\n",
    "print('Coefficients: \\n', regr.coef_)\n",
    "b0 = regr.intercept_[0]\n",
    "b1 = regr.coef_[0][0]\n",
    "b2 = regr.coef_[0][1]"
   ]
  },
  {
   "cell_type": "code",
   "execution_count": 104,
   "id": "6d93f8f0",
   "metadata": {},
   "outputs": [
    {
     "name": "stdout",
     "output_type": "stream",
     "text": [
      "0.29007497211198574 0.015423789584211057 -0.0017888716074353132\n"
     ]
    }
   ],
   "source": [
    "print(b0,b1,b2)"
   ]
  },
  {
   "attachments": {
    "image-2.png": {
     "image/png": "[encoded data removed]"
    },
    "image.png": {
     "image/png": "[encoded data removed]"
    }
   },
   "cell_type": "markdown",
   "id": "d5e16765",
   "metadata": {},
   "source": [
    "![image.png](attachment:image.png)\n",
    "Then we get `M` using the formula \n",
    "![image-2.png](attachment:image-2.png)\n",
    "Finally we calculate `p` and `q`"
   ]
  },
  {
   "cell_type": "code",
   "execution_count": 105,
   "id": "161ab463",
   "metadata": {},
   "outputs": [
    {
     "name": "stdout",
     "output_type": "stream",
     "text": [
      "1.0592495156612918 -2.0592495156612918\n"
     ]
    }
   ],
   "source": [
    "import math \n",
    "m1 = (-b1+math.sqrt((b1**2)-4*b0*b2))/(2*b1)\n",
    "m2 = (-b1-math.sqrt((b1**2)-4*b0*b2))/(2*b1)\n",
    "print(m1,m2)"
   ]
  },
  {
   "cell_type": "code",
   "execution_count": 124,
   "id": "8bf17fa7",
   "metadata": {},
   "outputs": [
    {
     "name": "stdout",
     "output_type": "stream",
     "text": [
      "0.2738495206494301 0.001894861383756092\n"
     ]
    }
   ],
   "source": [
    "# we choose m1 since it is the largest\n",
    "# Calculate p and q\n",
    "\n",
    "m = max(m1,m2)\n",
    "p = b0/m\n",
    "q = -m*b2\n",
    "print(p, q)"
   ]
  },
  {
   "cell_type": "code",
   "execution_count": null,
   "id": "61d2402b",
   "metadata": {},
   "outputs": [],
   "source": []
  },
  {
   "cell_type": "code",
   "execution_count": null,
   "id": "e3b63f57",
   "metadata": {},
   "outputs": [],
   "source": []
  },
  {
   "cell_type": "code",
   "execution_count": null,
   "id": "d0139d31",
   "metadata": {},
   "outputs": [],
   "source": []
  },
  {
   "cell_type": "code",
   "execution_count": 121,
   "id": "d4d74a12",
   "metadata": {},
   "outputs": [],
   "source": [
    "# Bass Diffusion Model Function\n",
    "def get_bass_model(p, q, M, period):\n",
    "\n",
    "    # Initializing the arrays\n",
    "    A = [0] * period          # cumulitave customers adopted the product in the previous peroid t-1\n",
    "    R = [0] * period          # number of customers who have the potential of adoption in t\n",
    "    F = [0] * period          # cumulative intensity of adoption F(t)\n",
    "    N = [0] * period          # number of new adopters in t\n",
    "\n",
    "    A[0] = 0\n",
    "    R[0] = M\n",
    "    F[0] = p\n",
    "    N[0] = M*p\n",
    "\n",
    "    # Recursion starts from next time step\n",
    "    t = 1\n",
    "\n",
    "    # Creating a helper function for recursion\n",
    "    def get_bass_model_helper(A, R, F, N, t):\n",
    "\n",
    "        # If we have reached the final period, return the values\n",
    "        if t == period:\n",
    "            return N, F, R, A\n",
    "        else:\n",
    "\n",
    "            # Else, just compute the values for t\n",
    "            A[t] = N[t-1] + A[t-1]\n",
    "            R[t] = M - A[t]\n",
    "            F[t] = p + q * A[t]/M\n",
    "            N[t] = F[t] * R[t]\n",
    "\n",
    "            # compute values for the next time step\n",
    "            return get_bass_model_helper(A, R, F, N, t+1)\n",
    "\n",
    "    N, F, R, A = get_bass_model_helper(A, R, F, N, t)\n",
    "\n",
    "    # Converting to numpy arrays and returning.\n",
    "    return np.array(N), np.array(A)"
   ]
  },
  {
   "cell_type": "code",
   "execution_count": 125,
   "id": "2a3a52a7",
   "metadata": {},
   "outputs": [
    {
     "name": "stdout",
     "output_type": "stream",
     "text": [
      "[0.29007497 0.21103721 0.15334597 0.11132583 0.08076741 0.05856938\n",
      " 0.04245764 0.03077037 0.02229621 0.01615372 0.01170234 0.00847702\n",
      " 0.00614033 0.00444759 0.00322142]\n",
      "[0.         0.29007497 0.50111218 0.65445815 0.76578398 0.84655139\n",
      " 0.90512077 0.94757841 0.97834878 1.000645   1.01679872 1.02850107\n",
      " 1.03697809 1.04311842 1.04756601]\n"
     ]
    },
    {
     "data": {
      "image/png": "[encoded data removed]",
      "text/plain": [
       "<Figure size 576x504 with 1 Axes>"
      ]
     },
     "metadata": {},
     "output_type": "display_data"
    }
   ],
   "source": [
    "\n",
    "fig = plt.figure()\n",
    "ax = plt.gca()\n",
    "\n",
    "# Passing in the arguments from command line\n",
    "p = p\n",
    "q = q\n",
    "M = m\n",
    "period = 15\n",
    "\n",
    "# Getting the bass model\n",
    "N, A = get_bass_model(p, q, M = M, period=period)\n",
    "print(N)\n",
    "print(A)\n",
    "# Creating the time periods\n",
    "t = list(range(0, period))\n",
    "\n",
    "# Plotting the data. Changing size of points.\n",
    "ax.plot(t, N, markersize = 4)\n",
    "\n",
    "# Give a more cleaner look\n",
    "# Removing the top and right spines.\n",
    "ax.spines['top'].set_visible(False)\n",
    "ax.spines['right'].set_visible(False)\n",
    "\n",
    "# Setting label and title\n",
    "ax.set_title('Adoption Count for p = {} and q = {}'.format(p, q))\n",
    "ax.set_ylabel(\"New Customers\")\n",
    "ax.set_xlabel(\"Time (t)\")\n",
    "\n",
    "# Creating a clean layout\n",
    "fig.tight_layout()\n",
    "plt.show()\n"
   ]
  },
  {
   "cell_type": "code",
   "execution_count": 126,
   "id": "3393d1c4",
   "metadata": {
    "scrolled": false
   },
   "outputs": [
    {
     "data": {
      "image/png": "[encoded data removed]",
      "text/plain": [
       "<Figure size 576x504 with 1 Axes>"
      ]
     },
     "metadata": {},
     "output_type": "display_data"
    }
   ],
   "source": [
    "ax2 = plt.gca()\n",
    "# Plotting the cumulative sales\n",
    "ax2.plot(t, A, markersize = 4)\n",
    "\n",
    "# Give a more cleaner look\n",
    "# Removing the top and right spines.\n",
    "ax.spines['top'].set_visible(False)\n",
    "ax.spines['right'].set_visible(False)\n",
    "\n",
    "# Setting label and title\n",
    "ax2.set_title('Adoption Count for p = {} and q = {}'.format(p, q))\n",
    "ax2.set_ylabel(\"Cumulative Sales\")\n",
    "ax2.set_xlabel(\"Time (t)\")\n",
    "\n",
    "# Creating a clean layout\n",
    "fig.tight_layout()\n",
    "plt.show()\n"
   ]
  },
  {
   "cell_type": "code",
   "execution_count": null,
   "id": "c54ce45d",
   "metadata": {},
   "outputs": [],
   "source": []
  }
 ],
 "metadata": {
  "kernelspec": {
   "display_name": "Python 3",
   "language": "python",
   "name": "python3"
  },
  "language_info": {
   "codemirror_mode": {
    "name": "ipython",
    "version": 3
   },
   "file_extension": ".py",
   "mimetype": "text/x-python",
   "name": "python",
   "nbconvert_exporter": "python",
   "pygments_lexer": "ipython3",
   "version": "3.7.4"
  }
 },
 "nbformat": 4,
 "nbformat_minor": 5
}
